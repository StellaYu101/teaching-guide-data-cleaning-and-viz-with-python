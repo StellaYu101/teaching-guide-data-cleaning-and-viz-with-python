{
 "cells": [
  {
   "cell_type": "markdown",
   "metadata": {},
   "source": [
    "# Data cleaning and visualization with pandas\n",
    "\n",
    "This notebook will introduce you to intermediate tasks using the [`pandas`](https://pandas.pydata.org/) data analysis library and demonstrate how to dedupe, clean, group, merge/join and visualize a data set.\n",
    "\n",
    "The data for this exercise will be a CSV of opioid deaths reported in Minnesota. Many examples here are adapted from work by Mary Jo Webster.\n",
    "\n",
    "(If you're completely new to Python or your syntax is rusty, it might be useful to [keep this notebook open in a new tab](Python%20syntax%20cheat%20sheet.ipynb) as a reference.)\n",
    "\n",
    "#### Session outline\n",
    "- [Import pandas; load a csv into a data frame](#Import-pandas;-load-a-csv-into-a-data-frame)\n",
    "- [Inspect the data](#Inspect-the-data)\n",
    "- [Checking for duplicate records](#Checking-for-duplicate-records-with-groupby())\n",
    "- [Renaming a column](#Renaming-a-column)\n",
    "- [Recoding data with lambda()](#Recoding-data-with-lambda())\n",
    "- [Cleaning up inconsistent values](#Cleaning-up-inconsistent-values)\n",
    "- [Visualize the data with a bar chart](#Visualize-the-data-with-a-bar-chart)\n",
    "- [Extracting year from a date](#Extracting-year-from-a-date)\n",
    "- [Merging with other data (Joins)](#Merging-with-other-data)\n",
    "- [Mapping TK](#Mapping-TK)"
   ]
  },
  {
   "cell_type": "markdown",
   "metadata": {},
   "source": [
    "### For reference: Using Jupyter notebooks\n",
    "\n",
    "There are many ways to write and run Python code on your computer. One way -- the method we're using today -- is to use [Jupyter notebooks](https://jupyter.org/), which run in your browser and allow you to intersperse documentation with your code. They're handy for bundling your code with a human-readable explanation of what's happening at each step. Check out some examples from the [L.A. Times](https://github.com/datadesk/notebooks) and [BuzzFeed News](https://github.com/BuzzFeedNews/everything#data-and-analyses).\n",
    "\n",
    "**To add a new cell to your notebook**: Click the + button in the menu.\n",
    "\n",
    "**To run a cell of code**: Select the cell and click the \"Run\" button in the menu, or you can press Shift+Enter.\n",
    "\n",
    "**One common gotcha**: The notebook doesn't \"know\" about code you've written until you've _run_ the cell containing it. For example, if you define a variable called `my_name` in one cell, and later, when you try to access that variable in another cell but get an error that says `NameError: name 'my_name' is not defined`, the most likely solution is to run (or re-run) the cell in which you defined `my_name`."
   ]
  },
  {
   "cell_type": "markdown",
   "metadata": {},
   "source": [
    "### Import pandas; load a csv into a data frame\n",
    "\n",
    "This was covered in more detail in the previous session, so we'll keep moving."
   ]
  },
  {
   "cell_type": "code",
   "execution_count": 5,
   "metadata": {
    "scrolled": true
   },
   "outputs": [
    {
     "data": {
      "text/html": [
       "<div>\n",
       "<style scoped>\n",
       "    .dataframe tbody tr th:only-of-type {\n",
       "        vertical-align: middle;\n",
       "    }\n",
       "\n",
       "    .dataframe tbody tr th {\n",
       "        vertical-align: top;\n",
       "    }\n",
       "\n",
       "    .dataframe thead th {\n",
       "        text-align: right;\n",
       "    }\n",
       "</style>\n",
       "<table border=\"1\" class=\"dataframe\">\n",
       "  <thead>\n",
       "    <tr style=\"text-align: right;\">\n",
       "      <th></th>\n",
       "      <th>STATEID</th>\n",
       "      <th>FIRSTNAME</th>\n",
       "      <th>MIDDLENAME</th>\n",
       "      <th>LASTNAME</th>\n",
       "      <th>MAIDENNAME</th>\n",
       "      <th>SUFFIX</th>\n",
       "      <th>BIRTHDATE</th>\n",
       "      <th>DEATHDATE</th>\n",
       "      <th>GENDER</th>\n",
       "      <th>RACE</th>\n",
       "      <th>...</th>\n",
       "      <th>DEATHCOUNTY</th>\n",
       "      <th>MANNERDEATH</th>\n",
       "      <th>INJURY_DATE</th>\n",
       "      <th>INJURYPLACE</th>\n",
       "      <th>INJURYSTATE</th>\n",
       "      <th>INJURYCOUNTY</th>\n",
       "      <th>INJURY_FIPS</th>\n",
       "      <th>INJURYDESC</th>\n",
       "      <th>CAUSEA</th>\n",
       "      <th>CAUSEB</th>\n",
       "    </tr>\n",
       "  </thead>\n",
       "  <tbody>\n",
       "    <tr>\n",
       "      <th>0</th>\n",
       "      <td>2005-MN-006548</td>\n",
       "      <td>LANCE</td>\n",
       "      <td>NaN</td>\n",
       "      <td>CHOMMIE</td>\n",
       "      <td>NaN</td>\n",
       "      <td>NaN</td>\n",
       "      <td>12/16/1953</td>\n",
       "      <td>2/26/2005</td>\n",
       "      <td>M</td>\n",
       "      <td>White</td>\n",
       "      <td>...</td>\n",
       "      <td>ANOKA</td>\n",
       "      <td>ACCIDENT</td>\n",
       "      <td>NaN</td>\n",
       "      <td>UNKNOWN</td>\n",
       "      <td>UNKNOWN</td>\n",
       "      <td>UNKNOWN</td>\n",
       "      <td>NaN</td>\n",
       "      <td>DECEDENT INGESTED AN UNKNOWN AMOUNT OF OXYCODONE</td>\n",
       "      <td>OXYCODONE TOXICITY</td>\n",
       "      <td>NaN</td>\n",
       "    </tr>\n",
       "    <tr>\n",
       "      <th>1</th>\n",
       "      <td>2005-MN-009829</td>\n",
       "      <td>CARRIE</td>\n",
       "      <td>ANNE</td>\n",
       "      <td>FISCHER</td>\n",
       "      <td>HOLMES</td>\n",
       "      <td>NaN</td>\n",
       "      <td>6/6/1961</td>\n",
       "      <td>3/27/2005</td>\n",
       "      <td>F</td>\n",
       "      <td>White</td>\n",
       "      <td>...</td>\n",
       "      <td>ANOKA</td>\n",
       "      <td>ACCIDENT</td>\n",
       "      <td>NaN</td>\n",
       "      <td>UNKNOWN</td>\n",
       "      <td>UNKNOWN</td>\n",
       "      <td>UNKNOWN</td>\n",
       "      <td>NaN</td>\n",
       "      <td>DECEDENT INJESTED AN UNKNOWN AMOUNT OF MORPHINE</td>\n",
       "      <td>MORPHINE TOXICITY</td>\n",
       "      <td>NaN</td>\n",
       "    </tr>\n",
       "    <tr>\n",
       "      <th>2</th>\n",
       "      <td>2005-MN-023540</td>\n",
       "      <td>ELLIS</td>\n",
       "      <td>RAY</td>\n",
       "      <td>MCGHEE</td>\n",
       "      <td>NaN</td>\n",
       "      <td>NaN</td>\n",
       "      <td>4/4/1963</td>\n",
       "      <td>7/4/2005</td>\n",
       "      <td>M</td>\n",
       "      <td>African American</td>\n",
       "      <td>...</td>\n",
       "      <td>ANOKA</td>\n",
       "      <td>ACCIDENT</td>\n",
       "      <td>NaN</td>\n",
       "      <td>UNSPECIFIED PLACE</td>\n",
       "      <td>UNKNOWN</td>\n",
       "      <td>UNKNOWN</td>\n",
       "      <td>NaN</td>\n",
       "      <td>THE DECEDENT INGESTED AN UNKNOWN AMOUNT OF COC...</td>\n",
       "      <td>MIXED DRUG TOXICITY (COCAINE AND MORPHINE)</td>\n",
       "      <td>NaN</td>\n",
       "    </tr>\n",
       "    <tr>\n",
       "      <th>3</th>\n",
       "      <td>2005-MN-027612</td>\n",
       "      <td>NATHANIEL</td>\n",
       "      <td>RYE</td>\n",
       "      <td>HAMILTON</td>\n",
       "      <td>NaN</td>\n",
       "      <td>NaN</td>\n",
       "      <td>8/14/1976</td>\n",
       "      <td>9/25/2005</td>\n",
       "      <td>M</td>\n",
       "      <td>White</td>\n",
       "      <td>...</td>\n",
       "      <td>ANOKA</td>\n",
       "      <td>ACCIDENT</td>\n",
       "      <td>NaN</td>\n",
       "      <td>UNKNOWN</td>\n",
       "      <td>UNKNOWN</td>\n",
       "      <td>UNKNOWN</td>\n",
       "      <td>NaN</td>\n",
       "      <td>THE DECEDENT INGESTED AN UNKNOWN AMOUNT OF OXY...</td>\n",
       "      <td>MIXED DRUG TOXICITY (OXYCODONE AND ALPRAZOLAM)</td>\n",
       "      <td>NaN</td>\n",
       "    </tr>\n",
       "    <tr>\n",
       "      <th>4</th>\n",
       "      <td>2005-MN-028477</td>\n",
       "      <td>JILL</td>\n",
       "      <td>KRISTINA</td>\n",
       "      <td>BROWN</td>\n",
       "      <td>NaN</td>\n",
       "      <td>NaN</td>\n",
       "      <td>4/14/1982</td>\n",
       "      <td>10/3/2005</td>\n",
       "      <td>F</td>\n",
       "      <td>White</td>\n",
       "      <td>...</td>\n",
       "      <td>ANOKA</td>\n",
       "      <td>SUICIDE</td>\n",
       "      <td>NaN</td>\n",
       "      <td>UNKNOWN</td>\n",
       "      <td>UNKNOWN</td>\n",
       "      <td>UNKNOWN</td>\n",
       "      <td>NaN</td>\n",
       "      <td>DEC INGESTED AN UNKNOWN AMOUNT OF SEROQUEL AND...</td>\n",
       "      <td>QUETIAPINE AND OXYCODONE TOXICITY</td>\n",
       "      <td>NaN</td>\n",
       "    </tr>\n",
       "    <tr>\n",
       "      <th>...</th>\n",
       "      <td>...</td>\n",
       "      <td>...</td>\n",
       "      <td>...</td>\n",
       "      <td>...</td>\n",
       "      <td>...</td>\n",
       "      <td>...</td>\n",
       "      <td>...</td>\n",
       "      <td>...</td>\n",
       "      <td>...</td>\n",
       "      <td>...</td>\n",
       "      <td>...</td>\n",
       "      <td>...</td>\n",
       "      <td>...</td>\n",
       "      <td>...</td>\n",
       "      <td>...</td>\n",
       "      <td>...</td>\n",
       "      <td>...</td>\n",
       "      <td>...</td>\n",
       "      <td>...</td>\n",
       "      <td>...</td>\n",
       "      <td>...</td>\n",
       "    </tr>\n",
       "    <tr>\n",
       "      <th>3802</th>\n",
       "      <td>2016-MN-029127</td>\n",
       "      <td>STEPHEN</td>\n",
       "      <td>KIRK</td>\n",
       "      <td>PATTERSON</td>\n",
       "      <td>NaN</td>\n",
       "      <td>NaN</td>\n",
       "      <td>3/2/1987</td>\n",
       "      <td>8/31/2016</td>\n",
       "      <td>M</td>\n",
       "      <td>White</td>\n",
       "      <td>...</td>\n",
       "      <td>WRIGHT</td>\n",
       "      <td>ACCIDENT</td>\n",
       "      <td>8/31/2016</td>\n",
       "      <td>PRIVATE RESIDENCE</td>\n",
       "      <td>MINNESOTA</td>\n",
       "      <td>WRIGHT</td>\n",
       "      <td>27171.0</td>\n",
       "      <td>THE DECEDENT SELF-ADMINISTERED HEROIN AND ETHANOL</td>\n",
       "      <td>MIXED HEROIN AND ALCOHOL TOXICITY</td>\n",
       "      <td>NaN</td>\n",
       "    </tr>\n",
       "    <tr>\n",
       "      <th>3803</th>\n",
       "      <td>2017-MN-018317</td>\n",
       "      <td>TIMOTHY</td>\n",
       "      <td>ROBERT</td>\n",
       "      <td>WARD</td>\n",
       "      <td>NaN</td>\n",
       "      <td>NaN</td>\n",
       "      <td>4/13/1966</td>\n",
       "      <td>5/26/2017</td>\n",
       "      <td>M</td>\n",
       "      <td>White</td>\n",
       "      <td>...</td>\n",
       "      <td>WRIGHT</td>\n",
       "      <td>ACCIDENT</td>\n",
       "      <td>NaN</td>\n",
       "      <td>PRIVATE RESIDENCE</td>\n",
       "      <td>MINNESOTA</td>\n",
       "      <td>WRIGHT</td>\n",
       "      <td>27171.0</td>\n",
       "      <td>THE DECEDENT SELF-ADMINISTERED EXCESSIVE OXYCO...</td>\n",
       "      <td>OXYCODONE OVERDOSE</td>\n",
       "      <td>NaN</td>\n",
       "    </tr>\n",
       "    <tr>\n",
       "      <th>3804</th>\n",
       "      <td>2017-MN-024845</td>\n",
       "      <td>AUSTIN</td>\n",
       "      <td>ADRIAN</td>\n",
       "      <td>HILL</td>\n",
       "      <td>NaN</td>\n",
       "      <td>NaN</td>\n",
       "      <td>12/5/1996</td>\n",
       "      <td>7/23/2017</td>\n",
       "      <td>M</td>\n",
       "      <td>White</td>\n",
       "      <td>...</td>\n",
       "      <td>WRIGHT</td>\n",
       "      <td>ACCIDENT</td>\n",
       "      <td>NaN</td>\n",
       "      <td>PRIVATE RESIDENCE</td>\n",
       "      <td>MINNESOTA</td>\n",
       "      <td>WRIGHT</td>\n",
       "      <td>27171.0</td>\n",
       "      <td>THE DECEDENT USED ILLICIT FENTANYL</td>\n",
       "      <td>FENTANYL TOXICITY</td>\n",
       "      <td>NaN</td>\n",
       "    </tr>\n",
       "    <tr>\n",
       "      <th>3805</th>\n",
       "      <td>2014-MN-009504</td>\n",
       "      <td>STEPHANIE</td>\n",
       "      <td>PAIGE</td>\n",
       "      <td>LABATTE</td>\n",
       "      <td>NaN</td>\n",
       "      <td>NaN</td>\n",
       "      <td>1/14/1984</td>\n",
       "      <td>3/23/2014</td>\n",
       "      <td>F</td>\n",
       "      <td>American Indian</td>\n",
       "      <td>...</td>\n",
       "      <td>YELLOW MEDICINE</td>\n",
       "      <td>ACCIDENT</td>\n",
       "      <td>3/23/2014</td>\n",
       "      <td>PROJECT TURNABOUT</td>\n",
       "      <td>MINNESOTA</td>\n",
       "      <td>YELLOW MEDICINE</td>\n",
       "      <td>27173.0</td>\n",
       "      <td>OVERDOSE OF FENTANYL.  STEPHANIE LABATTE INGES...</td>\n",
       "      <td>OVERDOSE OF FENTANYL</td>\n",
       "      <td>DEPRESSION</td>\n",
       "    </tr>\n",
       "    <tr>\n",
       "      <th>3806</th>\n",
       "      <td>2014-MN-039821</td>\n",
       "      <td>LISA</td>\n",
       "      <td>LYNN</td>\n",
       "      <td>LALIM</td>\n",
       "      <td>LALIM</td>\n",
       "      <td>NaN</td>\n",
       "      <td>2/27/1971</td>\n",
       "      <td>12/20/2014</td>\n",
       "      <td>F</td>\n",
       "      <td>White</td>\n",
       "      <td>...</td>\n",
       "      <td>YELLOW MEDICINE</td>\n",
       "      <td>SUICIDE</td>\n",
       "      <td>NaN</td>\n",
       "      <td>UNKNOWN</td>\n",
       "      <td>MINNESOTA</td>\n",
       "      <td>YELLOW MEDICINE</td>\n",
       "      <td>27173.0</td>\n",
       "      <td>THE DECEASED INGESTED AN EXCESS OF THE ABOVE S...</td>\n",
       "      <td>MIXED DRUG TOXICITY (TRAMADOL, DIPHENHYDRAMINE...</td>\n",
       "      <td>NaN</td>\n",
       "    </tr>\n",
       "  </tbody>\n",
       "</table>\n",
       "<p>3807 rows × 34 columns</p>\n",
       "</div>"
      ],
      "text/plain": [
       "             STATEID  FIRSTNAME MIDDLENAME   LASTNAME MAIDENNAME SUFFIX  \\\n",
       "0     2005-MN-006548      LANCE        NaN    CHOMMIE        NaN    NaN   \n",
       "1     2005-MN-009829     CARRIE       ANNE    FISCHER     HOLMES    NaN   \n",
       "2     2005-MN-023540      ELLIS        RAY     MCGHEE        NaN    NaN   \n",
       "3     2005-MN-027612  NATHANIEL        RYE   HAMILTON        NaN    NaN   \n",
       "4     2005-MN-028477       JILL   KRISTINA      BROWN        NaN    NaN   \n",
       "...              ...        ...        ...        ...        ...    ...   \n",
       "3802  2016-MN-029127    STEPHEN       KIRK  PATTERSON        NaN    NaN   \n",
       "3803  2017-MN-018317    TIMOTHY     ROBERT       WARD        NaN    NaN   \n",
       "3804  2017-MN-024845     AUSTIN     ADRIAN       HILL        NaN    NaN   \n",
       "3805  2014-MN-009504  STEPHANIE      PAIGE    LABATTE        NaN    NaN   \n",
       "3806  2014-MN-039821       LISA       LYNN      LALIM      LALIM    NaN   \n",
       "\n",
       "       BIRTHDATE   DEATHDATE GENDER              RACE  ...      DEATHCOUNTY  \\\n",
       "0     12/16/1953   2/26/2005      M             White  ...            ANOKA   \n",
       "1       6/6/1961   3/27/2005      F             White  ...            ANOKA   \n",
       "2       4/4/1963    7/4/2005      M  African American  ...            ANOKA   \n",
       "3      8/14/1976   9/25/2005      M             White  ...            ANOKA   \n",
       "4      4/14/1982   10/3/2005      F             White  ...            ANOKA   \n",
       "...          ...         ...    ...               ...  ...              ...   \n",
       "3802    3/2/1987   8/31/2016      M             White  ...           WRIGHT   \n",
       "3803   4/13/1966   5/26/2017      M             White  ...           WRIGHT   \n",
       "3804   12/5/1996   7/23/2017      M             White  ...           WRIGHT   \n",
       "3805   1/14/1984   3/23/2014      F   American Indian  ...  YELLOW MEDICINE   \n",
       "3806   2/27/1971  12/20/2014      F             White  ...  YELLOW MEDICINE   \n",
       "\n",
       "      MANNERDEATH INJURY_DATE        INJURYPLACE INJURYSTATE     INJURYCOUNTY  \\\n",
       "0        ACCIDENT         NaN            UNKNOWN     UNKNOWN          UNKNOWN   \n",
       "1        ACCIDENT         NaN            UNKNOWN     UNKNOWN          UNKNOWN   \n",
       "2        ACCIDENT         NaN  UNSPECIFIED PLACE     UNKNOWN          UNKNOWN   \n",
       "3        ACCIDENT         NaN            UNKNOWN     UNKNOWN          UNKNOWN   \n",
       "4         SUICIDE         NaN            UNKNOWN     UNKNOWN          UNKNOWN   \n",
       "...           ...         ...                ...         ...              ...   \n",
       "3802     ACCIDENT   8/31/2016  PRIVATE RESIDENCE   MINNESOTA           WRIGHT   \n",
       "3803     ACCIDENT         NaN  PRIVATE RESIDENCE   MINNESOTA           WRIGHT   \n",
       "3804     ACCIDENT         NaN  PRIVATE RESIDENCE   MINNESOTA           WRIGHT   \n",
       "3805     ACCIDENT   3/23/2014  PROJECT TURNABOUT   MINNESOTA  YELLOW MEDICINE   \n",
       "3806      SUICIDE         NaN            UNKNOWN   MINNESOTA  YELLOW MEDICINE   \n",
       "\n",
       "     INJURY_FIPS                                         INJURYDESC  \\\n",
       "0            NaN   DECEDENT INGESTED AN UNKNOWN AMOUNT OF OXYCODONE   \n",
       "1            NaN    DECEDENT INJESTED AN UNKNOWN AMOUNT OF MORPHINE   \n",
       "2            NaN  THE DECEDENT INGESTED AN UNKNOWN AMOUNT OF COC...   \n",
       "3            NaN  THE DECEDENT INGESTED AN UNKNOWN AMOUNT OF OXY...   \n",
       "4            NaN  DEC INGESTED AN UNKNOWN AMOUNT OF SEROQUEL AND...   \n",
       "...          ...                                                ...   \n",
       "3802     27171.0  THE DECEDENT SELF-ADMINISTERED HEROIN AND ETHANOL   \n",
       "3803     27171.0  THE DECEDENT SELF-ADMINISTERED EXCESSIVE OXYCO...   \n",
       "3804     27171.0                 THE DECEDENT USED ILLICIT FENTANYL   \n",
       "3805     27173.0  OVERDOSE OF FENTANYL.  STEPHANIE LABATTE INGES...   \n",
       "3806     27173.0  THE DECEASED INGESTED AN EXCESS OF THE ABOVE S...   \n",
       "\n",
       "                                                 CAUSEA      CAUSEB  \n",
       "0                                    OXYCODONE TOXICITY         NaN  \n",
       "1                                     MORPHINE TOXICITY         NaN  \n",
       "2            MIXED DRUG TOXICITY (COCAINE AND MORPHINE)         NaN  \n",
       "3        MIXED DRUG TOXICITY (OXYCODONE AND ALPRAZOLAM)         NaN  \n",
       "4                     QUETIAPINE AND OXYCODONE TOXICITY         NaN  \n",
       "...                                                 ...         ...  \n",
       "3802                  MIXED HEROIN AND ALCOHOL TOXICITY         NaN  \n",
       "3803                                 OXYCODONE OVERDOSE         NaN  \n",
       "3804                                  FENTANYL TOXICITY         NaN  \n",
       "3805                               OVERDOSE OF FENTANYL  DEPRESSION  \n",
       "3806  MIXED DRUG TOXICITY (TRAMADOL, DIPHENHYDRAMINE...         NaN  \n",
       "\n",
       "[3807 rows x 34 columns]"
      ]
     },
     "execution_count": 5,
     "metadata": {},
     "output_type": "execute_result"
    }
   ],
   "source": [
    "import pandas as pd\n",
    "df = pd.read_csv('data/opiate_deaths.csv')\n",
    "df"
   ]
  },
  {
   "cell_type": "markdown",
   "metadata": {},
   "source": [
    "### Inspect the data\n",
    "\n",
    "Let's quickly check what columns are in our data..."
   ]
  },
  {
   "cell_type": "code",
   "execution_count": 2,
   "metadata": {},
   "outputs": [
    {
     "data": {
      "text/plain": [
       "Index(['STATEID', 'FIRSTNAME', 'MIDDLENAME', 'LASTNAME', 'MAIDENNAME',\n",
       "       'SUFFIX', 'BIRTHDATE', 'DEATHDATE', 'GENDER', 'RACE',\n",
       "       'HISPANICETHNICITY', 'AGEYEARS', 'RESADDRESS', 'RESSTATE', 'RESCITY',\n",
       "       'RESCOUNTY', 'ZIP', 'ARMEDFORCES', 'YEARSEDUCATION', 'OCCUPATION',\n",
       "       'INDUSTRY', 'MARITALSTATUS', 'PLACETYPE', 'DEATHCITY', 'DEATHCOUNTY',\n",
       "       'MANNERDEATH', 'INJURY_DATE', 'INJURYPLACE', 'INJURYSTATE',\n",
       "       'INJURYCOUNTY', 'INJURY_FIPS', 'INJURYDESC', 'CAUSEA', 'CAUSEB'],\n",
       "      dtype='object')"
      ]
     },
     "execution_count": 2,
     "metadata": {},
     "output_type": "execute_result"
    }
   ],
   "source": [
    "df.columns"
   ]
  },
  {
   "cell_type": "markdown",
   "metadata": {},
   "source": [
    "... and see how many rows and columns are in the data"
   ]
  },
  {
   "cell_type": "code",
   "execution_count": 3,
   "metadata": {},
   "outputs": [
    {
     "data": {
      "text/plain": [
       "(3807, 34)"
      ]
     },
     "execution_count": 3,
     "metadata": {},
     "output_type": "execute_result"
    }
   ],
   "source": [
    "df.shape"
   ]
  },
  {
   "cell_type": "markdown",
   "metadata": {},
   "source": [
    "## Cleaning your data\n",
    "\n",
    "When you receive data, it will almost always need some cleanup to be ready for analysis and/or display. There are some common issues to look for when you have acquired a new dataset.\n",
    "\n",
    "- Duplicate records\n",
    "- Misspellings\n",
    "- Inconsistent category/variable names\n",
    "- Null or empty (`''`) values that may affect calculations"
   ]
  },
  {
   "cell_type": "markdown",
   "metadata": {},
   "source": [
    "### Checking for duplicate records with groupby()\n",
    "\n",
    "Each record has a `STATEID`, which seems to imply that each row represents a unique death. But how do we know? We can use the `groupby()` method to count how many times each `STATEID` value appears. If each row is a unique person or case, there should be only 1 copy of each value.\n",
    "\n",
    "In pandas we can chain several methods together to achieve our desired output.\n",
    "\n",
    "Here's the full command (we'll break down the details next):"
   ]
  },
  {
   "cell_type": "code",
   "execution_count": 4,
   "metadata": {},
   "outputs": [
    {
     "data": {
      "text/html": [
       "<div>\n",
       "<style scoped>\n",
       "    .dataframe tbody tr th:only-of-type {\n",
       "        vertical-align: middle;\n",
       "    }\n",
       "\n",
       "    .dataframe tbody tr th {\n",
       "        vertical-align: top;\n",
       "    }\n",
       "\n",
       "    .dataframe thead th {\n",
       "        text-align: right;\n",
       "    }\n",
       "</style>\n",
       "<table border=\"1\" class=\"dataframe\">\n",
       "  <thead>\n",
       "    <tr style=\"text-align: right;\">\n",
       "      <th></th>\n",
       "      <th>STATEID</th>\n",
       "      <th>DEATHCITY</th>\n",
       "    </tr>\n",
       "  </thead>\n",
       "  <tbody>\n",
       "    <tr>\n",
       "      <th>0</th>\n",
       "      <td>2005-MN-000344</td>\n",
       "      <td>1</td>\n",
       "    </tr>\n",
       "    <tr>\n",
       "      <th>2543</th>\n",
       "      <td>2014-MN-037772</td>\n",
       "      <td>1</td>\n",
       "    </tr>\n",
       "    <tr>\n",
       "      <th>2531</th>\n",
       "      <td>2014-MN-035649</td>\n",
       "      <td>1</td>\n",
       "    </tr>\n",
       "    <tr>\n",
       "      <th>2532</th>\n",
       "      <td>2014-MN-035971</td>\n",
       "      <td>1</td>\n",
       "    </tr>\n",
       "    <tr>\n",
       "      <th>2533</th>\n",
       "      <td>2014-MN-036080</td>\n",
       "      <td>1</td>\n",
       "    </tr>\n",
       "    <tr>\n",
       "      <th>...</th>\n",
       "      <td>...</td>\n",
       "      <td>...</td>\n",
       "    </tr>\n",
       "    <tr>\n",
       "      <th>1273</th>\n",
       "      <td>2010-MN-035079</td>\n",
       "      <td>1</td>\n",
       "    </tr>\n",
       "    <tr>\n",
       "      <th>1274</th>\n",
       "      <td>2010-MN-035176</td>\n",
       "      <td>1</td>\n",
       "    </tr>\n",
       "    <tr>\n",
       "      <th>1275</th>\n",
       "      <td>2010-MN-035257</td>\n",
       "      <td>1</td>\n",
       "    </tr>\n",
       "    <tr>\n",
       "      <th>1276</th>\n",
       "      <td>2010-MN-035518</td>\n",
       "      <td>1</td>\n",
       "    </tr>\n",
       "    <tr>\n",
       "      <th>3806</th>\n",
       "      <td>2017-MN-044531</td>\n",
       "      <td>1</td>\n",
       "    </tr>\n",
       "  </tbody>\n",
       "</table>\n",
       "<p>3807 rows × 2 columns</p>\n",
       "</div>"
      ],
      "text/plain": [
       "             STATEID  DEATHCITY\n",
       "0     2005-MN-000344          1\n",
       "2543  2014-MN-037772          1\n",
       "2531  2014-MN-035649          1\n",
       "2532  2014-MN-035971          1\n",
       "2533  2014-MN-036080          1\n",
       "...              ...        ...\n",
       "1273  2010-MN-035079          1\n",
       "1274  2010-MN-035176          1\n",
       "1275  2010-MN-035257          1\n",
       "1276  2010-MN-035518          1\n",
       "3806  2017-MN-044531          1\n",
       "\n",
       "[3807 rows x 2 columns]"
      ]
     },
     "execution_count": 4,
     "metadata": {},
     "output_type": "execute_result"
    }
   ],
   "source": [
    "df[['STATEID', 'DEATHCITY']].groupby('STATEID').count().reset_index().sort_values('DEATHCITY', ascending=False)"
   ]
  },
  {
   "cell_type": "markdown",
   "metadata": {},
   "source": [
    "### Groupby, one piece at a time\n",
    "\n",
    "First, let's run our groupby on a subset of the data:\n",
    "\n",
    "`df[['STATEID', 'DEATHCITY']]`\n",
    "\n",
    "This will return a view of the dataframe that only includes the STATEID and DEATHCITY columns.\n",
    "\n",
    "Why do we even need `DEATHCITY` in this case? Because `groupby()` calls need at least two fields to work right. One or more fields that we are grouping on (`STATEID` in this case), and another field to be counted.\n",
    "\n",
    "`df[['STATEID', 'DEATHCITY']].groupby('STATEID')`\n",
    "\n",
    "And we'll add a `count()` call to tell pandas that we want to count the number of rows in each group, as opposed to other methods like summing or finding the average of that group.\n",
    "\n",
    "`df[['STATEID', 'DEATHCITY']].groupby('STATEID').count()`\n",
    "\n",
    "Next we need to include a weird pandas thing, `reset_index()` This is because otherwise, when performing a groupby, pandas will produce a MultiIndex, which is more complex than we need.\n",
    "\n",
    "`df[['STATEID', 'DEATHCITY']].groupby('STATEID').count().reset_index()`\n",
    "\n",
    "And finally we'll sort the results by our counted column, `DEATHCITY`. We want to surface any non-unique `STATEID`s, so we'll sort in descending order.\n",
    "\n",
    "`df[['STATEID', 'DEATHCITY']].groupby('STATEID').count().reset_index().sort_values('DEATHCITY', ascending=False)`"
   ]
  },
  {
   "cell_type": "markdown",
   "metadata": {},
   "source": [
    "Great news, the highest count is 1, meaning there are no `STATEID`s that occur more than once."
   ]
  },
  {
   "cell_type": "markdown",
   "metadata": {},
   "source": [
    "### ✍️ Your turn\n",
    "\n",
    "Let's find out how many deaths occured in each city. Take the next few minutes to see if you can group the datafame by the `DEATHCITY` column and count the number of rows from each city.\n",
    "\n",
    "Here's a start for you to build on:"
   ]
  },
  {
   "cell_type": "code",
   "execution_count": 6,
   "metadata": {},
   "outputs": [],
   "source": [
    "deaths_by_city = df[['DEATHCITY', 'STATEID']]  # Your code herey..."
   ]
  },
  {
   "cell_type": "code",
   "execution_count": 6,
   "metadata": {},
   "outputs": [
    {
     "data": {
      "text/html": [
       "<div>\n",
       "<style scoped>\n",
       "    .dataframe tbody tr th:only-of-type {\n",
       "        vertical-align: middle;\n",
       "    }\n",
       "\n",
       "    .dataframe tbody tr th {\n",
       "        vertical-align: top;\n",
       "    }\n",
       "\n",
       "    .dataframe thead th {\n",
       "        text-align: right;\n",
       "    }\n",
       "</style>\n",
       "<table border=\"1\" class=\"dataframe\">\n",
       "  <thead>\n",
       "    <tr style=\"text-align: right;\">\n",
       "      <th></th>\n",
       "      <th>DEATHCITY</th>\n",
       "      <th>STATEID</th>\n",
       "    </tr>\n",
       "  </thead>\n",
       "  <tbody>\n",
       "    <tr>\n",
       "      <th>241</th>\n",
       "      <td>MINNEAPOLIS</td>\n",
       "      <td>829</td>\n",
       "    </tr>\n",
       "    <tr>\n",
       "      <th>341</th>\n",
       "      <td>SAINT PAUL</td>\n",
       "      <td>285</td>\n",
       "    </tr>\n",
       "    <tr>\n",
       "      <th>98</th>\n",
       "      <td>DULUTH</td>\n",
       "      <td>138</td>\n",
       "    </tr>\n",
       "    <tr>\n",
       "      <th>337</th>\n",
       "      <td>SAINT CLOUD</td>\n",
       "      <td>93</td>\n",
       "    </tr>\n",
       "    <tr>\n",
       "      <th>325</th>\n",
       "      <td>ROCHESTER</td>\n",
       "      <td>89</td>\n",
       "    </tr>\n",
       "    <tr>\n",
       "      <th>...</th>\n",
       "      <td>...</td>\n",
       "      <td>...</td>\n",
       "    </tr>\n",
       "    <tr>\n",
       "      <th>249</th>\n",
       "      <td>MOOSE LAKE</td>\n",
       "      <td>1</td>\n",
       "    </tr>\n",
       "    <tr>\n",
       "      <th>251</th>\n",
       "      <td>MORRILL TOWNSHIP</td>\n",
       "      <td>1</td>\n",
       "    </tr>\n",
       "    <tr>\n",
       "      <th>253</th>\n",
       "      <td>MORRISTOWN</td>\n",
       "      <td>1</td>\n",
       "    </tr>\n",
       "    <tr>\n",
       "      <th>254</th>\n",
       "      <td>MORTON</td>\n",
       "      <td>1</td>\n",
       "    </tr>\n",
       "    <tr>\n",
       "      <th>0</th>\n",
       "      <td>ADAMS</td>\n",
       "      <td>1</td>\n",
       "    </tr>\n",
       "  </tbody>\n",
       "</table>\n",
       "<p>415 rows × 2 columns</p>\n",
       "</div>"
      ],
      "text/plain": [
       "            DEATHCITY  STATEID\n",
       "241       MINNEAPOLIS      829\n",
       "341        SAINT PAUL      285\n",
       "98             DULUTH      138\n",
       "337       SAINT CLOUD       93\n",
       "325         ROCHESTER       89\n",
       "..                ...      ...\n",
       "249        MOOSE LAKE        1\n",
       "251  MORRILL TOWNSHIP        1\n",
       "253        MORRISTOWN        1\n",
       "254            MORTON        1\n",
       "0               ADAMS        1\n",
       "\n",
       "[415 rows x 2 columns]"
      ]
     },
     "execution_count": 6,
     "metadata": {},
     "output_type": "execute_result"
    }
   ],
   "source": [
    "# Remove before class\n",
    "deaths_by_city = df[['DEATHCITY', 'STATEID']].groupby('DEATHCITY').count().reset_index().sort_values('STATEID', ascending=False)\n",
    "deaths_by_city"
   ]
  },
  {
   "cell_type": "markdown",
   "metadata": {},
   "source": [
    "### Renaming a column\n",
    "\n",
    "It's confusing that the count of cities is held in a column called `STATEID`, which doesn't really have any meaning. It's always a good idea to have column headers that you can clearly understand, so let's rename the `STATEID` column in our `groupby()` to `death_count`. Note that this does NOT change the `STATEID` column in the original dataframe, as we are now working on a copy of a subset of that original data."
   ]
  },
  {
   "cell_type": "code",
   "execution_count": 7,
   "metadata": {},
   "outputs": [
    {
     "name": "stderr",
     "output_type": "stream",
     "text": [
      "/Users/akanik/.virtualenvs/teaching-guide-data-cleaning-and-viz-with--Yo5GS_kn/lib/python3.7/site-packages/pandas/core/frame.py:4238: SettingWithCopyWarning: \n",
      "A value is trying to be set on a copy of a slice from a DataFrame\n",
      "\n",
      "See the caveats in the documentation: http://pandas.pydata.org/pandas-docs/stable/user_guide/indexing.html#returning-a-view-versus-a-copy\n",
      "  return super().rename(**kwargs)\n"
     ]
    },
    {
     "data": {
      "text/html": [
       "<div>\n",
       "<style scoped>\n",
       "    .dataframe tbody tr th:only-of-type {\n",
       "        vertical-align: middle;\n",
       "    }\n",
       "\n",
       "    .dataframe tbody tr th {\n",
       "        vertical-align: top;\n",
       "    }\n",
       "\n",
       "    .dataframe thead th {\n",
       "        text-align: right;\n",
       "    }\n",
       "</style>\n",
       "<table border=\"1\" class=\"dataframe\">\n",
       "  <thead>\n",
       "    <tr style=\"text-align: right;\">\n",
       "      <th></th>\n",
       "      <th>DEATHCITY</th>\n",
       "      <th>death_count</th>\n",
       "    </tr>\n",
       "  </thead>\n",
       "  <tbody>\n",
       "    <tr>\n",
       "      <th>0</th>\n",
       "      <td>COON RAPIDS</td>\n",
       "      <td>2005-MN-006548</td>\n",
       "    </tr>\n",
       "    <tr>\n",
       "      <th>1</th>\n",
       "      <td>COLUMBIA HEIGHTS</td>\n",
       "      <td>2005-MN-009829</td>\n",
       "    </tr>\n",
       "    <tr>\n",
       "      <th>2</th>\n",
       "      <td>COLUMBIA HEIGHTS</td>\n",
       "      <td>2005-MN-023540</td>\n",
       "    </tr>\n",
       "    <tr>\n",
       "      <th>3</th>\n",
       "      <td>COON RAPIDS</td>\n",
       "      <td>2005-MN-027612</td>\n",
       "    </tr>\n",
       "    <tr>\n",
       "      <th>4</th>\n",
       "      <td>BLAINE</td>\n",
       "      <td>2005-MN-028477</td>\n",
       "    </tr>\n",
       "    <tr>\n",
       "      <th>...</th>\n",
       "      <td>...</td>\n",
       "      <td>...</td>\n",
       "    </tr>\n",
       "    <tr>\n",
       "      <th>3802</th>\n",
       "      <td>MONTROSE</td>\n",
       "      <td>2016-MN-029127</td>\n",
       "    </tr>\n",
       "    <tr>\n",
       "      <th>3803</th>\n",
       "      <td>DELANO</td>\n",
       "      <td>2017-MN-018317</td>\n",
       "    </tr>\n",
       "    <tr>\n",
       "      <th>3804</th>\n",
       "      <td>ROCKFORD TOWNSHIP</td>\n",
       "      <td>2017-MN-024845</td>\n",
       "    </tr>\n",
       "    <tr>\n",
       "      <th>3805</th>\n",
       "      <td>GRANITE FALLS</td>\n",
       "      <td>2014-MN-009504</td>\n",
       "    </tr>\n",
       "    <tr>\n",
       "      <th>3806</th>\n",
       "      <td>ECHO</td>\n",
       "      <td>2014-MN-039821</td>\n",
       "    </tr>\n",
       "  </tbody>\n",
       "</table>\n",
       "<p>3807 rows × 2 columns</p>\n",
       "</div>"
      ],
      "text/plain": [
       "              DEATHCITY     death_count\n",
       "0           COON RAPIDS  2005-MN-006548\n",
       "1      COLUMBIA HEIGHTS  2005-MN-009829\n",
       "2      COLUMBIA HEIGHTS  2005-MN-023540\n",
       "3           COON RAPIDS  2005-MN-027612\n",
       "4                BLAINE  2005-MN-028477\n",
       "...                 ...             ...\n",
       "3802           MONTROSE  2016-MN-029127\n",
       "3803             DELANO  2017-MN-018317\n",
       "3804  ROCKFORD TOWNSHIP  2017-MN-024845\n",
       "3805      GRANITE FALLS  2014-MN-009504\n",
       "3806               ECHO  2014-MN-039821\n",
       "\n",
       "[3807 rows x 2 columns]"
      ]
     },
     "execution_count": 7,
     "metadata": {},
     "output_type": "execute_result"
    }
   ],
   "source": [
    "deaths_by_city.rename(columns={'STATEID': 'death_count'}, inplace=True)\n",
    "deaths_by_city"
   ]
  },
  {
   "cell_type": "markdown",
   "metadata": {},
   "source": [
    "**A note on `inplace=True`:** \n",
    "\n",
    "Most functions that you run on your dataframes need to be assigned to variables in order to be accessed at a later time. For example, if we were to write...\n",
    "\n",
    "`df['DEATHCITY'].drop_duplicates()`\n",
    "\n",
    "... to get a listing of unique cities in which people died, that would not affect our dataframe `df`. If we wanted it to store that new data somewhere to access later, we would would have to write:\n",
    "\n",
    "`unique_cities = df['DEATHCITY'].drop_duplicates()`\n",
    "\n",
    "We could also add `inplace=True`  the function without assigning it to a variable and the dataframe will be changed:\n",
    "\n",
    "`df['DEATHCITY'].drop_duplicates(inplace=True)`"
   ]
  },
  {
   "cell_type": "markdown",
   "metadata": {},
   "source": [
    "### Recoding data with lambda()\n",
    "\n",
    "We can also use pandas to change the data values to something more presentable or consistent. For example, let's look at the unique values for the `GENDER` column:"
   ]
  },
  {
   "cell_type": "code",
   "execution_count": 8,
   "metadata": {},
   "outputs": [
    {
     "data": {
      "text/plain": [
       "array(['M', 'F'], dtype=object)"
      ]
     },
     "execution_count": 8,
     "metadata": {},
     "output_type": "execute_result"
    }
   ],
   "source": [
    "df.GENDER.unique()"
   ]
  },
  {
   "cell_type": "markdown",
   "metadata": {},
   "source": [
    "Let's change all the values in `GENDER` to the slightly more user-friendly `Male` and `Female`. We'll use a lambda function. A lambda function is shorthand way of writing what you would like to do to each row of data in this column. It's usually safer to add a new column than to change the underlying data, so we'll create a new column called `gender_clean`, and populate it with values from the `GENDER` column that we have run through our little lambda factory."
   ]
  },
  {
   "cell_type": "code",
   "execution_count": 9,
   "metadata": {},
   "outputs": [
    {
     "data": {
      "text/plain": [
       "0         Male\n",
       "1       Female\n",
       "2         Male\n",
       "3         Male\n",
       "4       Female\n",
       "         ...  \n",
       "3802      Male\n",
       "3803      Male\n",
       "3804      Male\n",
       "3805    Female\n",
       "3806    Female\n",
       "Name: gender_clean, Length: 3807, dtype: object"
      ]
     },
     "execution_count": 9,
     "metadata": {},
     "output_type": "execute_result"
    }
   ],
   "source": [
    "df['gender_clean'] = df['GENDER'].apply(lambda x: 'Male' if x == 'M' else 'Female')\n",
    "df['gender_clean']"
   ]
  },
  {
   "cell_type": "markdown",
   "metadata": {},
   "source": [
    "In this case, each row was either labeled M or F, but our basic `if this, else that` logic is too naive for most real-world situations. For example, what if some rows had a value of `NA` or were null? In the above function, those rows would have gotten erroneously marked as `Female`. That's correction waiting to happen."
   ]
  },
  {
   "cell_type": "markdown",
   "metadata": {},
   "source": [
    "### A slightly more complex `lambda()`\n",
    "\n",
    "To introduce more complex logic, we'll still use a lambda(). But instead of cramming the logic of what we want to do into one line, we'll use the lambda to apply an external function to each row.\n",
    "\n",
    "Here's the function we'll apply to each row:"
   ]
  },
  {
   "cell_type": "code",
   "execution_count": 10,
   "metadata": {},
   "outputs": [],
   "source": [
    "def decode_gender(input):\n",
    "    if input == 'M':\n",
    "        return 'Male'\n",
    "    elif input == 'F':\n",
    "        return 'Female'\n",
    "    else:\n",
    "        return None"
   ]
  },
  {
   "cell_type": "markdown",
   "metadata": {},
   "source": [
    "We may not have thought of every possible exception, but at least we won't wrongly assign some values to either male or female.\n",
    "\n",
    "Now let's apply the `decode_gender` function to each row's `GENDER` column using lambda."
   ]
  },
  {
   "cell_type": "code",
   "execution_count": 11,
   "metadata": {},
   "outputs": [
    {
     "data": {
      "text/plain": [
       "0      Male\n",
       "1    Female\n",
       "Name: gender_clean, dtype: object"
      ]
     },
     "execution_count": 11,
     "metadata": {},
     "output_type": "execute_result"
    }
   ],
   "source": [
    "df['gender_clean'] = df['GENDER'].apply(lambda x: decode_gender(x))\n",
    "df['gender_clean'].drop_duplicates()"
   ]
  },
  {
   "cell_type": "markdown",
   "metadata": {},
   "source": [
    "### Cleaning up inconsistent values\n",
    "\n",
    "Now let's take a look at the values in the `HISPANICETHNICITY` column:"
   ]
  },
  {
   "cell_type": "code",
   "execution_count": 12,
   "metadata": {},
   "outputs": [
    {
     "data": {
      "text/plain": [
       "array(['NOT HISPANIC', 'HISPANIC', 'UNKNOWN', 'non-hispanic', 'hispanic',\n",
       "       'NON-HISPANIC', 'not hispanic', 'NOT-HISPANIC'], dtype=object)"
      ]
     },
     "execution_count": 12,
     "metadata": {},
     "output_type": "execute_result"
    }
   ],
   "source": [
    "df.HISPANICETHNICITY.unique()"
   ]
  },
  {
   "cell_type": "markdown",
   "metadata": {},
   "source": [
    "Whoa, kind of a mess! We can't easily groupby these values right now because of the inconsistent capitalization and spelling.\n",
    "\n",
    "One way to harmonize data in a column is to set all of the letters to uppercase. We'll start a new `hispanic_clean` column to avoid introducing errors into our original `HISPANICETHNICITY` column."
   ]
  },
  {
   "cell_type": "code",
   "execution_count": 12,
   "metadata": {},
   "outputs": [
    {
     "data": {
      "text/plain": [
       "array(['NOT HISPANIC', 'HISPANIC', 'UNKNOWN', 'NON-HISPANIC',\n",
       "       'NOT-HISPANIC'], dtype=object)"
      ]
     },
     "execution_count": 12,
     "metadata": {},
     "output_type": "execute_result"
    }
   ],
   "source": [
    "df['hispanic_clean'] = df['HISPANICETHNICITY'].str.upper()\n",
    "df['hispanic_clean'].unique()"
   ]
  },
  {
   "cell_type": "markdown",
   "metadata": {},
   "source": [
    "OK, we cut our 8 unique values down to 5. But we still have inconsistencies in the spelling and hyphenation.\n",
    "\n",
    "Let's deal with the simple hyphens first, by searching for and replacing instances of `NON HISPANIC`, sans hyphen. You'll notice that now we're modifying `hispanic_clean`, which we just created, directly. If we ran this against the original `HISPANICETHNICITY` column, we'd mess up some of our previous work on `hispanic_clean`.\n",
    "\n",
    "Like most search and replace functions, the arguments passed to `replace()` are writtin the order of `1. Needle` in the `2. Haystack` you are searching through."
   ]
  },
  {
   "cell_type": "code",
   "execution_count": 13,
   "metadata": {},
   "outputs": [
    {
     "data": {
      "text/plain": [
       "array(['NOT HISPANIC', 'HISPANIC', 'UNKNOWN', 'NON-HISPANIC',\n",
       "       'NOT-HISPANIC'], dtype=object)"
      ]
     },
     "execution_count": 13,
     "metadata": {},
     "output_type": "execute_result"
    }
   ],
   "source": [
    "df['hispanic_clean'] = df['hispanic_clean'].str.replace('NON HISPANIC', 'NON-HISPANIC')\n",
    "df['hispanic_clean'].unique()"
   ]
  },
  {
   "cell_type": "markdown",
   "metadata": {},
   "source": [
    "Better again! Now let's tackle the `NOT HISPANIC` rows, some of which have a hyphen and some that don't. We could write two lines that are similar to what we just did, but let's throw in a regular expression that can account for cases both with and without the hyphen.\n",
    "\n",
    "`.replace(r'NOT(-| )HISPANIC', 'NON-HISPANIC')`\n",
    "\n",
    "The `r` preceding the string tells python this is a regular expression, not a normal string.\n",
    "\n",
    "The `(-| )` means that either a hypen or a space is an acceptable value to call a match. In either case, the command will write `NON-HISPANIC` instead."
   ]
  },
  {
   "cell_type": "code",
   "execution_count": 14,
   "metadata": {},
   "outputs": [
    {
     "data": {
      "text/plain": [
       "array(['NON-HISPANIC', 'HISPANIC', 'UNKNOWN'], dtype=object)"
      ]
     },
     "execution_count": 14,
     "metadata": {},
     "output_type": "execute_result"
    }
   ],
   "source": [
    "df['hispanic_clean'] = df['hispanic_clean'].str.replace(r'NOT(-| )HISPANIC', 'NON-HISPANIC')\n",
    "df['hispanic_clean'].unique()"
   ]
  },
  {
   "cell_type": "markdown",
   "metadata": {},
   "source": [
    "What a tidy column we have now!\n",
    "\n",
    "### ✍️ Your turn\n",
    "\n",
    "In the cell below, group by and count the `df` data frame:\n",
    "- Get a subset of the `df` data frame\n",
    "- Group by `hispanic_clean`\n",
    "- Count the rows with each value\n",
    "- Order descending\n",
    "- Rename the count to a new variable called `death_count` after grouping"
   ]
  },
  {
   "cell_type": "code",
   "execution_count": 16,
   "metadata": {},
   "outputs": [],
   "source": [
    "# deaths_by_hispanic_ethnicity = "
   ]
  },
  {
   "cell_type": "code",
   "execution_count": 15,
   "metadata": {},
   "outputs": [
    {
     "data": {
      "text/html": [
       "<div>\n",
       "<style scoped>\n",
       "    .dataframe tbody tr th:only-of-type {\n",
       "        vertical-align: middle;\n",
       "    }\n",
       "\n",
       "    .dataframe tbody tr th {\n",
       "        vertical-align: top;\n",
       "    }\n",
       "\n",
       "    .dataframe thead th {\n",
       "        text-align: right;\n",
       "    }\n",
       "</style>\n",
       "<table border=\"1\" class=\"dataframe\">\n",
       "  <thead>\n",
       "    <tr style=\"text-align: right;\">\n",
       "      <th></th>\n",
       "      <th>hispanic_clean</th>\n",
       "      <th>death_count</th>\n",
       "    </tr>\n",
       "  </thead>\n",
       "  <tbody>\n",
       "    <tr>\n",
       "      <th>1</th>\n",
       "      <td>NON-HISPANIC</td>\n",
       "      <td>3725</td>\n",
       "    </tr>\n",
       "    <tr>\n",
       "      <th>0</th>\n",
       "      <td>HISPANIC</td>\n",
       "      <td>76</td>\n",
       "    </tr>\n",
       "    <tr>\n",
       "      <th>2</th>\n",
       "      <td>UNKNOWN</td>\n",
       "      <td>6</td>\n",
       "    </tr>\n",
       "  </tbody>\n",
       "</table>\n",
       "</div>"
      ],
      "text/plain": [
       "  hispanic_clean  death_count\n",
       "1   NON-HISPANIC         3725\n",
       "0       HISPANIC           76\n",
       "2        UNKNOWN            6"
      ]
     },
     "execution_count": 15,
     "metadata": {},
     "output_type": "execute_result"
    }
   ],
   "source": [
    "# Remove before class\n",
    "deaths_by_hispanic_ethnicity = df[['hispanic_clean', 'STATEID']].groupby('hispanic_clean').count().reset_index().sort_values('STATEID', ascending=False)\n",
    "deaths_by_hispanic_ethnicity.rename(columns={'STATEID': 'death_count'}, inplace=True)\n",
    "deaths_by_hispanic_ethnicity"
   ]
  },
  {
   "cell_type": "markdown",
   "metadata": {},
   "source": [
    "In our data, the vast majority of deaths are from people without Hispanic ethnicity. But Minnesota is a pretty white state, so we need to look at these numbers as a percentage, so we can compare the deaths to Minnesota's overall Hispanic population, which is about 5% of the state's total population, according to Pew Research.\n",
    "\n",
    "We can create a new column to calculate the percentage:"
   ]
  },
  {
   "cell_type": "code",
   "execution_count": 16,
   "metadata": {},
   "outputs": [
    {
     "data": {
      "text/html": [
       "<div>\n",
       "<style scoped>\n",
       "    .dataframe tbody tr th:only-of-type {\n",
       "        vertical-align: middle;\n",
       "    }\n",
       "\n",
       "    .dataframe tbody tr th {\n",
       "        vertical-align: top;\n",
       "    }\n",
       "\n",
       "    .dataframe thead th {\n",
       "        text-align: right;\n",
       "    }\n",
       "</style>\n",
       "<table border=\"1\" class=\"dataframe\">\n",
       "  <thead>\n",
       "    <tr style=\"text-align: right;\">\n",
       "      <th></th>\n",
       "      <th>hispanic_clean</th>\n",
       "      <th>death_count</th>\n",
       "      <th>pct_total</th>\n",
       "    </tr>\n",
       "  </thead>\n",
       "  <tbody>\n",
       "    <tr>\n",
       "      <th>1</th>\n",
       "      <td>NON-HISPANIC</td>\n",
       "      <td>3725</td>\n",
       "      <td>0.978461</td>\n",
       "    </tr>\n",
       "    <tr>\n",
       "      <th>0</th>\n",
       "      <td>HISPANIC</td>\n",
       "      <td>76</td>\n",
       "      <td>0.019963</td>\n",
       "    </tr>\n",
       "    <tr>\n",
       "      <th>2</th>\n",
       "      <td>UNKNOWN</td>\n",
       "      <td>6</td>\n",
       "      <td>0.001576</td>\n",
       "    </tr>\n",
       "  </tbody>\n",
       "</table>\n",
       "</div>"
      ],
      "text/plain": [
       "  hispanic_clean  death_count  pct_total\n",
       "1   NON-HISPANIC         3725   0.978461\n",
       "0       HISPANIC           76   0.019963\n",
       "2        UNKNOWN            6   0.001576"
      ]
     },
     "execution_count": 16,
     "metadata": {},
     "output_type": "execute_result"
    }
   ],
   "source": [
    "deaths_by_hispanic_ethnicity['pct_total'] = deaths_by_hispanic_ethnicity['death_count'] / deaths_by_hispanic_ethnicity['death_count'].sum()\n",
    "deaths_by_hispanic_ethnicity"
   ]
  },
  {
   "cell_type": "markdown",
   "metadata": {},
   "source": [
    "### Visualize the data with a bar chart\n",
    "\n",
    "Pandas works well with a visualization package called [`matplotlib`](https://matplotlib.org/). There are several other visualization packages that have robust feature sets, including [Altair](https://altair-viz.github.io/), but matplotlib is already tightly integrated with pandas, so we'll start with that.\n",
    "\n",
    "It doesn't make for the most compelling chart in the world, but once you have your data cleaned up, it's easy to make a simple bar chart:"
   ]
  },
  {
   "cell_type": "code",
   "execution_count": 17,
   "metadata": {},
   "outputs": [
    {
     "data": {
      "text/plain": [
       "<matplotlib.axes._subplots.AxesSubplot at 0x126e2efd0>"
      ]
     },
     "execution_count": 17,
     "metadata": {},
     "output_type": "execute_result"
    },
    {
     "data": {
      "image/png": "[encoded data removed]",
      "text/plain": [
       "<Figure size 432x288 with 1 Axes>"
      ]
     },
     "metadata": {
      "needs_background": "light"
     },
     "output_type": "display_data"
    }
   ],
   "source": [
    "deaths_by_hispanic_ethnicity.plot.bar(x='hispanic_clean', y='death_count')"
   ]
  },
  {
   "cell_type": "markdown",
   "metadata": {},
   "source": [
    "### Extracting year from a date\n",
    "\n",
    "To look at the trend in deaths over time, we can grab just the year from the `DEATHDATE` column by taking advantage of Python's date-handling abilities. First we need to tell pandas that the `DEATHDATE` column is a `datetime`, not just an ordinary string."
   ]
  },
  {
   "cell_type": "code",
   "execution_count": 18,
   "metadata": {},
   "outputs": [],
   "source": [
    "df['DEATHDATE'] = pd.to_datetime(df['DEATHDATE'])"
   ]
  },
  {
   "cell_type": "markdown",
   "metadata": {},
   "source": [
    "Now we can use `lambda` to call `.year` on each `DEATHDATE`, and pipe it to a new column."
   ]
  },
  {
   "cell_type": "code",
   "execution_count": 19,
   "metadata": {},
   "outputs": [
    {
     "data": {
      "text/plain": [
       "0       2005\n",
       "1       2005\n",
       "2       2005\n",
       "3       2005\n",
       "4       2005\n",
       "        ... \n",
       "3802    2016\n",
       "3803    2017\n",
       "3804    2017\n",
       "3805    2014\n",
       "3806    2014\n",
       "Name: death_year, Length: 3807, dtype: int64"
      ]
     },
     "execution_count": 19,
     "metadata": {},
     "output_type": "execute_result"
    }
   ],
   "source": [
    "df['death_year'] = df['DEATHDATE'].apply(lambda x: x.year)\n",
    "df['death_year']"
   ]
  },
  {
   "cell_type": "markdown",
   "metadata": {},
   "source": [
    "### ✍️ Your turn\n",
    "\n",
    "In the cells below, group by and count the `df` data frame:\n",
    "- Get a subset of the `df` data frame\n",
    "- Group by `death_year`\n",
    "- Count the rows with each value\n",
    "- Order by death year\n",
    "- Rename the count to a new variable called `death_count` after grouping\n",
    "- Plot the death years on a bar chart"
   ]
  },
  {
   "cell_type": "code",
   "execution_count": 22,
   "metadata": {},
   "outputs": [],
   "source": [
    "# deaths_by_year ="
   ]
  },
  {
   "cell_type": "code",
   "execution_count": null,
   "metadata": {},
   "outputs": [],
   "source": []
  },
  {
   "cell_type": "code",
   "execution_count": 20,
   "metadata": {},
   "outputs": [
    {
     "data": {
      "text/plain": [
       "<matplotlib.axes._subplots.AxesSubplot at 0x127216450>"
      ]
     },
     "execution_count": 20,
     "metadata": {},
     "output_type": "execute_result"
    },
    {
     "data": {
      "image/png": "[encoded data removed]",
      "text/plain": [
       "<Figure size 432x288 with 1 Axes>"
      ]
     },
     "metadata": {
      "needs_background": "light"
     },
     "output_type": "display_data"
    }
   ],
   "source": [
    "# Remove before class\n",
    "deaths_by_year = df[['death_year', 'STATEID']].groupby('death_year').count().reset_index().sort_values('death_year')\n",
    "deaths_by_year.rename(columns={'STATEID': 'death_count'}, inplace=True)\n",
    "deaths_by_year.plot.bar(x='death_year', y='death_count')"
   ]
  },
  {
   "cell_type": "markdown",
   "metadata": {},
   "source": [
    "### Merging with other data\n",
    "\n",
    "If you remember our city `deaths_by_city` data from above, it's not surprising that Minnesota's largest city has the highest raw death count -- there are so many more people. The data would be a lot more meaningful if we could calculate the deaths per capita. But population isn't in our original CSV. But we can join our data with other data sources, provided they have some kind of identical value to join on.\n",
    "\n",
    "First, we load a spreadsheet of population data from a reliable source from a similar time period."
   ]
  },
  {
   "cell_type": "code",
   "execution_count": 21,
   "metadata": {},
   "outputs": [
    {
     "data": {
      "text/html": [
       "<div>\n",
       "<style scoped>\n",
       "    .dataframe tbody tr th:only-of-type {\n",
       "        vertical-align: middle;\n",
       "    }\n",
       "\n",
       "    .dataframe tbody tr th {\n",
       "        vertical-align: top;\n",
       "    }\n",
       "\n",
       "    .dataframe thead th {\n",
       "        text-align: right;\n",
       "    }\n",
       "</style>\n",
       "<table border=\"1\" class=\"dataframe\">\n",
       "  <thead>\n",
       "    <tr style=\"text-align: right;\">\n",
       "      <th></th>\n",
       "      <th>FIPS10</th>\n",
       "      <th>County Name</th>\n",
       "      <th>City Name</th>\n",
       "      <th>Total Population, 2018</th>\n",
       "      <th>Population in Households, 2018</th>\n",
       "      <th>Population in Group Quarters, 2018</th>\n",
       "      <th>Households, 2018</th>\n",
       "      <th>Persons per Household, 2018</th>\n",
       "    </tr>\n",
       "  </thead>\n",
       "  <tbody>\n",
       "    <tr>\n",
       "      <th>0</th>\n",
       "      <td>2700100460</td>\n",
       "      <td>Aitkin</td>\n",
       "      <td>Aitkin</td>\n",
       "      <td>2123</td>\n",
       "      <td>1919</td>\n",
       "      <td>204</td>\n",
       "      <td>937</td>\n",
       "      <td>2.05</td>\n",
       "    </tr>\n",
       "    <tr>\n",
       "      <th>1</th>\n",
       "      <td>2700129096</td>\n",
       "      <td>Aitkin</td>\n",
       "      <td>Hill City</td>\n",
       "      <td>622</td>\n",
       "      <td>611</td>\n",
       "      <td>11</td>\n",
       "      <td>271</td>\n",
       "      <td>2.25</td>\n",
       "    </tr>\n",
       "    <tr>\n",
       "      <th>2</th>\n",
       "      <td>2700138996</td>\n",
       "      <td>Aitkin</td>\n",
       "      <td>McGrath</td>\n",
       "      <td>73</td>\n",
       "      <td>62</td>\n",
       "      <td>11</td>\n",
       "      <td>31</td>\n",
       "      <td>2.00</td>\n",
       "    </tr>\n",
       "    <tr>\n",
       "      <th>3</th>\n",
       "      <td>2700139014</td>\n",
       "      <td>Aitkin</td>\n",
       "      <td>McGregor</td>\n",
       "      <td>381</td>\n",
       "      <td>381</td>\n",
       "      <td>-</td>\n",
       "      <td>179</td>\n",
       "      <td>2.13</td>\n",
       "    </tr>\n",
       "    <tr>\n",
       "      <th>4</th>\n",
       "      <td>2700149498</td>\n",
       "      <td>Aitkin</td>\n",
       "      <td>Palisade</td>\n",
       "      <td>152</td>\n",
       "      <td>152</td>\n",
       "      <td>-</td>\n",
       "      <td>69</td>\n",
       "      <td>2.20</td>\n",
       "    </tr>\n",
       "    <tr>\n",
       "      <th>...</th>\n",
       "      <td>...</td>\n",
       "      <td>...</td>\n",
       "      <td>...</td>\n",
       "      <td>...</td>\n",
       "      <td>...</td>\n",
       "      <td>...</td>\n",
       "      <td>...</td>\n",
       "      <td>...</td>\n",
       "    </tr>\n",
       "    <tr>\n",
       "      <th>849</th>\n",
       "      <td>2799961996</td>\n",
       "      <td>Multi-County City</td>\n",
       "      <td>Spring Lake Park</td>\n",
       "      <td>6410</td>\n",
       "      <td>6394</td>\n",
       "      <td>16</td>\n",
       "      <td>2698</td>\n",
       "      <td>2.37</td>\n",
       "    </tr>\n",
       "    <tr>\n",
       "      <th>850</th>\n",
       "      <td>2799962446</td>\n",
       "      <td>Multi-County City</td>\n",
       "      <td>Staples</td>\n",
       "      <td>2972</td>\n",
       "      <td>2754</td>\n",
       "      <td>218</td>\n",
       "      <td>1256</td>\n",
       "      <td>2.19</td>\n",
       "    </tr>\n",
       "    <tr>\n",
       "      <th>851</th>\n",
       "      <td>2799963778</td>\n",
       "      <td>Multi-County City</td>\n",
       "      <td>Swanville</td>\n",
       "      <td>348</td>\n",
       "      <td>348</td>\n",
       "      <td>-</td>\n",
       "      <td>143</td>\n",
       "      <td>2.43</td>\n",
       "    </tr>\n",
       "    <tr>\n",
       "      <th>852</th>\n",
       "      <td>2799967504</td>\n",
       "      <td>Multi-County City</td>\n",
       "      <td>Wadena</td>\n",
       "      <td>4150</td>\n",
       "      <td>3987</td>\n",
       "      <td>163</td>\n",
       "      <td>1891</td>\n",
       "      <td>2.11</td>\n",
       "    </tr>\n",
       "    <tr>\n",
       "      <th>853</th>\n",
       "      <td>2799969970</td>\n",
       "      <td>Multi-County City</td>\n",
       "      <td>White Bear Lake</td>\n",
       "      <td>25458</td>\n",
       "      <td>25131</td>\n",
       "      <td>327</td>\n",
       "      <td>10624</td>\n",
       "      <td>2.37</td>\n",
       "    </tr>\n",
       "  </tbody>\n",
       "</table>\n",
       "<p>854 rows × 8 columns</p>\n",
       "</div>"
      ],
      "text/plain": [
       "         FIPS10        County Name         City Name  Total Population, 2018  \\\n",
       "0    2700100460             Aitkin            Aitkin                    2123   \n",
       "1    2700129096             Aitkin         Hill City                     622   \n",
       "2    2700138996             Aitkin           McGrath                      73   \n",
       "3    2700139014             Aitkin          McGregor                     381   \n",
       "4    2700149498             Aitkin          Palisade                     152   \n",
       "..          ...                ...               ...                     ...   \n",
       "849  2799961996  Multi-County City  Spring Lake Park                    6410   \n",
       "850  2799962446  Multi-County City           Staples                    2972   \n",
       "851  2799963778  Multi-County City         Swanville                     348   \n",
       "852  2799967504  Multi-County City            Wadena                    4150   \n",
       "853  2799969970  Multi-County City   White Bear Lake                   25458   \n",
       "\n",
       "     Population in Households, 2018 Population in Group Quarters, 2018  \\\n",
       "0                              1919                                204   \n",
       "1                               611                                 11   \n",
       "2                                62                                 11   \n",
       "3                               381                               -      \n",
       "4                               152                               -      \n",
       "..                              ...                                ...   \n",
       "849                            6394                                 16   \n",
       "850                            2754                                218   \n",
       "851                             348                               -      \n",
       "852                            3987                                163   \n",
       "853                           25131                                327   \n",
       "\n",
       "     Households, 2018  Persons per Household, 2018  \n",
       "0                 937                         2.05  \n",
       "1                 271                         2.25  \n",
       "2                  31                         2.00  \n",
       "3                 179                         2.13  \n",
       "4                  69                         2.20  \n",
       "..                ...                          ...  \n",
       "849              2698                         2.37  \n",
       "850              1256                         2.19  \n",
       "851               143                         2.43  \n",
       "852              1891                         2.11  \n",
       "853             10624                         2.37  \n",
       "\n",
       "[854 rows x 8 columns]"
      ]
     },
     "execution_count": 21,
     "metadata": {},
     "output_type": "execute_result"
    }
   ],
   "source": [
    "pop_estimates = pd.read_csv('data/mn_cities_pop_estimates.csv')\n",
    "pop_estimates"
   ]
  },
  {
   "cell_type": "markdown",
   "metadata": {},
   "source": [
    "Uh oh, the cities in this data set are Title Case, and the cities in our opiates data are ALL UPPERCASE.\n",
    "\n",
    "Let's make the population csv's city names all uppercase as well:"
   ]
  },
  {
   "cell_type": "code",
   "execution_count": 22,
   "metadata": {},
   "outputs": [],
   "source": [
    "pop_estimates['city_name_capped'] = pop_estimates['City Name'].str.upper()"
   ]
  },
  {
   "cell_type": "code",
   "execution_count": 23,
   "metadata": {},
   "outputs": [
    {
     "data": {
      "text/html": [
       "<div>\n",
       "<style scoped>\n",
       "    .dataframe tbody tr th:only-of-type {\n",
       "        vertical-align: middle;\n",
       "    }\n",
       "\n",
       "    .dataframe tbody tr th {\n",
       "        vertical-align: top;\n",
       "    }\n",
       "\n",
       "    .dataframe thead th {\n",
       "        text-align: right;\n",
       "    }\n",
       "</style>\n",
       "<table border=\"1\" class=\"dataframe\">\n",
       "  <thead>\n",
       "    <tr style=\"text-align: right;\">\n",
       "      <th></th>\n",
       "      <th>DEATHCITY</th>\n",
       "      <th>death_count</th>\n",
       "      <th>FIPS10</th>\n",
       "      <th>County Name</th>\n",
       "      <th>City Name</th>\n",
       "      <th>Total Population, 2018</th>\n",
       "      <th>Population in Households, 2018</th>\n",
       "      <th>Population in Group Quarters, 2018</th>\n",
       "      <th>Households, 2018</th>\n",
       "      <th>Persons per Household, 2018</th>\n",
       "      <th>city_name_capped</th>\n",
       "    </tr>\n",
       "  </thead>\n",
       "  <tbody>\n",
       "    <tr>\n",
       "      <th>0</th>\n",
       "      <td>COON RAPIDS</td>\n",
       "      <td>2005-MN-006548</td>\n",
       "      <td>2.700313e+09</td>\n",
       "      <td>Anoka</td>\n",
       "      <td>Coon Rapids</td>\n",
       "      <td>63899.0</td>\n",
       "      <td>63497.0</td>\n",
       "      <td>402</td>\n",
       "      <td>24348.0</td>\n",
       "      <td>2.61</td>\n",
       "      <td>COON RAPIDS</td>\n",
       "    </tr>\n",
       "    <tr>\n",
       "      <th>1</th>\n",
       "      <td>COLUMBIA HEIGHTS</td>\n",
       "      <td>2005-MN-009829</td>\n",
       "      <td>2.700313e+09</td>\n",
       "      <td>Anoka</td>\n",
       "      <td>Columbia Heights</td>\n",
       "      <td>20840.0</td>\n",
       "      <td>20628.0</td>\n",
       "      <td>212</td>\n",
       "      <td>8385.0</td>\n",
       "      <td>2.46</td>\n",
       "      <td>COLUMBIA HEIGHTS</td>\n",
       "    </tr>\n",
       "    <tr>\n",
       "      <th>2</th>\n",
       "      <td>COLUMBIA HEIGHTS</td>\n",
       "      <td>2005-MN-023540</td>\n",
       "      <td>2.700313e+09</td>\n",
       "      <td>Anoka</td>\n",
       "      <td>Columbia Heights</td>\n",
       "      <td>20840.0</td>\n",
       "      <td>20628.0</td>\n",
       "      <td>212</td>\n",
       "      <td>8385.0</td>\n",
       "      <td>2.46</td>\n",
       "      <td>COLUMBIA HEIGHTS</td>\n",
       "    </tr>\n",
       "    <tr>\n",
       "      <th>3</th>\n",
       "      <td>COON RAPIDS</td>\n",
       "      <td>2005-MN-027612</td>\n",
       "      <td>2.700313e+09</td>\n",
       "      <td>Anoka</td>\n",
       "      <td>Coon Rapids</td>\n",
       "      <td>63899.0</td>\n",
       "      <td>63497.0</td>\n",
       "      <td>402</td>\n",
       "      <td>24348.0</td>\n",
       "      <td>2.61</td>\n",
       "      <td>COON RAPIDS</td>\n",
       "    </tr>\n",
       "    <tr>\n",
       "      <th>4</th>\n",
       "      <td>BLAINE</td>\n",
       "      <td>2005-MN-028477</td>\n",
       "      <td>2.799906e+09</td>\n",
       "      <td>Multi-County City</td>\n",
       "      <td>Blaine</td>\n",
       "      <td>66667.0</td>\n",
       "      <td>66419.0</td>\n",
       "      <td>248</td>\n",
       "      <td>24206.0</td>\n",
       "      <td>2.74</td>\n",
       "      <td>BLAINE</td>\n",
       "    </tr>\n",
       "    <tr>\n",
       "      <th>...</th>\n",
       "      <td>...</td>\n",
       "      <td>...</td>\n",
       "      <td>...</td>\n",
       "      <td>...</td>\n",
       "      <td>...</td>\n",
       "      <td>...</td>\n",
       "      <td>...</td>\n",
       "      <td>...</td>\n",
       "      <td>...</td>\n",
       "      <td>...</td>\n",
       "      <td>...</td>\n",
       "    </tr>\n",
       "    <tr>\n",
       "      <th>3808</th>\n",
       "      <td>MONTROSE</td>\n",
       "      <td>2016-MN-029127</td>\n",
       "      <td>2.717144e+09</td>\n",
       "      <td>Wright</td>\n",
       "      <td>Montrose</td>\n",
       "      <td>3247.0</td>\n",
       "      <td>3247.0</td>\n",
       "      <td>-</td>\n",
       "      <td>1183.0</td>\n",
       "      <td>2.74</td>\n",
       "      <td>MONTROSE</td>\n",
       "    </tr>\n",
       "    <tr>\n",
       "      <th>3809</th>\n",
       "      <td>DELANO</td>\n",
       "      <td>2017-MN-018317</td>\n",
       "      <td>2.717115e+09</td>\n",
       "      <td>Wright</td>\n",
       "      <td>Delano</td>\n",
       "      <td>6187.0</td>\n",
       "      <td>6129.0</td>\n",
       "      <td>58</td>\n",
       "      <td>2218.0</td>\n",
       "      <td>2.76</td>\n",
       "      <td>DELANO</td>\n",
       "    </tr>\n",
       "    <tr>\n",
       "      <th>3810</th>\n",
       "      <td>ROCKFORD TOWNSHIP</td>\n",
       "      <td>2017-MN-024845</td>\n",
       "      <td>NaN</td>\n",
       "      <td>NaN</td>\n",
       "      <td>NaN</td>\n",
       "      <td>NaN</td>\n",
       "      <td>NaN</td>\n",
       "      <td>NaN</td>\n",
       "      <td>NaN</td>\n",
       "      <td>NaN</td>\n",
       "      <td>NaN</td>\n",
       "    </tr>\n",
       "    <tr>\n",
       "      <th>3811</th>\n",
       "      <td>GRANITE FALLS</td>\n",
       "      <td>2014-MN-009504</td>\n",
       "      <td>2.799925e+09</td>\n",
       "      <td>Multi-County City</td>\n",
       "      <td>Granite Falls</td>\n",
       "      <td>2762.0</td>\n",
       "      <td>2638.0</td>\n",
       "      <td>124</td>\n",
       "      <td>1260.0</td>\n",
       "      <td>2.09</td>\n",
       "      <td>GRANITE FALLS</td>\n",
       "    </tr>\n",
       "    <tr>\n",
       "      <th>3812</th>\n",
       "      <td>ECHO</td>\n",
       "      <td>2014-MN-039821</td>\n",
       "      <td>2.717318e+09</td>\n",
       "      <td>Yellow Medicine</td>\n",
       "      <td>Echo</td>\n",
       "      <td>258.0</td>\n",
       "      <td>258.0</td>\n",
       "      <td>-</td>\n",
       "      <td>107.0</td>\n",
       "      <td>2.41</td>\n",
       "      <td>ECHO</td>\n",
       "    </tr>\n",
       "  </tbody>\n",
       "</table>\n",
       "<p>3813 rows × 11 columns</p>\n",
       "</div>"
      ],
      "text/plain": [
       "              DEATHCITY     death_count        FIPS10        County Name  \\\n",
       "0           COON RAPIDS  2005-MN-006548  2.700313e+09              Anoka   \n",
       "1      COLUMBIA HEIGHTS  2005-MN-009829  2.700313e+09              Anoka   \n",
       "2      COLUMBIA HEIGHTS  2005-MN-023540  2.700313e+09              Anoka   \n",
       "3           COON RAPIDS  2005-MN-027612  2.700313e+09              Anoka   \n",
       "4                BLAINE  2005-MN-028477  2.799906e+09  Multi-County City   \n",
       "...                 ...             ...           ...                ...   \n",
       "3808           MONTROSE  2016-MN-029127  2.717144e+09             Wright   \n",
       "3809             DELANO  2017-MN-018317  2.717115e+09             Wright   \n",
       "3810  ROCKFORD TOWNSHIP  2017-MN-024845           NaN                NaN   \n",
       "3811      GRANITE FALLS  2014-MN-009504  2.799925e+09  Multi-County City   \n",
       "3812               ECHO  2014-MN-039821  2.717318e+09    Yellow Medicine   \n",
       "\n",
       "             City Name  Total Population, 2018  \\\n",
       "0          Coon Rapids                 63899.0   \n",
       "1     Columbia Heights                 20840.0   \n",
       "2     Columbia Heights                 20840.0   \n",
       "3          Coon Rapids                 63899.0   \n",
       "4               Blaine                 66667.0   \n",
       "...                ...                     ...   \n",
       "3808          Montrose                  3247.0   \n",
       "3809            Delano                  6187.0   \n",
       "3810               NaN                     NaN   \n",
       "3811     Granite Falls                  2762.0   \n",
       "3812              Echo                   258.0   \n",
       "\n",
       "      Population in Households, 2018 Population in Group Quarters, 2018  \\\n",
       "0                            63497.0                                402   \n",
       "1                            20628.0                                212   \n",
       "2                            20628.0                                212   \n",
       "3                            63497.0                                402   \n",
       "4                            66419.0                                248   \n",
       "...                              ...                                ...   \n",
       "3808                          3247.0                               -      \n",
       "3809                          6129.0                                 58   \n",
       "3810                             NaN                                NaN   \n",
       "3811                          2638.0                                124   \n",
       "3812                           258.0                               -      \n",
       "\n",
       "      Households, 2018  Persons per Household, 2018  city_name_capped  \n",
       "0              24348.0                         2.61       COON RAPIDS  \n",
       "1               8385.0                         2.46  COLUMBIA HEIGHTS  \n",
       "2               8385.0                         2.46  COLUMBIA HEIGHTS  \n",
       "3              24348.0                         2.61       COON RAPIDS  \n",
       "4              24206.0                         2.74            BLAINE  \n",
       "...                ...                          ...               ...  \n",
       "3808            1183.0                         2.74          MONTROSE  \n",
       "3809            2218.0                         2.76            DELANO  \n",
       "3810               NaN                          NaN               NaN  \n",
       "3811            1260.0                         2.09     GRANITE FALLS  \n",
       "3812             107.0                         2.41              ECHO  \n",
       "\n",
       "[3813 rows x 11 columns]"
      ]
     },
     "execution_count": 23,
     "metadata": {},
     "output_type": "execute_result"
    }
   ],
   "source": [
    "deaths_by_city_merged = deaths_by_city.merge(\n",
    "    pop_estimates,\n",
    "    how=\"left\",\n",
    "    left_on=\"DEATHCITY\",\n",
    "    right_on=\"city_name_capped\"\n",
    ")\n",
    "deaths_by_city_merged"
   ]
  },
  {
   "cell_type": "markdown",
   "metadata": {},
   "source": [
    "### ✍️ Your turn\n",
    "\n",
    "In the cells below:\n",
    "- Create a `deaths_per_capita` field for each city by dividing `death_count` by `Total Population, 2018`\n",
    "- Order the data frame by `deaths_per_capita`\n",
    "- Plot the per capita deaths on a bar chart"
   ]
  },
  {
   "cell_type": "code",
   "execution_count": 26,
   "metadata": {},
   "outputs": [],
   "source": [
    "# deaths_by_city_merged['deaths_per_capita'] = "
   ]
  },
  {
   "cell_type": "code",
   "execution_count": 42,
   "metadata": {},
   "outputs": [
    {
     "data": {
      "text/plain": [
       "135    0.044444\n",
       "321    0.037037\n",
       "311    0.025000\n",
       "36     0.022093\n",
       "93     0.018373\n",
       "         ...   \n",
       "392         NaN\n",
       "393         NaN\n",
       "399         NaN\n",
       "405         NaN\n",
       "413         NaN\n",
       "Name: deaths_per_capita, Length: 417, dtype: float64"
      ]
     },
     "execution_count": 42,
     "metadata": {},
     "output_type": "execute_result"
    }
   ],
   "source": [
    "# Remove before class\n",
    "deaths_by_city_merged['deaths_per_capita'] = deaths_by_city_merged['death_count'] / deaths_by_city_merged['Total Population, 2018']\n",
    "deaths_by_city_merged.sort_values('deaths_per_capita', ascending=False, inplace=True)\n",
    "deaths_by_city_merged['deaths_per_capita']"
   ]
  },
  {
   "cell_type": "markdown",
   "metadata": {},
   "source": [
    "Whoa, that is just too many cities, and when we're doing per capita we need to be cautious about small denominators. Let's restrict the chart to only cities with 30 or more deaths."
   ]
  },
  {
   "cell_type": "code",
   "execution_count": 43,
   "metadata": {},
   "outputs": [
    {
     "data": {
      "text/plain": [
       "<matplotlib.axes._subplots.AxesSubplot at 0x11126bfd0>"
      ]
     },
     "execution_count": 43,
     "metadata": {},
     "output_type": "execute_result"
    },
    {
     "data": {
      "image/png": "[encoded data removed]",
      "text/plain": [
       "<Figure size 432x288 with 1 Axes>"
      ]
     },
     "metadata": {
      "needs_background": "light"
     },
     "output_type": "display_data"
    }
   ],
   "source": [
    "deaths_by_city_30plus = deaths_by_city_merged[deaths_by_city_merged['death_count'] > 30]\n",
    "deaths_by_city_30plus.plot.bar(x='DEATHCITY', y='deaths_per_capita')"
   ]
  },
  {
   "cell_type": "markdown",
   "metadata": {},
   "source": [
    "# Mapping"
   ]
  },
  {
   "cell_type": "markdown",
   "metadata": {},
   "source": [
    "It's great to see these death rates on a bar chart, but a map would help us visualize this geographic dataset in another way.\n",
    "\n",
    "First, there are a few additional libraries we need to bring in to make this all work."
   ]
  },
  {
   "cell_type": "code",
   "execution_count": 1,
   "metadata": {},
   "outputs": [],
   "source": [
    "import geopandas as gpd\n",
    "import matplotlib.pyplot as plt\n",
    "import mapclassify\n",
    "import numpy as np\n",
    "import os"
   ]
  },
  {
   "cell_type": "markdown",
   "metadata": {},
   "source": [
    "Instead of city, we're going to work with counties. \n",
    "\n",
    "Now we want to bring in our shapefile of Minnesota counties. A shapefile is a mapping file. In this case, the Minnesota counties shapefile defines the boundary lines between different counties in the state of Minnesota. You can find your [shapefiles for your state here](https://www.census.gov/cgi-bin/geo/shapefiles/index.php)."
   ]
  },
  {
   "cell_type": "code",
   "execution_count": 24,
   "metadata": {},
   "outputs": [],
   "source": [
    "mn_cnty = gpd.read_file('gis/tl_2015_mn_county/tl_2015_mn_county.shp')"
   ]
  },
  {
   "cell_type": "markdown",
   "metadata": {},
   "source": [
    "Now this looks different than how we've brought data in before. That's because plain jane pandas can't read these types of files. We need to use an additional library called geopandas.\n",
    "\n",
    "But once you import it you can query it like any other dataframe."
   ]
  },
  {
   "cell_type": "code",
   "execution_count": 25,
   "metadata": {
    "scrolled": true
   },
   "outputs": [
    {
     "data": {
      "text/html": [
       "<div>\n",
       "<style scoped>\n",
       "    .dataframe tbody tr th:only-of-type {\n",
       "        vertical-align: middle;\n",
       "    }\n",
       "\n",
       "    .dataframe tbody tr th {\n",
       "        vertical-align: top;\n",
       "    }\n",
       "\n",
       "    .dataframe thead th {\n",
       "        text-align: right;\n",
       "    }\n",
       "</style>\n",
       "<table border=\"1\" class=\"dataframe\">\n",
       "  <thead>\n",
       "    <tr style=\"text-align: right;\">\n",
       "      <th></th>\n",
       "      <th>STATEFP</th>\n",
       "      <th>COUNTYFP</th>\n",
       "      <th>COUNTYNS</th>\n",
       "      <th>GEOID</th>\n",
       "      <th>NAME</th>\n",
       "      <th>NAMELSAD</th>\n",
       "      <th>LSAD</th>\n",
       "      <th>CLASSFP</th>\n",
       "      <th>MTFCC</th>\n",
       "      <th>CSAFP</th>\n",
       "      <th>CBSAFP</th>\n",
       "      <th>METDIVFP</th>\n",
       "      <th>FUNCSTAT</th>\n",
       "      <th>ALAND</th>\n",
       "      <th>AWATER</th>\n",
       "      <th>INTPTLAT</th>\n",
       "      <th>INTPTLON</th>\n",
       "      <th>geometry</th>\n",
       "    </tr>\n",
       "  </thead>\n",
       "  <tbody>\n",
       "    <tr>\n",
       "      <th>0</th>\n",
       "      <td>27</td>\n",
       "      <td>095</td>\n",
       "      <td>00659493</td>\n",
       "      <td>27095</td>\n",
       "      <td>Mille Lacs</td>\n",
       "      <td>Mille Lacs County</td>\n",
       "      <td>06</td>\n",
       "      <td>H1</td>\n",
       "      <td>G4020</td>\n",
       "      <td>378</td>\n",
       "      <td>33460</td>\n",
       "      <td>None</td>\n",
       "      <td>A</td>\n",
       "      <td>1482278368</td>\n",
       "      <td>283009546</td>\n",
       "      <td>+45.9290434</td>\n",
       "      <td>-093.6329964</td>\n",
       "      <td>POLYGON ((-93.76837 45.90970, -93.76860 45.910...</td>\n",
       "    </tr>\n",
       "    <tr>\n",
       "      <th>1</th>\n",
       "      <td>27</td>\n",
       "      <td>045</td>\n",
       "      <td>00659468</td>\n",
       "      <td>27045</td>\n",
       "      <td>Fillmore</td>\n",
       "      <td>Fillmore County</td>\n",
       "      <td>06</td>\n",
       "      <td>H1</td>\n",
       "      <td>G4020</td>\n",
       "      <td>462</td>\n",
       "      <td>40340</td>\n",
       "      <td>None</td>\n",
       "      <td>A</td>\n",
       "      <td>2230757060</td>\n",
       "      <td>2045272</td>\n",
       "      <td>+43.6791876</td>\n",
       "      <td>-092.0939452</td>\n",
       "      <td>POLYGON ((-91.96985 43.84708, -91.96975 43.847...</td>\n",
       "    </tr>\n",
       "    <tr>\n",
       "      <th>2</th>\n",
       "      <td>27</td>\n",
       "      <td>073</td>\n",
       "      <td>00659482</td>\n",
       "      <td>27073</td>\n",
       "      <td>Lac qui Parle</td>\n",
       "      <td>Lac qui Parle County</td>\n",
       "      <td>06</td>\n",
       "      <td>H1</td>\n",
       "      <td>G4020</td>\n",
       "      <td>None</td>\n",
       "      <td>None</td>\n",
       "      <td>None</td>\n",
       "      <td>A</td>\n",
       "      <td>1981394508</td>\n",
       "      <td>33643131</td>\n",
       "      <td>+44.9998550</td>\n",
       "      <td>-096.1768363</td>\n",
       "      <td>POLYGON ((-96.45202 44.97947, -96.45203 44.990...</td>\n",
       "    </tr>\n",
       "    <tr>\n",
       "      <th>3</th>\n",
       "      <td>27</td>\n",
       "      <td>085</td>\n",
       "      <td>00659491</td>\n",
       "      <td>27085</td>\n",
       "      <td>McLeod</td>\n",
       "      <td>McLeod County</td>\n",
       "      <td>06</td>\n",
       "      <td>H1</td>\n",
       "      <td>G4020</td>\n",
       "      <td>378</td>\n",
       "      <td>26780</td>\n",
       "      <td>None</td>\n",
       "      <td>A</td>\n",
       "      <td>1272903790</td>\n",
       "      <td>36406719</td>\n",
       "      <td>+44.8216437</td>\n",
       "      <td>-094.2723203</td>\n",
       "      <td>POLYGON ((-94.49773 44.89233, -94.50000 44.892...</td>\n",
       "    </tr>\n",
       "    <tr>\n",
       "      <th>4</th>\n",
       "      <td>27</td>\n",
       "      <td>153</td>\n",
       "      <td>00659521</td>\n",
       "      <td>27153</td>\n",
       "      <td>Todd</td>\n",
       "      <td>Todd County</td>\n",
       "      <td>06</td>\n",
       "      <td>H1</td>\n",
       "      <td>G4020</td>\n",
       "      <td>None</td>\n",
       "      <td>None</td>\n",
       "      <td>None</td>\n",
       "      <td>A</td>\n",
       "      <td>2447582000</td>\n",
       "      <td>89311191</td>\n",
       "      <td>+46.0665694</td>\n",
       "      <td>-094.9005758</td>\n",
       "      <td>POLYGON ((-95.14634 46.19407, -95.14634 46.194...</td>\n",
       "    </tr>\n",
       "  </tbody>\n",
       "</table>\n",
       "</div>"
      ],
      "text/plain": [
       "  STATEFP COUNTYFP  COUNTYNS  GEOID           NAME              NAMELSAD LSAD  \\\n",
       "0      27      095  00659493  27095     Mille Lacs     Mille Lacs County   06   \n",
       "1      27      045  00659468  27045       Fillmore       Fillmore County   06   \n",
       "2      27      073  00659482  27073  Lac qui Parle  Lac qui Parle County   06   \n",
       "3      27      085  00659491  27085         McLeod         McLeod County   06   \n",
       "4      27      153  00659521  27153           Todd           Todd County   06   \n",
       "\n",
       "  CLASSFP  MTFCC CSAFP CBSAFP METDIVFP FUNCSTAT       ALAND     AWATER  \\\n",
       "0      H1  G4020   378  33460     None        A  1482278368  283009546   \n",
       "1      H1  G4020   462  40340     None        A  2230757060    2045272   \n",
       "2      H1  G4020  None   None     None        A  1981394508   33643131   \n",
       "3      H1  G4020   378  26780     None        A  1272903790   36406719   \n",
       "4      H1  G4020  None   None     None        A  2447582000   89311191   \n",
       "\n",
       "      INTPTLAT      INTPTLON  \\\n",
       "0  +45.9290434  -093.6329964   \n",
       "1  +43.6791876  -092.0939452   \n",
       "2  +44.9998550  -096.1768363   \n",
       "3  +44.8216437  -094.2723203   \n",
       "4  +46.0665694  -094.9005758   \n",
       "\n",
       "                                            geometry  \n",
       "0  POLYGON ((-93.76837 45.90970, -93.76860 45.910...  \n",
       "1  POLYGON ((-91.96985 43.84708, -91.96975 43.847...  \n",
       "2  POLYGON ((-96.45202 44.97947, -96.45203 44.990...  \n",
       "3  POLYGON ((-94.49773 44.89233, -94.50000 44.892...  \n",
       "4  POLYGON ((-95.14634 46.19407, -95.14634 46.194...  "
      ]
     },
     "execution_count": 25,
     "metadata": {},
     "output_type": "execute_result"
    }
   ],
   "source": [
    "mn_cnty.head()"
   ]
  },
  {
   "cell_type": "markdown",
   "metadata": {},
   "source": [
    "Now we need to join this shapefile with our death data so we can start to visualize where these deaths are happeneing. In order to do that, we need to find a common column to merge on."
   ]
  },
  {
   "cell_type": "code",
   "execution_count": 31,
   "metadata": {
    "scrolled": true
   },
   "outputs": [
    {
     "data": {
      "text/plain": [
       "Index(['STATEFP', 'COUNTYFP', 'COUNTYNS', 'GEOID', 'NAME', 'NAMELSAD', 'LSAD',\n",
       "       'CLASSFP', 'MTFCC', 'CSAFP', 'CBSAFP', 'METDIVFP', 'FUNCSTAT', 'ALAND',\n",
       "       'AWATER', 'INTPTLAT', 'INTPTLON', 'geometry'],\n",
       "      dtype='object')"
      ]
     },
     "execution_count": 31,
     "metadata": {},
     "output_type": "execute_result"
    }
   ],
   "source": [
    "mn_cnty.columns"
   ]
  },
  {
   "cell_type": "code",
   "execution_count": 30,
   "metadata": {
    "scrolled": true
   },
   "outputs": [
    {
     "data": {
      "text/plain": [
       "Index(['STATEID', 'FIRSTNAME', 'MIDDLENAME', 'LASTNAME', 'MAIDENNAME',\n",
       "       'SUFFIX', 'BIRTHDATE', 'DEATHDATE', 'GENDER', 'RACE',\n",
       "       'HISPANICETHNICITY', 'AGEYEARS', 'RESADDRESS', 'RESSTATE', 'RESCITY',\n",
       "       'RESCOUNTY', 'ZIP', 'ARMEDFORCES', 'YEARSEDUCATION', 'OCCUPATION',\n",
       "       'INDUSTRY', 'MARITALSTATUS', 'PLACETYPE', 'DEATHCITY', 'DEATHCOUNTY',\n",
       "       'MANNERDEATH', 'INJURY_DATE', 'INJURYPLACE', 'INJURYSTATE',\n",
       "       'INJURYCOUNTY', 'INJURY_FIPS', 'INJURYDESC', 'CAUSEA', 'CAUSEB',\n",
       "       'gender_clean', 'hispanic_clean', 'death_year'],\n",
       "      dtype='object')"
      ]
     },
     "execution_count": 30,
     "metadata": {},
     "output_type": "execute_result"
    }
   ],
   "source": [
    "df.columns"
   ]
  },
  {
   "cell_type": "markdown",
   "metadata": {},
   "source": [
    "I know (because I added it myself) that the `GEOID` column from my `mn_cnty` shapefile is the same as the `INJURY_FIPS` column from my `df` data file. So, in order to merge these two together, I'm going to have to group by deaths data by county."
   ]
  },
  {
   "cell_type": "code",
   "execution_count": 44,
   "metadata": {},
   "outputs": [],
   "source": [
    "deaths_by_cnty = df[['INJURY_FIPS', 'STATEID']].groupby('INJURY_FIPS').count().reset_index().sort_values('STATEID', ascending=False)\n",
    "deaths_by_cnty['INJURY_FIPS'] = deaths_by_cnty['INJURY_FIPS'].astype(int).astype(str)"
   ]
  },
  {
   "cell_type": "markdown",
   "metadata": {},
   "source": [
    "That second line converts the data type of our `INJURY_FIPS` field to a string. This is important because the `GEOID` field in our shapefile is stored as a string and we cannot merge two dataframes together on columns with mismatched data types.\n",
    "\n",
    "I know that might sound like I'm speaking a different language but just tuck that knowledge away somewhere and some day you'll get an error message `ValueError: You are trying to merge on object and float64 columns.` and you'll be like... What did that woman tell me about merging on mismatched data types..."
   ]
  },
  {
   "cell_type": "code",
   "execution_count": 53,
   "metadata": {
    "scrolled": true
   },
   "outputs": [
    {
     "data": {
      "text/html": [
       "<div>\n",
       "<style scoped>\n",
       "    .dataframe tbody tr th:only-of-type {\n",
       "        vertical-align: middle;\n",
       "    }\n",
       "\n",
       "    .dataframe tbody tr th {\n",
       "        vertical-align: top;\n",
       "    }\n",
       "\n",
       "    .dataframe thead th {\n",
       "        text-align: right;\n",
       "    }\n",
       "</style>\n",
       "<table border=\"1\" class=\"dataframe\">\n",
       "  <thead>\n",
       "    <tr style=\"text-align: right;\">\n",
       "      <th></th>\n",
       "      <th>STATEFP</th>\n",
       "      <th>COUNTYFP</th>\n",
       "      <th>COUNTYNS</th>\n",
       "      <th>GEOID</th>\n",
       "      <th>NAME</th>\n",
       "      <th>NAMELSAD</th>\n",
       "      <th>LSAD</th>\n",
       "      <th>CLASSFP</th>\n",
       "      <th>MTFCC</th>\n",
       "      <th>CSAFP</th>\n",
       "      <th>CBSAFP</th>\n",
       "      <th>METDIVFP</th>\n",
       "      <th>FUNCSTAT</th>\n",
       "      <th>ALAND</th>\n",
       "      <th>AWATER</th>\n",
       "      <th>INTPTLAT</th>\n",
       "      <th>INTPTLON</th>\n",
       "      <th>geometry</th>\n",
       "      <th>INJURY_FIPS</th>\n",
       "      <th>STATEID</th>\n",
       "    </tr>\n",
       "  </thead>\n",
       "  <tbody>\n",
       "    <tr>\n",
       "      <th>0</th>\n",
       "      <td>27</td>\n",
       "      <td>095</td>\n",
       "      <td>00659493</td>\n",
       "      <td>27095</td>\n",
       "      <td>Mille Lacs</td>\n",
       "      <td>Mille Lacs County</td>\n",
       "      <td>06</td>\n",
       "      <td>H1</td>\n",
       "      <td>G4020</td>\n",
       "      <td>378</td>\n",
       "      <td>33460</td>\n",
       "      <td>None</td>\n",
       "      <td>A</td>\n",
       "      <td>1482278368</td>\n",
       "      <td>283009546</td>\n",
       "      <td>+45.9290434</td>\n",
       "      <td>-093.6329964</td>\n",
       "      <td>POLYGON ((-93.76837 45.90970, -93.76860 45.910...</td>\n",
       "      <td>27095</td>\n",
       "      <td>23.0</td>\n",
       "    </tr>\n",
       "    <tr>\n",
       "      <th>1</th>\n",
       "      <td>27</td>\n",
       "      <td>045</td>\n",
       "      <td>00659468</td>\n",
       "      <td>27045</td>\n",
       "      <td>Fillmore</td>\n",
       "      <td>Fillmore County</td>\n",
       "      <td>06</td>\n",
       "      <td>H1</td>\n",
       "      <td>G4020</td>\n",
       "      <td>462</td>\n",
       "      <td>40340</td>\n",
       "      <td>None</td>\n",
       "      <td>A</td>\n",
       "      <td>2230757060</td>\n",
       "      <td>2045272</td>\n",
       "      <td>+43.6791876</td>\n",
       "      <td>-092.0939452</td>\n",
       "      <td>POLYGON ((-91.96985 43.84708, -91.96975 43.847...</td>\n",
       "      <td>27045</td>\n",
       "      <td>3.0</td>\n",
       "    </tr>\n",
       "    <tr>\n",
       "      <th>2</th>\n",
       "      <td>27</td>\n",
       "      <td>073</td>\n",
       "      <td>00659482</td>\n",
       "      <td>27073</td>\n",
       "      <td>Lac qui Parle</td>\n",
       "      <td>Lac qui Parle County</td>\n",
       "      <td>06</td>\n",
       "      <td>H1</td>\n",
       "      <td>G4020</td>\n",
       "      <td>None</td>\n",
       "      <td>None</td>\n",
       "      <td>None</td>\n",
       "      <td>A</td>\n",
       "      <td>1981394508</td>\n",
       "      <td>33643131</td>\n",
       "      <td>+44.9998550</td>\n",
       "      <td>-096.1768363</td>\n",
       "      <td>POLYGON ((-96.45202 44.97947, -96.45203 44.990...</td>\n",
       "      <td>27073</td>\n",
       "      <td>1.0</td>\n",
       "    </tr>\n",
       "    <tr>\n",
       "      <th>3</th>\n",
       "      <td>27</td>\n",
       "      <td>085</td>\n",
       "      <td>00659491</td>\n",
       "      <td>27085</td>\n",
       "      <td>McLeod</td>\n",
       "      <td>McLeod County</td>\n",
       "      <td>06</td>\n",
       "      <td>H1</td>\n",
       "      <td>G4020</td>\n",
       "      <td>378</td>\n",
       "      <td>26780</td>\n",
       "      <td>None</td>\n",
       "      <td>A</td>\n",
       "      <td>1272903790</td>\n",
       "      <td>36406719</td>\n",
       "      <td>+44.8216437</td>\n",
       "      <td>-094.2723203</td>\n",
       "      <td>POLYGON ((-94.49773 44.89233, -94.50000 44.892...</td>\n",
       "      <td>27085</td>\n",
       "      <td>8.0</td>\n",
       "    </tr>\n",
       "    <tr>\n",
       "      <th>4</th>\n",
       "      <td>27</td>\n",
       "      <td>153</td>\n",
       "      <td>00659521</td>\n",
       "      <td>27153</td>\n",
       "      <td>Todd</td>\n",
       "      <td>Todd County</td>\n",
       "      <td>06</td>\n",
       "      <td>H1</td>\n",
       "      <td>G4020</td>\n",
       "      <td>None</td>\n",
       "      <td>None</td>\n",
       "      <td>None</td>\n",
       "      <td>A</td>\n",
       "      <td>2447582000</td>\n",
       "      <td>89311191</td>\n",
       "      <td>+46.0665694</td>\n",
       "      <td>-094.9005758</td>\n",
       "      <td>POLYGON ((-95.14634 46.19407, -95.14634 46.194...</td>\n",
       "      <td>27153</td>\n",
       "      <td>9.0</td>\n",
       "    </tr>\n",
       "    <tr>\n",
       "      <th>...</th>\n",
       "      <td>...</td>\n",
       "      <td>...</td>\n",
       "      <td>...</td>\n",
       "      <td>...</td>\n",
       "      <td>...</td>\n",
       "      <td>...</td>\n",
       "      <td>...</td>\n",
       "      <td>...</td>\n",
       "      <td>...</td>\n",
       "      <td>...</td>\n",
       "      <td>...</td>\n",
       "      <td>...</td>\n",
       "      <td>...</td>\n",
       "      <td>...</td>\n",
       "      <td>...</td>\n",
       "      <td>...</td>\n",
       "      <td>...</td>\n",
       "      <td>...</td>\n",
       "      <td>...</td>\n",
       "      <td>...</td>\n",
       "    </tr>\n",
       "    <tr>\n",
       "      <th>82</th>\n",
       "      <td>27</td>\n",
       "      <td>119</td>\n",
       "      <td>00659505</td>\n",
       "      <td>27119</td>\n",
       "      <td>Polk</td>\n",
       "      <td>Polk County</td>\n",
       "      <td>06</td>\n",
       "      <td>H1</td>\n",
       "      <td>G4020</td>\n",
       "      <td>None</td>\n",
       "      <td>24220</td>\n",
       "      <td>None</td>\n",
       "      <td>A</td>\n",
       "      <td>5105112392</td>\n",
       "      <td>69128487</td>\n",
       "      <td>+47.7742536</td>\n",
       "      <td>-096.4000265</td>\n",
       "      <td>POLYGON ((-97.07218 48.02064, -97.07191 48.021...</td>\n",
       "      <td>27119</td>\n",
       "      <td>23.0</td>\n",
       "    </tr>\n",
       "    <tr>\n",
       "      <th>83</th>\n",
       "      <td>27</td>\n",
       "      <td>127</td>\n",
       "      <td>00659509</td>\n",
       "      <td>27127</td>\n",
       "      <td>Redwood</td>\n",
       "      <td>Redwood County</td>\n",
       "      <td>06</td>\n",
       "      <td>H1</td>\n",
       "      <td>G4020</td>\n",
       "      <td>None</td>\n",
       "      <td>None</td>\n",
       "      <td>None</td>\n",
       "      <td>A</td>\n",
       "      <td>2275491166</td>\n",
       "      <td>8230304</td>\n",
       "      <td>+44.4035357</td>\n",
       "      <td>-095.2542415</td>\n",
       "      <td>POLYGON ((-95.36040 44.54176, -95.36041 44.542...</td>\n",
       "      <td>27127</td>\n",
       "      <td>6.0</td>\n",
       "    </tr>\n",
       "    <tr>\n",
       "      <th>84</th>\n",
       "      <td>27</td>\n",
       "      <td>055</td>\n",
       "      <td>00659473</td>\n",
       "      <td>27055</td>\n",
       "      <td>Houston</td>\n",
       "      <td>Houston County</td>\n",
       "      <td>06</td>\n",
       "      <td>H1</td>\n",
       "      <td>G4020</td>\n",
       "      <td>None</td>\n",
       "      <td>29100</td>\n",
       "      <td>None</td>\n",
       "      <td>A</td>\n",
       "      <td>1429818691</td>\n",
       "      <td>43461981</td>\n",
       "      <td>+43.6669899</td>\n",
       "      <td>-091.5015556</td>\n",
       "      <td>POLYGON ((-91.31497 43.84707, -91.31385 43.847...</td>\n",
       "      <td>27055</td>\n",
       "      <td>4.0</td>\n",
       "    </tr>\n",
       "    <tr>\n",
       "      <th>85</th>\n",
       "      <td>27</td>\n",
       "      <td>019</td>\n",
       "      <td>00659455</td>\n",
       "      <td>27019</td>\n",
       "      <td>Carver</td>\n",
       "      <td>Carver County</td>\n",
       "      <td>06</td>\n",
       "      <td>H1</td>\n",
       "      <td>G4020</td>\n",
       "      <td>378</td>\n",
       "      <td>33460</td>\n",
       "      <td>None</td>\n",
       "      <td>A</td>\n",
       "      <td>917699930</td>\n",
       "      <td>56427530</td>\n",
       "      <td>+44.8213196</td>\n",
       "      <td>-093.8000913</td>\n",
       "      <td>POLYGON ((-94.01002 44.80210, -94.01002 44.803...</td>\n",
       "      <td>27019</td>\n",
       "      <td>26.0</td>\n",
       "    </tr>\n",
       "    <tr>\n",
       "      <th>86</th>\n",
       "      <td>27</td>\n",
       "      <td>135</td>\n",
       "      <td>00659513</td>\n",
       "      <td>27135</td>\n",
       "      <td>Roseau</td>\n",
       "      <td>Roseau County</td>\n",
       "      <td>06</td>\n",
       "      <td>H1</td>\n",
       "      <td>G4020</td>\n",
       "      <td>None</td>\n",
       "      <td>None</td>\n",
       "      <td>None</td>\n",
       "      <td>A</td>\n",
       "      <td>4329419266</td>\n",
       "      <td>16925443</td>\n",
       "      <td>+48.7610683</td>\n",
       "      <td>-095.8215042</td>\n",
       "      <td>POLYGON ((-96.40466 48.80528, -96.40467 48.813...</td>\n",
       "      <td>27135</td>\n",
       "      <td>2.0</td>\n",
       "    </tr>\n",
       "  </tbody>\n",
       "</table>\n",
       "<p>87 rows × 20 columns</p>\n",
       "</div>"
      ],
      "text/plain": [
       "   STATEFP COUNTYFP  COUNTYNS  GEOID           NAME              NAMELSAD  \\\n",
       "0       27      095  00659493  27095     Mille Lacs     Mille Lacs County   \n",
       "1       27      045  00659468  27045       Fillmore       Fillmore County   \n",
       "2       27      073  00659482  27073  Lac qui Parle  Lac qui Parle County   \n",
       "3       27      085  00659491  27085         McLeod         McLeod County   \n",
       "4       27      153  00659521  27153           Todd           Todd County   \n",
       "..     ...      ...       ...    ...            ...                   ...   \n",
       "82      27      119  00659505  27119           Polk           Polk County   \n",
       "83      27      127  00659509  27127        Redwood        Redwood County   \n",
       "84      27      055  00659473  27055        Houston        Houston County   \n",
       "85      27      019  00659455  27019         Carver         Carver County   \n",
       "86      27      135  00659513  27135         Roseau         Roseau County   \n",
       "\n",
       "   LSAD CLASSFP  MTFCC CSAFP CBSAFP METDIVFP FUNCSTAT       ALAND     AWATER  \\\n",
       "0    06      H1  G4020   378  33460     None        A  1482278368  283009546   \n",
       "1    06      H1  G4020   462  40340     None        A  2230757060    2045272   \n",
       "2    06      H1  G4020  None   None     None        A  1981394508   33643131   \n",
       "3    06      H1  G4020   378  26780     None        A  1272903790   36406719   \n",
       "4    06      H1  G4020  None   None     None        A  2447582000   89311191   \n",
       "..  ...     ...    ...   ...    ...      ...      ...         ...        ...   \n",
       "82   06      H1  G4020  None  24220     None        A  5105112392   69128487   \n",
       "83   06      H1  G4020  None   None     None        A  2275491166    8230304   \n",
       "84   06      H1  G4020  None  29100     None        A  1429818691   43461981   \n",
       "85   06      H1  G4020   378  33460     None        A   917699930   56427530   \n",
       "86   06      H1  G4020  None   None     None        A  4329419266   16925443   \n",
       "\n",
       "       INTPTLAT      INTPTLON  \\\n",
       "0   +45.9290434  -093.6329964   \n",
       "1   +43.6791876  -092.0939452   \n",
       "2   +44.9998550  -096.1768363   \n",
       "3   +44.8216437  -094.2723203   \n",
       "4   +46.0665694  -094.9005758   \n",
       "..          ...           ...   \n",
       "82  +47.7742536  -096.4000265   \n",
       "83  +44.4035357  -095.2542415   \n",
       "84  +43.6669899  -091.5015556   \n",
       "85  +44.8213196  -093.8000913   \n",
       "86  +48.7610683  -095.8215042   \n",
       "\n",
       "                                             geometry INJURY_FIPS  STATEID  \n",
       "0   POLYGON ((-93.76837 45.90970, -93.76860 45.910...       27095     23.0  \n",
       "1   POLYGON ((-91.96985 43.84708, -91.96975 43.847...       27045      3.0  \n",
       "2   POLYGON ((-96.45202 44.97947, -96.45203 44.990...       27073      1.0  \n",
       "3   POLYGON ((-94.49773 44.89233, -94.50000 44.892...       27085      8.0  \n",
       "4   POLYGON ((-95.14634 46.19407, -95.14634 46.194...       27153      9.0  \n",
       "..                                                ...         ...      ...  \n",
       "82  POLYGON ((-97.07218 48.02064, -97.07191 48.021...       27119     23.0  \n",
       "83  POLYGON ((-95.36040 44.54176, -95.36041 44.542...       27127      6.0  \n",
       "84  POLYGON ((-91.31497 43.84707, -91.31385 43.847...       27055      4.0  \n",
       "85  POLYGON ((-94.01002 44.80210, -94.01002 44.803...       27019     26.0  \n",
       "86  POLYGON ((-96.40466 48.80528, -96.40467 48.813...       27135      2.0  \n",
       "\n",
       "[87 rows x 20 columns]"
      ]
     },
     "execution_count": 53,
     "metadata": {},
     "output_type": "execute_result"
    }
   ],
   "source": [
    "deaths_by_cnty_merged = mn_cnty.merge(\n",
    "    deaths_by_cnty,\n",
    "    how=\"left\",\n",
    "    left_on=\"GEOID\",\n",
    "    right_on=\"INJURY_FIPS\"\n",
    ")\n",
    "deaths_by_cnty_merged"
   ]
  },
  {
   "cell_type": "markdown",
   "metadata": {},
   "source": [
    "Ok look at that! Merged!\n",
    "\n",
    "Now we have to clean up our data just a touch before we can map this puppy.\n",
    "\n",
    "First, we're going to rename that `STATEID` column because, again, it's actually our death counts column."
   ]
  },
  {
   "cell_type": "code",
   "execution_count": 54,
   "metadata": {},
   "outputs": [],
   "source": [
    "deaths_by_cnty_merged.rename(columns={'STATEID': 'death_count'}, inplace=True)"
   ]
  },
  {
   "cell_type": "markdown",
   "metadata": {},
   "source": [
    "Next we're going to replace all of the `NA` values in that death_counts column with 0 values. Because we joined the death data INTO the shapefile, it is possible that we will have counties without deaths.\n",
    "\n",
    "And that is the case. We have 87 counties in Minnesota:"
   ]
  },
  {
   "cell_type": "code",
   "execution_count": 51,
   "metadata": {},
   "outputs": [
    {
     "data": {
      "text/plain": [
       "87"
      ]
     },
     "execution_count": 51,
     "metadata": {},
     "output_type": "execute_result"
    }
   ],
   "source": [
    "len(mn_cnty)"
   ]
  },
  {
   "cell_type": "markdown",
   "metadata": {},
   "source": [
    "And only 77 of those counties have death data:"
   ]
  },
  {
   "cell_type": "code",
   "execution_count": 50,
   "metadata": {
    "scrolled": true
   },
   "outputs": [
    {
     "data": {
      "text/plain": [
       "77"
      ]
     },
     "execution_count": 50,
     "metadata": {},
     "output_type": "execute_result"
    }
   ],
   "source": [
    "len(deaths_by_cnty)"
   ]
  },
  {
   "cell_type": "markdown",
   "metadata": {},
   "source": [
    "Let's visualize the change. Here are all the values found in the `death_count` field in our merged dataframe:"
   ]
  },
  {
   "cell_type": "code",
   "execution_count": 56,
   "metadata": {},
   "outputs": [
    {
     "data": {
      "text/plain": [
       "array([ 23.,   3.,   1.,   8.,   9.,   2.,  21.,   4.,   1.,   5.,  11.,\n",
       "         2.,   3.,  51.,   4.,   3.,   3.,  nan,   4.,  nan,  33.,  32.,\n",
       "        33.,   7.,  nan,  21.,   1.,  25.,  19.,   3.,  16.,  25.,   7.,\n",
       "         7.,   1.,  nan,  14.,  24., 177.,  nan, 170.,  18.,   2., 329.,\n",
       "        nan,  13.,  20.,   3.,   3.,   7.,  74.,  21.,  nan,   2.,  18.,\n",
       "        56.,  30.,   4.,   4.,   4.,  nan,   3.,   1.,  28.,  14.,   3.,\n",
       "         2.,   2.,  16.,  nan,   2.,  11., 550.,  nan,   4.,   5.,   1.,\n",
       "         9.,   1.,   1.,   1.,  17.,  23.,   6.,   4.,  26.,   2.])"
      ]
     },
     "execution_count": 56,
     "metadata": {},
     "output_type": "execute_result"
    }
   ],
   "source": [
    "deaths_by_cnty_merged['death_count'].values"
   ]
  },
  {
   "cell_type": "markdown",
   "metadata": {},
   "source": [
    "Now let's run our `fillna` function and look again:"
   ]
  },
  {
   "cell_type": "code",
   "execution_count": 57,
   "metadata": {},
   "outputs": [],
   "source": [
    "deaths_by_cnty_merged.fillna(value={'death_count': 0}, inplace=True)"
   ]
  },
  {
   "cell_type": "code",
   "execution_count": 58,
   "metadata": {
    "scrolled": true
   },
   "outputs": [
    {
     "data": {
      "text/plain": [
       "array([ 23.,   3.,   1.,   8.,   9.,   2.,  21.,   4.,   1.,   5.,  11.,\n",
       "         2.,   3.,  51.,   4.,   3.,   3.,   0.,   4.,   0.,  33.,  32.,\n",
       "        33.,   7.,   0.,  21.,   1.,  25.,  19.,   3.,  16.,  25.,   7.,\n",
       "         7.,   1.,   0.,  14.,  24., 177.,   0., 170.,  18.,   2., 329.,\n",
       "         0.,  13.,  20.,   3.,   3.,   7.,  74.,  21.,   0.,   2.,  18.,\n",
       "        56.,  30.,   4.,   4.,   4.,   0.,   3.,   1.,  28.,  14.,   3.,\n",
       "         2.,   2.,  16.,   0.,   2.,  11., 550.,   0.,   4.,   5.,   1.,\n",
       "         9.,   1.,   1.,   1.,  17.,  23.,   6.,   4.,  26.,   2.])"
      ]
     },
     "execution_count": 58,
     "metadata": {},
     "output_type": "execute_result"
    }
   ],
   "source": [
    "deaths_by_cnty_merged['death_count'].values"
   ]
  },
  {
   "cell_type": "markdown",
   "metadata": {},
   "source": [
    "Look! No more `nan` values! This will allow us to visualize counties with 0 deaths on the map. If we left those as `nan` valuse, the map would omit the county all together and we'd have a swiss cheese map on our hands."
   ]
  },
  {
   "cell_type": "code",
   "execution_count": 60,
   "metadata": {
    "scrolled": true
   },
   "outputs": [
    {
     "name": "stderr",
     "output_type": "stream",
     "text": [
      "/Users/akanik/.virtualenvs/teaching-guide-data-cleaning-and-viz-with--Yo5GS_kn/lib/python3.7/site-packages/pyproj/crs.py:77: FutureWarning: '+init=<authority>:<code>' syntax is deprecated. '<authority>:<code>' is the preferred initialization method.\n",
      "  return _prepare_from_string(\" \".join(pjargs))\n"
     ]
    },
    {
     "name": "stdout",
     "output_type": "stream",
     "text": [
      "JenksCaspall            \n",
      "\n",
      "    Interval       Count\n",
      "------------------------\n",
      "[  0.00,   1.00] |    19\n",
      "(  1.00,   8.00] |    33\n",
      "(  8.00,  19.00] |    13\n",
      "( 19.00,  74.00] |    18\n",
      "( 74.00, 550.00] |     4\n"
     ]
    },
    {
     "data": {
      "text/plain": [
       "<matplotlib.axes._subplots.AxesSubplot at 0x129ec03d0>"
      ]
     },
     "execution_count": 60,
     "metadata": {},
     "output_type": "execute_result"
    },
    {
     "data": {
      "image/png": "[encoded data removed]",
      "text/plain": [
       "<Figure size 720x720 with 1 Axes>"
      ]
     },
     "metadata": {
      "needs_background": "light"
     },
     "output_type": "display_data"
    }
   ],
   "source": [
    "#fix our map projection so it looks prettier\n",
    "deaths_by_cnty_merged = deaths_by_cnty_merged.to_crs('EPSG:3395')\n",
    "\n",
    "#establish the max and min values for our legend\n",
    "vmin = deaths_by_cnty_merged.death_count.min()\n",
    "vmax = deaths_by_cnty_merged.death_count.max()\n",
    "fig, ax = plt.subplots(1, figsize=(10, 10))\n",
    "\n",
    "# we don't need axes for a map\n",
    "ax.axis('off')\n",
    "\n",
    "# add a title\n",
    "ax.set_title('Minnesota Deaths by County', fontdict={'fontsize': '25', 'fontweight' : '3'})\n",
    "\n",
    "# create an annotation for the data source\n",
    "ax.annotate('Source: xxxxxx', xy=(0.1, .08),  xycoords='figure fraction', \n",
    "            horizontalalignment='left', verticalalignment='top', fontsize=12, color='#555555')\n",
    "\n",
    "#This bit will show us how many counties are in each bucket\n",
    "print(mapclassify.JenksCaspall(deaths_by_cnty_merged.death_count, k=5))\n",
    "\n",
    "#This bit actually builds the map\n",
    "deaths_by_cnty_merged.plot(column='death_count', cmap='Greens', linewidth=0.8, ax=ax, \n",
    "                           edgecolor='0.8', scheme='JenksCaspall', legend=True)"
   ]
  },
  {
   "cell_type": "markdown",
   "metadata": {},
   "source": [
    "Hoory we've made a map! But this isn't very illuminating because we've just mapped the death counts instead of death rates.\n",
    "\n",
    "### ✍️Try your hand at creating a map using death rates for each county by:\n",
    "\n",
    "- add county population data (look in the data folder)\n",
    "- create a new dataframe by merging our death by county data to the county pop data\n",
    "- calculate a new death rate column in your new dataframe\n",
    "- use the death rate column to create a map"
   ]
  },
  {
   "cell_type": "code",
   "execution_count": 71,
   "metadata": {},
   "outputs": [],
   "source": [
    "# add county pop data\n",
    "cnty_pop = pd.read_csv('data/mn_cnty_pop_estimates.csv')\n",
    "cnty_pop['cnty_fips'] = cnty_pop['GEO_ID'].apply(lambda x: x[-5:])\n",
    "\n",
    "# create a new dataframe\n",
    "cnty_death_pop_merge = deaths_by_cnty_merged.merge(cnty_pop, how='left',\n",
    "                                                   left_on='INJURY_FIPS',\n",
    "                                                   right_on='cnty_fips')\n",
    "\n",
    "# calculate death rate column per 1,000 residents\n",
    "cnty_death_pop_merge['death_rate'] = (cnty_death_pop_merge['death_count'] / cnty_death_pop_merge['total_pop'])*1000\n",
    "\n",
    "# replace those na values with 0s\n",
    "cnty_death_pop_merge.fillna(value={'death_rate': 0}, inplace=True)\n"
   ]
  },
  {
   "cell_type": "code",
   "execution_count": 72,
   "metadata": {
    "scrolled": true
   },
   "outputs": [
    {
     "name": "stdout",
     "output_type": "stream",
     "text": [
      "JenksCaspall        \n",
      "\n",
      "  Interval     Count\n",
      "--------------------\n",
      "[0.00, 0.02] |    11\n",
      "(0.02, 0.16] |    17\n",
      "(0.16, 0.27] |    22\n",
      "(0.27, 0.41] |    17\n",
      "(0.41, 2.00] |    20\n"
     ]
    },
    {
     "data": {
      "text/plain": [
       "<matplotlib.axes._subplots.AxesSubplot at 0x1270e7bd0>"
      ]
     },
     "execution_count": 72,
     "metadata": {},
     "output_type": "execute_result"
    },
    {
     "data": {
      "image/png": "[encoded data removed]",
      "text/plain": [
       "<Figure size 720x720 with 1 Axes>"
      ]
     },
     "metadata": {
      "needs_background": "light"
     },
     "output_type": "display_data"
    }
   ],
   "source": [
    "#establish the max and min values for our legend\n",
    "vmin = cnty_death_pop_merge.death_rate.min()\n",
    "vmax = cnty_death_pop_merge.death_rate.max()\n",
    "fig, ax = plt.subplots(1, figsize=(10, 10))\n",
    "\n",
    "# we don't need axes for a map\n",
    "ax.axis('off')\n",
    "\n",
    "# add a title\n",
    "ax.set_title('Minnesota Death Rate by County', fontdict={'fontsize': '25', 'fontweight' : '3'})\n",
    "\n",
    "# create an annotation for the data source\n",
    "ax.annotate('Source: xxxxxx', xy=(0.1, .08),  xycoords='figure fraction', \n",
    "            horizontalalignment='left', verticalalignment='top', fontsize=12, color='#555555')\n",
    "\n",
    "#This bit will show us how many counties are in each bucket\n",
    "print(mapclassify.JenksCaspall(cnty_death_pop_merge.death_rate, k=5))\n",
    "\n",
    "#This bit actually builds the map\n",
    "cnty_death_pop_merge.plot(column='death_rate', cmap='Greens', linewidth=0.8, ax=ax, \n",
    "                          edgecolor='0.8', scheme='JenksCaspall', legend=True)"
   ]
  },
  {
   "cell_type": "markdown",
   "metadata": {},
   "source": [
    "We can also save it as an image file!"
   ]
  },
  {
   "cell_type": "code",
   "execution_count": 73,
   "metadata": {},
   "outputs": [],
   "source": [
    "fig.savefig('img/minnesota-cnty-od-rates-map.png', dpi=300)"
   ]
  },
  {
   "cell_type": "markdown",
   "metadata": {},
   "source": [
    "# If we need another example but this is too much already"
   ]
  },
  {
   "cell_type": "markdown",
   "metadata": {},
   "source": [
    "### Grouping values into new categories\n",
    "\n",
    "For a more informative bar chart, let's tag each row with a new `age_group` value. We can use `lambda()` and `apply()`, as we did above.\n",
    "\n",
    "First, our function:"
   ]
  },
  {
   "cell_type": "code",
   "execution_count": null,
   "metadata": {},
   "outputs": [],
   "source": [
    "def get_age_group(age):\n",
    "    if age < 20:\n",
    "        return '0-19'\n",
    "    elif age >=20 and age < 35:\n",
    "        return '20-34'\n",
    "    elif age >= 35 and age < 50:\n",
    "        return '35-49'\n",
    "    elif age >= 50 and age < 70:\n",
    "        return '50-69'\n",
    "    elif age >= 70:\n",
    "        return '70 and over'\n",
    "    return 'Unknown'    "
   ]
  },
  {
   "cell_type": "markdown",
   "metadata": {},
   "source": [
    "And now let's apply it to each row's `AGEYEARS` column"
   ]
  },
  {
   "cell_type": "code",
   "execution_count": null,
   "metadata": {},
   "outputs": [],
   "source": [
    "df['age_group'] = df.AGEYEARS.apply(lambda x: get_age_group(x))"
   ]
  },
  {
   "cell_type": "markdown",
   "metadata": {},
   "source": [
    "And be sure to check that the results make sense..."
   ]
  },
  {
   "cell_type": "code",
   "execution_count": null,
   "metadata": {},
   "outputs": [],
   "source": [
    "df[['age_group', 'AGEYEARS']]"
   ]
  },
  {
   "cell_type": "markdown",
   "metadata": {},
   "source": [
    "### ✍️ Your turn\n",
    "\n",
    "In the cells below, group by and count the `df` data frame:\n",
    "- Get a subset of the `df` data frame\n",
    "- Group by `age_group`\n",
    "- Count the rows with each value\n",
    "- Order by age group\n",
    "- Rename the count to a new variable called `death_count` after grouping\n",
    "- Plot the age groups on a bar chart"
   ]
  },
  {
   "cell_type": "markdown",
   "metadata": {},
   "source": [
    "### Small multiple maps\n",
    "\n",
    "Let's make some small multiples to see how things have changed overtime.\n"
   ]
  },
  {
   "cell_type": "code",
   "execution_count": null,
   "metadata": {},
   "outputs": [],
   "source": [
    "#years as a list\n",
    "year_list = ['2006','2007','2008','2009','2010','2011',\n",
    "             '2012','2013','2014','2015','2016','2017']\n",
    "\n",
    "by_yearcnty = pd.pivot_table(df, values='STATEID', index='INJURY_FIPS',\n",
    "                            columns=['death_year'], aggfunc='count').reset_index()\n",
    "\n",
    "\n",
    "cnty_death_pop_merge = deaths_by_cnty_merged.merge(cnty_pop, how='left',\n",
    "                                                   left_on='INJURY_FIPS',\n",
    "                                                   right_on='cnty_fips')\n",
    "\n",
    "# calculate death rate column per 1,000 residents\n",
    "cnty_death_pop_merge['death_rate'] = (cnty_death_pop_merge['death_count'] / cnty_death_pop_merge['total_pop'])*1000\n",
    "\n",
    "# replace those na values with 0s\n",
    "cnty_death_pop_merge.fillna(value={'death_rate': 0}, inplace=True)\n",
    "\n",
    "\n",
    "\n",
    "\n",
    "yr_geodeaths = mn_cnty.merge(by_yearcnty, left_on='GEOID', right_on='INJURY_FIPS', how='left')\n",
    "\n",
    "yr_geodeaths = yr_geodeaths.fillna({'2006':0,'2007':0,'2008':0,'2009':0,'2010':0,\n",
    "                                   '2011':0,'2012':0,'2013':0,'2014':0,'2015':0,\n",
    "                                   '2016':0,'2017':0})\n",
    "\n",
    "\n",
    "plt.figure(figsize=(20,15), facecolor='white')\n",
    "\n",
    "plot_number = 1\n",
    "for year in year_list:\n",
    "    # Inside of an image that's a 15x13 grid, put this\n",
    "    # graph in the in the plot_number slot.\n",
    "    ax = plt.subplot(3, 4, plot_number)\n",
    "    vmin = 0#yr_geodeaths[year].min\n",
    "    vmax = 5#yr_geodeaths[year].max\n",
    "    \n",
    "    yr_geodeaths.plot(column=year, cmap='Greens', linewidth=0.8, vmin=vmin, \n",
    "                      vmax=vmax, edgecolor='0.8',ax=ax, legend=False)\n",
    "    \n",
    "    ax.axis('off')\n",
    "    \n",
    "    ax.set_title(year, fontdict={'fontsize': '12', 'fontweight' : '3'})\n",
    "    plot_number = plot_number + 1\n",
    "plt\n",
    "    "
   ]
  }
 ],
 "metadata": {
  "kernelspec": {
   "display_name": "Python 3",
   "language": "python",
   "name": "python3"
  },
  "language_info": {
   "codemirror_mode": {
    "name": "ipython",
    "version": 3
   },
   "file_extension": ".py",
   "mimetype": "text/x-python",
   "name": "python",
   "nbconvert_exporter": "python",
   "pygments_lexer": "ipython3",
   "version": "3.7.4"
  }
 },
 "nbformat": 4,
 "nbformat_minor": 2
}

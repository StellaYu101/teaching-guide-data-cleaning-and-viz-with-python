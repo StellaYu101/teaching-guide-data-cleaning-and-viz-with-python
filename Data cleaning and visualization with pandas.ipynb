{
 "cells": [
  {
   "cell_type": "markdown",
   "metadata": {},
   "source": [
    "# Data cleaning and visualization with pandas\n",
    "\n",
    "This notebook will introduce you to intermediate tasks using the [`pandas`](https://pandas.pydata.org/) data analysis library and demonstrate how to dedupe, clean, group, merge/join and visualize a data set.\n",
    "\n",
    "The data for this exercise will be a CSV of opioid deaths reported in Minnesota. Many examples here are adapted from work by Mary Jo Webster.\n",
    "\n",
    "(If you're completely new to Python or your syntax is rusty, it might be useful to [keep this notebook open in a new tab](Python%20syntax%20cheat%20sheet.ipynb) as a reference.)\n",
    "\n",
    "#### Session outline\n",
    "- [Import pandas; load a csv into a data frame](#Import-pandas;-load-a-csv-into-a-data-frame)\n",
    "- [Inspect the data](#Inspect-the-data)\n",
    "- [Checking for duplicate records](#Checking-for-duplicate-records-with-groupby())\n",
    "- [Renaming a column](#Renaming-a-column)\n",
    "- [Recoding data with lambda()](#Recoding-data-with-lambda())\n",
    "- [Cleaning up inconsistent values](#Cleaning-up-inconsistent-values)\n",
    "- [Visualize the data with a bar chart](#Visualize-the-data-with-a-bar-chart)\n",
    "- [Extracting year from a date](#Extracting-year-from-a-date)\n",
    "- [Merging with other data (Joins)](#Merging-with-other-data)\n",
    "- [Mapping TK](#Mapping-TK)"
   ]
  },
  {
   "cell_type": "markdown",
   "metadata": {},
   "source": [
    "### For reference: Using Jupyter notebooks\n",
    "\n",
    "There are many ways to write and run Python code on your computer. One way -- the method we're using today -- is to use [Jupyter notebooks](https://jupyter.org/), which run in your browser and allow you to intersperse documentation with your code. They're handy for bundling your code with a human-readable explanation of what's happening at each step. Check out some examples from the [L.A. Times](https://github.com/datadesk/notebooks) and [BuzzFeed News](https://github.com/BuzzFeedNews/everything#data-and-analyses).\n",
    "\n",
    "**To add a new cell to your notebook**: Click the + button in the menu.\n",
    "\n",
    "**To run a cell of code**: Select the cell and click the \"Run\" button in the menu, or you can press Shift+Enter.\n",
    "\n",
    "**One common gotcha**: The notebook doesn't \"know\" about code you've written until you've _run_ the cell containing it. For example, if you define a variable called `my_name` in one cell, and later, when you try to access that variable in another cell but get an error that says `NameError: name 'my_name' is not defined`, the most likely solution is to run (or re-run) the cell in which you defined `my_name`."
   ]
  },
  {
   "cell_type": "markdown",
   "metadata": {},
   "source": [
    "### Import pandas; load a csv into a data frame\n",
    "\n",
    "This was covered in more detail in the previous session, so we'll keep moving."
   ]
  },
  {
   "cell_type": "code",
   "execution_count": 1,
   "metadata": {},
   "outputs": [
    {
     "data": {
      "text/html": [
       "<div>\n",
       "<style scoped>\n",
       "    .dataframe tbody tr th:only-of-type {\n",
       "        vertical-align: middle;\n",
       "    }\n",
       "\n",
       "    .dataframe tbody tr th {\n",
       "        vertical-align: top;\n",
       "    }\n",
       "\n",
       "    .dataframe thead th {\n",
       "        text-align: right;\n",
       "    }\n",
       "</style>\n",
       "<table border=\"1\" class=\"dataframe\">\n",
       "  <thead>\n",
       "    <tr style=\"text-align: right;\">\n",
       "      <th></th>\n",
       "      <th>STATEID</th>\n",
       "      <th>FIRSTNAME</th>\n",
       "      <th>MIDDLENAME</th>\n",
       "      <th>LASTNAME</th>\n",
       "      <th>MAIDENNAME</th>\n",
       "      <th>SUFFIX</th>\n",
       "      <th>BIRTHDATE</th>\n",
       "      <th>DEATHDATE</th>\n",
       "      <th>GENDER</th>\n",
       "      <th>RACE</th>\n",
       "      <th>...</th>\n",
       "      <th>DEATHCOUNTY</th>\n",
       "      <th>MANNERDEATH</th>\n",
       "      <th>INJURY_DATE</th>\n",
       "      <th>INJURYPLACE</th>\n",
       "      <th>INJURYSTATE</th>\n",
       "      <th>INJURYCOUNTY</th>\n",
       "      <th>INJURY_FIPS</th>\n",
       "      <th>INJURYDESC</th>\n",
       "      <th>CAUSEA</th>\n",
       "      <th>CAUSEB</th>\n",
       "    </tr>\n",
       "  </thead>\n",
       "  <tbody>\n",
       "    <tr>\n",
       "      <th>0</th>\n",
       "      <td>2005-MN-006548</td>\n",
       "      <td>LANCE</td>\n",
       "      <td>NaN</td>\n",
       "      <td>CHOMMIE</td>\n",
       "      <td>NaN</td>\n",
       "      <td>NaN</td>\n",
       "      <td>12/16/1953</td>\n",
       "      <td>2/26/2005</td>\n",
       "      <td>M</td>\n",
       "      <td>White</td>\n",
       "      <td>...</td>\n",
       "      <td>ANOKA</td>\n",
       "      <td>ACCIDENT</td>\n",
       "      <td>NaN</td>\n",
       "      <td>UNKNOWN</td>\n",
       "      <td>UNKNOWN</td>\n",
       "      <td>UNKNOWN</td>\n",
       "      <td>NaN</td>\n",
       "      <td>DECEDENT INGESTED AN UNKNOWN AMOUNT OF OXYCODONE</td>\n",
       "      <td>OXYCODONE TOXICITY</td>\n",
       "      <td>NaN</td>\n",
       "    </tr>\n",
       "    <tr>\n",
       "      <th>1</th>\n",
       "      <td>2005-MN-009829</td>\n",
       "      <td>CARRIE</td>\n",
       "      <td>ANNE</td>\n",
       "      <td>FISCHER</td>\n",
       "      <td>HOLMES</td>\n",
       "      <td>NaN</td>\n",
       "      <td>6/6/1961</td>\n",
       "      <td>3/27/2005</td>\n",
       "      <td>F</td>\n",
       "      <td>White</td>\n",
       "      <td>...</td>\n",
       "      <td>ANOKA</td>\n",
       "      <td>ACCIDENT</td>\n",
       "      <td>NaN</td>\n",
       "      <td>UNKNOWN</td>\n",
       "      <td>UNKNOWN</td>\n",
       "      <td>UNKNOWN</td>\n",
       "      <td>NaN</td>\n",
       "      <td>DECEDENT INJESTED AN UNKNOWN AMOUNT OF MORPHINE</td>\n",
       "      <td>MORPHINE TOXICITY</td>\n",
       "      <td>NaN</td>\n",
       "    </tr>\n",
       "    <tr>\n",
       "      <th>2</th>\n",
       "      <td>2005-MN-023540</td>\n",
       "      <td>ELLIS</td>\n",
       "      <td>RAY</td>\n",
       "      <td>MCGHEE</td>\n",
       "      <td>NaN</td>\n",
       "      <td>NaN</td>\n",
       "      <td>4/4/1963</td>\n",
       "      <td>7/4/2005</td>\n",
       "      <td>M</td>\n",
       "      <td>African American</td>\n",
       "      <td>...</td>\n",
       "      <td>ANOKA</td>\n",
       "      <td>ACCIDENT</td>\n",
       "      <td>NaN</td>\n",
       "      <td>UNSPECIFIED PLACE</td>\n",
       "      <td>UNKNOWN</td>\n",
       "      <td>UNKNOWN</td>\n",
       "      <td>NaN</td>\n",
       "      <td>THE DECEDENT INGESTED AN UNKNOWN AMOUNT OF COC...</td>\n",
       "      <td>MIXED DRUG TOXICITY (COCAINE AND MORPHINE)</td>\n",
       "      <td>NaN</td>\n",
       "    </tr>\n",
       "    <tr>\n",
       "      <th>3</th>\n",
       "      <td>2005-MN-027612</td>\n",
       "      <td>NATHANIEL</td>\n",
       "      <td>RYE</td>\n",
       "      <td>HAMILTON</td>\n",
       "      <td>NaN</td>\n",
       "      <td>NaN</td>\n",
       "      <td>8/14/1976</td>\n",
       "      <td>9/25/2005</td>\n",
       "      <td>M</td>\n",
       "      <td>White</td>\n",
       "      <td>...</td>\n",
       "      <td>ANOKA</td>\n",
       "      <td>ACCIDENT</td>\n",
       "      <td>NaN</td>\n",
       "      <td>UNKNOWN</td>\n",
       "      <td>UNKNOWN</td>\n",
       "      <td>UNKNOWN</td>\n",
       "      <td>NaN</td>\n",
       "      <td>THE DECEDENT INGESTED AN UNKNOWN AMOUNT OF OXY...</td>\n",
       "      <td>MIXED DRUG TOXICITY (OXYCODONE AND ALPRAZOLAM)</td>\n",
       "      <td>NaN</td>\n",
       "    </tr>\n",
       "    <tr>\n",
       "      <th>4</th>\n",
       "      <td>2005-MN-028477</td>\n",
       "      <td>JILL</td>\n",
       "      <td>KRISTINA</td>\n",
       "      <td>BROWN</td>\n",
       "      <td>NaN</td>\n",
       "      <td>NaN</td>\n",
       "      <td>4/14/1982</td>\n",
       "      <td>10/3/2005</td>\n",
       "      <td>F</td>\n",
       "      <td>White</td>\n",
       "      <td>...</td>\n",
       "      <td>ANOKA</td>\n",
       "      <td>SUICIDE</td>\n",
       "      <td>NaN</td>\n",
       "      <td>UNKNOWN</td>\n",
       "      <td>UNKNOWN</td>\n",
       "      <td>UNKNOWN</td>\n",
       "      <td>NaN</td>\n",
       "      <td>DEC INGESTED AN UNKNOWN AMOUNT OF SEROQUEL AND...</td>\n",
       "      <td>QUETIAPINE AND OXYCODONE TOXICITY</td>\n",
       "      <td>NaN</td>\n",
       "    </tr>\n",
       "    <tr>\n",
       "      <th>...</th>\n",
       "      <td>...</td>\n",
       "      <td>...</td>\n",
       "      <td>...</td>\n",
       "      <td>...</td>\n",
       "      <td>...</td>\n",
       "      <td>...</td>\n",
       "      <td>...</td>\n",
       "      <td>...</td>\n",
       "      <td>...</td>\n",
       "      <td>...</td>\n",
       "      <td>...</td>\n",
       "      <td>...</td>\n",
       "      <td>...</td>\n",
       "      <td>...</td>\n",
       "      <td>...</td>\n",
       "      <td>...</td>\n",
       "      <td>...</td>\n",
       "      <td>...</td>\n",
       "      <td>...</td>\n",
       "      <td>...</td>\n",
       "      <td>...</td>\n",
       "    </tr>\n",
       "    <tr>\n",
       "      <th>3802</th>\n",
       "      <td>2016-MN-029127</td>\n",
       "      <td>STEPHEN</td>\n",
       "      <td>KIRK</td>\n",
       "      <td>PATTERSON</td>\n",
       "      <td>NaN</td>\n",
       "      <td>NaN</td>\n",
       "      <td>3/2/1987</td>\n",
       "      <td>8/31/2016</td>\n",
       "      <td>M</td>\n",
       "      <td>White</td>\n",
       "      <td>...</td>\n",
       "      <td>WRIGHT</td>\n",
       "      <td>ACCIDENT</td>\n",
       "      <td>8/31/2016</td>\n",
       "      <td>PRIVATE RESIDENCE</td>\n",
       "      <td>MINNESOTA</td>\n",
       "      <td>WRIGHT</td>\n",
       "      <td>27171.0</td>\n",
       "      <td>THE DECEDENT SELF-ADMINISTERED HEROIN AND ETHANOL</td>\n",
       "      <td>MIXED HEROIN AND ALCOHOL TOXICITY</td>\n",
       "      <td>NaN</td>\n",
       "    </tr>\n",
       "    <tr>\n",
       "      <th>3803</th>\n",
       "      <td>2017-MN-018317</td>\n",
       "      <td>TIMOTHY</td>\n",
       "      <td>ROBERT</td>\n",
       "      <td>WARD</td>\n",
       "      <td>NaN</td>\n",
       "      <td>NaN</td>\n",
       "      <td>4/13/1966</td>\n",
       "      <td>5/26/2017</td>\n",
       "      <td>M</td>\n",
       "      <td>White</td>\n",
       "      <td>...</td>\n",
       "      <td>WRIGHT</td>\n",
       "      <td>ACCIDENT</td>\n",
       "      <td>NaN</td>\n",
       "      <td>PRIVATE RESIDENCE</td>\n",
       "      <td>MINNESOTA</td>\n",
       "      <td>WRIGHT</td>\n",
       "      <td>27171.0</td>\n",
       "      <td>THE DECEDENT SELF-ADMINISTERED EXCESSIVE OXYCO...</td>\n",
       "      <td>OXYCODONE OVERDOSE</td>\n",
       "      <td>NaN</td>\n",
       "    </tr>\n",
       "    <tr>\n",
       "      <th>3804</th>\n",
       "      <td>2017-MN-024845</td>\n",
       "      <td>AUSTIN</td>\n",
       "      <td>ADRIAN</td>\n",
       "      <td>HILL</td>\n",
       "      <td>NaN</td>\n",
       "      <td>NaN</td>\n",
       "      <td>12/5/1996</td>\n",
       "      <td>7/23/2017</td>\n",
       "      <td>M</td>\n",
       "      <td>White</td>\n",
       "      <td>...</td>\n",
       "      <td>WRIGHT</td>\n",
       "      <td>ACCIDENT</td>\n",
       "      <td>NaN</td>\n",
       "      <td>PRIVATE RESIDENCE</td>\n",
       "      <td>MINNESOTA</td>\n",
       "      <td>WRIGHT</td>\n",
       "      <td>27171.0</td>\n",
       "      <td>THE DECEDENT USED ILLICIT FENTANYL</td>\n",
       "      <td>FENTANYL TOXICITY</td>\n",
       "      <td>NaN</td>\n",
       "    </tr>\n",
       "    <tr>\n",
       "      <th>3805</th>\n",
       "      <td>2014-MN-009504</td>\n",
       "      <td>STEPHANIE</td>\n",
       "      <td>PAIGE</td>\n",
       "      <td>LABATTE</td>\n",
       "      <td>NaN</td>\n",
       "      <td>NaN</td>\n",
       "      <td>1/14/1984</td>\n",
       "      <td>3/23/2014</td>\n",
       "      <td>F</td>\n",
       "      <td>American Indian</td>\n",
       "      <td>...</td>\n",
       "      <td>YELLOW MEDICINE</td>\n",
       "      <td>ACCIDENT</td>\n",
       "      <td>3/23/2014</td>\n",
       "      <td>PROJECT TURNABOUT</td>\n",
       "      <td>MINNESOTA</td>\n",
       "      <td>YELLOW MEDICINE</td>\n",
       "      <td>27173.0</td>\n",
       "      <td>OVERDOSE OF FENTANYL.  STEPHANIE LABATTE INGES...</td>\n",
       "      <td>OVERDOSE OF FENTANYL</td>\n",
       "      <td>DEPRESSION</td>\n",
       "    </tr>\n",
       "    <tr>\n",
       "      <th>3806</th>\n",
       "      <td>2014-MN-039821</td>\n",
       "      <td>LISA</td>\n",
       "      <td>LYNN</td>\n",
       "      <td>LALIM</td>\n",
       "      <td>LALIM</td>\n",
       "      <td>NaN</td>\n",
       "      <td>2/27/1971</td>\n",
       "      <td>12/20/2014</td>\n",
       "      <td>F</td>\n",
       "      <td>White</td>\n",
       "      <td>...</td>\n",
       "      <td>YELLOW MEDICINE</td>\n",
       "      <td>SUICIDE</td>\n",
       "      <td>NaN</td>\n",
       "      <td>UNKNOWN</td>\n",
       "      <td>MINNESOTA</td>\n",
       "      <td>YELLOW MEDICINE</td>\n",
       "      <td>27173.0</td>\n",
       "      <td>THE DECEASED INGESTED AN EXCESS OF THE ABOVE S...</td>\n",
       "      <td>MIXED DRUG TOXICITY (TRAMADOL, DIPHENHYDRAMINE...</td>\n",
       "      <td>NaN</td>\n",
       "    </tr>\n",
       "  </tbody>\n",
       "</table>\n",
       "<p>3807 rows × 34 columns</p>\n",
       "</div>"
      ],
      "text/plain": [
       "             STATEID  FIRSTNAME MIDDLENAME   LASTNAME MAIDENNAME SUFFIX  \\\n",
       "0     2005-MN-006548      LANCE        NaN    CHOMMIE        NaN    NaN   \n",
       "1     2005-MN-009829     CARRIE       ANNE    FISCHER     HOLMES    NaN   \n",
       "2     2005-MN-023540      ELLIS        RAY     MCGHEE        NaN    NaN   \n",
       "3     2005-MN-027612  NATHANIEL        RYE   HAMILTON        NaN    NaN   \n",
       "4     2005-MN-028477       JILL   KRISTINA      BROWN        NaN    NaN   \n",
       "...              ...        ...        ...        ...        ...    ...   \n",
       "3802  2016-MN-029127    STEPHEN       KIRK  PATTERSON        NaN    NaN   \n",
       "3803  2017-MN-018317    TIMOTHY     ROBERT       WARD        NaN    NaN   \n",
       "3804  2017-MN-024845     AUSTIN     ADRIAN       HILL        NaN    NaN   \n",
       "3805  2014-MN-009504  STEPHANIE      PAIGE    LABATTE        NaN    NaN   \n",
       "3806  2014-MN-039821       LISA       LYNN      LALIM      LALIM    NaN   \n",
       "\n",
       "       BIRTHDATE   DEATHDATE GENDER              RACE  ...      DEATHCOUNTY  \\\n",
       "0     12/16/1953   2/26/2005      M             White  ...            ANOKA   \n",
       "1       6/6/1961   3/27/2005      F             White  ...            ANOKA   \n",
       "2       4/4/1963    7/4/2005      M  African American  ...            ANOKA   \n",
       "3      8/14/1976   9/25/2005      M             White  ...            ANOKA   \n",
       "4      4/14/1982   10/3/2005      F             White  ...            ANOKA   \n",
       "...          ...         ...    ...               ...  ...              ...   \n",
       "3802    3/2/1987   8/31/2016      M             White  ...           WRIGHT   \n",
       "3803   4/13/1966   5/26/2017      M             White  ...           WRIGHT   \n",
       "3804   12/5/1996   7/23/2017      M             White  ...           WRIGHT   \n",
       "3805   1/14/1984   3/23/2014      F   American Indian  ...  YELLOW MEDICINE   \n",
       "3806   2/27/1971  12/20/2014      F             White  ...  YELLOW MEDICINE   \n",
       "\n",
       "      MANNERDEATH INJURY_DATE        INJURYPLACE INJURYSTATE     INJURYCOUNTY  \\\n",
       "0        ACCIDENT         NaN            UNKNOWN     UNKNOWN          UNKNOWN   \n",
       "1        ACCIDENT         NaN            UNKNOWN     UNKNOWN          UNKNOWN   \n",
       "2        ACCIDENT         NaN  UNSPECIFIED PLACE     UNKNOWN          UNKNOWN   \n",
       "3        ACCIDENT         NaN            UNKNOWN     UNKNOWN          UNKNOWN   \n",
       "4         SUICIDE         NaN            UNKNOWN     UNKNOWN          UNKNOWN   \n",
       "...           ...         ...                ...         ...              ...   \n",
       "3802     ACCIDENT   8/31/2016  PRIVATE RESIDENCE   MINNESOTA           WRIGHT   \n",
       "3803     ACCIDENT         NaN  PRIVATE RESIDENCE   MINNESOTA           WRIGHT   \n",
       "3804     ACCIDENT         NaN  PRIVATE RESIDENCE   MINNESOTA           WRIGHT   \n",
       "3805     ACCIDENT   3/23/2014  PROJECT TURNABOUT   MINNESOTA  YELLOW MEDICINE   \n",
       "3806      SUICIDE         NaN            UNKNOWN   MINNESOTA  YELLOW MEDICINE   \n",
       "\n",
       "     INJURY_FIPS                                         INJURYDESC  \\\n",
       "0            NaN   DECEDENT INGESTED AN UNKNOWN AMOUNT OF OXYCODONE   \n",
       "1            NaN    DECEDENT INJESTED AN UNKNOWN AMOUNT OF MORPHINE   \n",
       "2            NaN  THE DECEDENT INGESTED AN UNKNOWN AMOUNT OF COC...   \n",
       "3            NaN  THE DECEDENT INGESTED AN UNKNOWN AMOUNT OF OXY...   \n",
       "4            NaN  DEC INGESTED AN UNKNOWN AMOUNT OF SEROQUEL AND...   \n",
       "...          ...                                                ...   \n",
       "3802     27171.0  THE DECEDENT SELF-ADMINISTERED HEROIN AND ETHANOL   \n",
       "3803     27171.0  THE DECEDENT SELF-ADMINISTERED EXCESSIVE OXYCO...   \n",
       "3804     27171.0                 THE DECEDENT USED ILLICIT FENTANYL   \n",
       "3805     27173.0  OVERDOSE OF FENTANYL.  STEPHANIE LABATTE INGES...   \n",
       "3806     27173.0  THE DECEASED INGESTED AN EXCESS OF THE ABOVE S...   \n",
       "\n",
       "                                                 CAUSEA      CAUSEB  \n",
       "0                                    OXYCODONE TOXICITY         NaN  \n",
       "1                                     MORPHINE TOXICITY         NaN  \n",
       "2            MIXED DRUG TOXICITY (COCAINE AND MORPHINE)         NaN  \n",
       "3        MIXED DRUG TOXICITY (OXYCODONE AND ALPRAZOLAM)         NaN  \n",
       "4                     QUETIAPINE AND OXYCODONE TOXICITY         NaN  \n",
       "...                                                 ...         ...  \n",
       "3802                  MIXED HEROIN AND ALCOHOL TOXICITY         NaN  \n",
       "3803                                 OXYCODONE OVERDOSE         NaN  \n",
       "3804                                  FENTANYL TOXICITY         NaN  \n",
       "3805                               OVERDOSE OF FENTANYL  DEPRESSION  \n",
       "3806  MIXED DRUG TOXICITY (TRAMADOL, DIPHENHYDRAMINE...         NaN  \n",
       "\n",
       "[3807 rows x 34 columns]"
      ]
     },
     "execution_count": 1,
     "metadata": {},
     "output_type": "execute_result"
    }
   ],
   "source": [
    "import pandas as pd\n",
    "df = pd.read_csv('data/opiate_deaths.csv')\n",
    "df"
   ]
  },
  {
   "cell_type": "markdown",
   "metadata": {},
   "source": [
    "### Inspect the data\n",
    "\n",
    "Let's quickly check what columns are in our data..."
   ]
  },
  {
   "cell_type": "code",
   "execution_count": 2,
   "metadata": {},
   "outputs": [
    {
     "data": {
      "text/plain": [
       "Index(['STATEID', 'FIRSTNAME', 'MIDDLENAME', 'LASTNAME', 'MAIDENNAME',\n",
       "       'SUFFIX', 'BIRTHDATE', 'DEATHDATE', 'GENDER', 'RACE',\n",
       "       'HISPANICETHNICITY', 'AGEYEARS', 'RESADDRESS', 'RESSTATE', 'RESCITY',\n",
       "       'RESCOUNTY', 'ZIP', 'ARMEDFORCES', 'YEARSEDUCATION', 'OCCUPATION',\n",
       "       'INDUSTRY', 'MARITALSTATUS', 'PLACETYPE', 'DEATHCITY', 'DEATHCOUNTY',\n",
       "       'MANNERDEATH', 'INJURY_DATE', 'INJURYPLACE', 'INJURYSTATE',\n",
       "       'INJURYCOUNTY', 'INJURY_FIPS', 'INJURYDESC', 'CAUSEA', 'CAUSEB'],\n",
       "      dtype='object')"
      ]
     },
     "execution_count": 2,
     "metadata": {},
     "output_type": "execute_result"
    }
   ],
   "source": [
    "df.columns"
   ]
  },
  {
   "cell_type": "markdown",
   "metadata": {},
   "source": [
    "... and see how many rows and columns are in the data"
   ]
  },
  {
   "cell_type": "code",
   "execution_count": 3,
   "metadata": {},
   "outputs": [
    {
     "data": {
      "text/plain": [
       "(3807, 34)"
      ]
     },
     "execution_count": 3,
     "metadata": {},
     "output_type": "execute_result"
    }
   ],
   "source": [
    "df.shape"
   ]
  },
  {
   "cell_type": "markdown",
   "metadata": {},
   "source": [
    "## Cleaning your data\n",
    "\n",
    "When you receive data, it will almost always need some cleanup to be ready for analysis and/or display. There are some common issues to look for when you have acquired a new dataset.\n",
    "\n",
    "- Duplicate records\n",
    "- Misspellings\n",
    "- Inconsistent category/variable names\n",
    "- Null or empty (`''`) values that may affect calculations"
   ]
  },
  {
   "cell_type": "markdown",
   "metadata": {},
   "source": [
    "### Checking for duplicate records with groupby()\n",
    "\n",
    "Each record has a `STATEID`, which seems to imply that each row represents a unique death. But how do we know? We can use the `groupby()` method to count how many times each `STATEID` value appears. If each row is a unique person or case, there should be only 1 copy of each value.\n",
    "\n",
    "In pandas we can chain several methods together to achieve our desired output.\n",
    "\n",
    "Here's the full command (we'll break down the details next):"
   ]
  },
  {
   "cell_type": "code",
   "execution_count": 4,
   "metadata": {},
   "outputs": [
    {
     "data": {
      "text/html": [
       "<div>\n",
       "<style scoped>\n",
       "    .dataframe tbody tr th:only-of-type {\n",
       "        vertical-align: middle;\n",
       "    }\n",
       "\n",
       "    .dataframe tbody tr th {\n",
       "        vertical-align: top;\n",
       "    }\n",
       "\n",
       "    .dataframe thead th {\n",
       "        text-align: right;\n",
       "    }\n",
       "</style>\n",
       "<table border=\"1\" class=\"dataframe\">\n",
       "  <thead>\n",
       "    <tr style=\"text-align: right;\">\n",
       "      <th></th>\n",
       "      <th>STATEID</th>\n",
       "      <th>DEATHCITY</th>\n",
       "    </tr>\n",
       "  </thead>\n",
       "  <tbody>\n",
       "    <tr>\n",
       "      <th>0</th>\n",
       "      <td>2005-MN-000344</td>\n",
       "      <td>1</td>\n",
       "    </tr>\n",
       "    <tr>\n",
       "      <th>2543</th>\n",
       "      <td>2014-MN-037772</td>\n",
       "      <td>1</td>\n",
       "    </tr>\n",
       "    <tr>\n",
       "      <th>2531</th>\n",
       "      <td>2014-MN-035649</td>\n",
       "      <td>1</td>\n",
       "    </tr>\n",
       "    <tr>\n",
       "      <th>2532</th>\n",
       "      <td>2014-MN-035971</td>\n",
       "      <td>1</td>\n",
       "    </tr>\n",
       "    <tr>\n",
       "      <th>2533</th>\n",
       "      <td>2014-MN-036080</td>\n",
       "      <td>1</td>\n",
       "    </tr>\n",
       "    <tr>\n",
       "      <th>...</th>\n",
       "      <td>...</td>\n",
       "      <td>...</td>\n",
       "    </tr>\n",
       "    <tr>\n",
       "      <th>1273</th>\n",
       "      <td>2010-MN-035079</td>\n",
       "      <td>1</td>\n",
       "    </tr>\n",
       "    <tr>\n",
       "      <th>1274</th>\n",
       "      <td>2010-MN-035176</td>\n",
       "      <td>1</td>\n",
       "    </tr>\n",
       "    <tr>\n",
       "      <th>1275</th>\n",
       "      <td>2010-MN-035257</td>\n",
       "      <td>1</td>\n",
       "    </tr>\n",
       "    <tr>\n",
       "      <th>1276</th>\n",
       "      <td>2010-MN-035518</td>\n",
       "      <td>1</td>\n",
       "    </tr>\n",
       "    <tr>\n",
       "      <th>3806</th>\n",
       "      <td>2017-MN-044531</td>\n",
       "      <td>1</td>\n",
       "    </tr>\n",
       "  </tbody>\n",
       "</table>\n",
       "<p>3807 rows × 2 columns</p>\n",
       "</div>"
      ],
      "text/plain": [
       "             STATEID  DEATHCITY\n",
       "0     2005-MN-000344          1\n",
       "2543  2014-MN-037772          1\n",
       "2531  2014-MN-035649          1\n",
       "2532  2014-MN-035971          1\n",
       "2533  2014-MN-036080          1\n",
       "...              ...        ...\n",
       "1273  2010-MN-035079          1\n",
       "1274  2010-MN-035176          1\n",
       "1275  2010-MN-035257          1\n",
       "1276  2010-MN-035518          1\n",
       "3806  2017-MN-044531          1\n",
       "\n",
       "[3807 rows x 2 columns]"
      ]
     },
     "execution_count": 4,
     "metadata": {},
     "output_type": "execute_result"
    }
   ],
   "source": [
    "df[['STATEID', 'DEATHCITY']].groupby('STATEID').count().reset_index().sort_values('DEATHCITY', ascending=False)"
   ]
  },
  {
   "cell_type": "markdown",
   "metadata": {},
   "source": [
    "### Groupby, one piece at a time\n",
    "\n",
    "First, let's run our groupby on a subset of the data:\n",
    "\n",
    "`df[['STATEID', 'DEATHCITY']]`\n",
    "\n",
    "This will return a view of the dataframe that only includes the STATEID and DEATHCITY columns.\n",
    "\n",
    "Why do we even need `DEATHCITY` in this case? Because `groupby()` calls need at least two fields to work right. One or more fields that we are grouping on (`STATEID` in this case), and another field to be counted.\n",
    "\n",
    "`df[['STATEID', 'DEATHCITY']].groupby('STATEID')`\n",
    "\n",
    "And we'll add a `count()` call to tell pandas that we want to count the number of rows in each group, as opposed to other methods like summing or finding the average of that group.\n",
    "\n",
    "`df[['STATEID', 'DEATHCITY']].groupby('STATEID').count()`\n",
    "\n",
    "Next we need to include a weird pandas thing, `reset_index()` This is because otherwise, when performing a groupby, pandas will produce a MultiIndex, which is more complex than we need.\n",
    "\n",
    "`df[['STATEID', 'DEATHCITY']].groupby('STATEID').count().reset_index()`\n",
    "\n",
    "And finally we'll sort the results by our counted column, `DEATHCITY`. We want to surface any non-unique `STATEID`s, so we'll sort in descending order.\n",
    "\n",
    "`df[['STATEID', 'DEATHCITY']].groupby('STATEID').count().reset_index().sort_values('DEATHCITY', ascending=False)`"
   ]
  },
  {
   "cell_type": "markdown",
   "metadata": {},
   "source": [
    "Great news, the highest count is 1, meaning there are no `STATEID`s that occur more than once."
   ]
  },
  {
   "cell_type": "markdown",
   "metadata": {},
   "source": [
    "### ✍️ Your turn\n",
    "\n",
    "Let's find out how many deaths occured in each city. Take the next few minutes to see if you can group the datafame by the `DEATHCITY` column and count the number of rows from each city.\n",
    "\n",
    "Here's a start for you to build on:"
   ]
  },
  {
   "cell_type": "code",
   "execution_count": 5,
   "metadata": {},
   "outputs": [],
   "source": [
    "deaths_by_city = df[['DEATHCITY', 'STATEID']]  # Your code herey..."
   ]
  },
  {
   "cell_type": "code",
   "execution_count": 6,
   "metadata": {},
   "outputs": [
    {
     "data": {
      "text/html": [
       "<div>\n",
       "<style scoped>\n",
       "    .dataframe tbody tr th:only-of-type {\n",
       "        vertical-align: middle;\n",
       "    }\n",
       "\n",
       "    .dataframe tbody tr th {\n",
       "        vertical-align: top;\n",
       "    }\n",
       "\n",
       "    .dataframe thead th {\n",
       "        text-align: right;\n",
       "    }\n",
       "</style>\n",
       "<table border=\"1\" class=\"dataframe\">\n",
       "  <thead>\n",
       "    <tr style=\"text-align: right;\">\n",
       "      <th></th>\n",
       "      <th>DEATHCITY</th>\n",
       "      <th>STATEID</th>\n",
       "    </tr>\n",
       "  </thead>\n",
       "  <tbody>\n",
       "    <tr>\n",
       "      <th>241</th>\n",
       "      <td>MINNEAPOLIS</td>\n",
       "      <td>829</td>\n",
       "    </tr>\n",
       "    <tr>\n",
       "      <th>341</th>\n",
       "      <td>SAINT PAUL</td>\n",
       "      <td>285</td>\n",
       "    </tr>\n",
       "    <tr>\n",
       "      <th>98</th>\n",
       "      <td>DULUTH</td>\n",
       "      <td>138</td>\n",
       "    </tr>\n",
       "    <tr>\n",
       "      <th>337</th>\n",
       "      <td>SAINT CLOUD</td>\n",
       "      <td>93</td>\n",
       "    </tr>\n",
       "    <tr>\n",
       "      <th>325</th>\n",
       "      <td>ROCHESTER</td>\n",
       "      <td>89</td>\n",
       "    </tr>\n",
       "    <tr>\n",
       "      <th>...</th>\n",
       "      <td>...</td>\n",
       "      <td>...</td>\n",
       "    </tr>\n",
       "    <tr>\n",
       "      <th>249</th>\n",
       "      <td>MOOSE LAKE</td>\n",
       "      <td>1</td>\n",
       "    </tr>\n",
       "    <tr>\n",
       "      <th>251</th>\n",
       "      <td>MORRILL TOWNSHIP</td>\n",
       "      <td>1</td>\n",
       "    </tr>\n",
       "    <tr>\n",
       "      <th>253</th>\n",
       "      <td>MORRISTOWN</td>\n",
       "      <td>1</td>\n",
       "    </tr>\n",
       "    <tr>\n",
       "      <th>254</th>\n",
       "      <td>MORTON</td>\n",
       "      <td>1</td>\n",
       "    </tr>\n",
       "    <tr>\n",
       "      <th>0</th>\n",
       "      <td>ADAMS</td>\n",
       "      <td>1</td>\n",
       "    </tr>\n",
       "  </tbody>\n",
       "</table>\n",
       "<p>415 rows × 2 columns</p>\n",
       "</div>"
      ],
      "text/plain": [
       "            DEATHCITY  STATEID\n",
       "241       MINNEAPOLIS      829\n",
       "341        SAINT PAUL      285\n",
       "98             DULUTH      138\n",
       "337       SAINT CLOUD       93\n",
       "325         ROCHESTER       89\n",
       "..                ...      ...\n",
       "249        MOOSE LAKE        1\n",
       "251  MORRILL TOWNSHIP        1\n",
       "253        MORRISTOWN        1\n",
       "254            MORTON        1\n",
       "0               ADAMS        1\n",
       "\n",
       "[415 rows x 2 columns]"
      ]
     },
     "execution_count": 6,
     "metadata": {},
     "output_type": "execute_result"
    }
   ],
   "source": [
    "# Remove before class\n",
    "deaths_by_city = df[['DEATHCITY', 'STATEID']].groupby('DEATHCITY').count().reset_index().sort_values('STATEID', ascending=False)\n",
    "deaths_by_city"
   ]
  },
  {
   "cell_type": "markdown",
   "metadata": {},
   "source": [
    "### Renaming a column\n",
    "\n",
    "It's confusing that the count of cities is held in a column called `STATEID`, which doesn't really have any meaning. It's always a good idea to have column headers that you can clearly understand, so let's rename the `STATEID` column in our `groupby()` to `death_count`. Note that this does NOT change the `STATEID` column in the original dataframe, as we are now working on a copy of a subset of that original data."
   ]
  },
  {
   "cell_type": "code",
   "execution_count": 7,
   "metadata": {},
   "outputs": [
    {
     "data": {
      "text/html": [
       "<div>\n",
       "<style scoped>\n",
       "    .dataframe tbody tr th:only-of-type {\n",
       "        vertical-align: middle;\n",
       "    }\n",
       "\n",
       "    .dataframe tbody tr th {\n",
       "        vertical-align: top;\n",
       "    }\n",
       "\n",
       "    .dataframe thead th {\n",
       "        text-align: right;\n",
       "    }\n",
       "</style>\n",
       "<table border=\"1\" class=\"dataframe\">\n",
       "  <thead>\n",
       "    <tr style=\"text-align: right;\">\n",
       "      <th></th>\n",
       "      <th>DEATHCITY</th>\n",
       "      <th>death_count</th>\n",
       "    </tr>\n",
       "  </thead>\n",
       "  <tbody>\n",
       "    <tr>\n",
       "      <th>241</th>\n",
       "      <td>MINNEAPOLIS</td>\n",
       "      <td>829</td>\n",
       "    </tr>\n",
       "    <tr>\n",
       "      <th>341</th>\n",
       "      <td>SAINT PAUL</td>\n",
       "      <td>285</td>\n",
       "    </tr>\n",
       "    <tr>\n",
       "      <th>98</th>\n",
       "      <td>DULUTH</td>\n",
       "      <td>138</td>\n",
       "    </tr>\n",
       "    <tr>\n",
       "      <th>337</th>\n",
       "      <td>SAINT CLOUD</td>\n",
       "      <td>93</td>\n",
       "    </tr>\n",
       "    <tr>\n",
       "      <th>325</th>\n",
       "      <td>ROCHESTER</td>\n",
       "      <td>89</td>\n",
       "    </tr>\n",
       "    <tr>\n",
       "      <th>...</th>\n",
       "      <td>...</td>\n",
       "      <td>...</td>\n",
       "    </tr>\n",
       "    <tr>\n",
       "      <th>249</th>\n",
       "      <td>MOOSE LAKE</td>\n",
       "      <td>1</td>\n",
       "    </tr>\n",
       "    <tr>\n",
       "      <th>251</th>\n",
       "      <td>MORRILL TOWNSHIP</td>\n",
       "      <td>1</td>\n",
       "    </tr>\n",
       "    <tr>\n",
       "      <th>253</th>\n",
       "      <td>MORRISTOWN</td>\n",
       "      <td>1</td>\n",
       "    </tr>\n",
       "    <tr>\n",
       "      <th>254</th>\n",
       "      <td>MORTON</td>\n",
       "      <td>1</td>\n",
       "    </tr>\n",
       "    <tr>\n",
       "      <th>0</th>\n",
       "      <td>ADAMS</td>\n",
       "      <td>1</td>\n",
       "    </tr>\n",
       "  </tbody>\n",
       "</table>\n",
       "<p>415 rows × 2 columns</p>\n",
       "</div>"
      ],
      "text/plain": [
       "            DEATHCITY  death_count\n",
       "241       MINNEAPOLIS          829\n",
       "341        SAINT PAUL          285\n",
       "98             DULUTH          138\n",
       "337       SAINT CLOUD           93\n",
       "325         ROCHESTER           89\n",
       "..                ...          ...\n",
       "249        MOOSE LAKE            1\n",
       "251  MORRILL TOWNSHIP            1\n",
       "253        MORRISTOWN            1\n",
       "254            MORTON            1\n",
       "0               ADAMS            1\n",
       "\n",
       "[415 rows x 2 columns]"
      ]
     },
     "execution_count": 7,
     "metadata": {},
     "output_type": "execute_result"
    }
   ],
   "source": [
    "deaths_by_city.rename(columns={'STATEID': 'death_count'}, inplace=True)\n",
    "deaths_by_city"
   ]
  },
  {
   "cell_type": "markdown",
   "metadata": {},
   "source": [
    "### Recoding data with lambda()\n",
    "\n",
    "We can also use pandas to change the data values to something more presentable or consistent. For example, let's look at the unique values for the `GENDER` column:"
   ]
  },
  {
   "cell_type": "code",
   "execution_count": 8,
   "metadata": {},
   "outputs": [
    {
     "data": {
      "text/plain": [
       "array(['M', 'F'], dtype=object)"
      ]
     },
     "execution_count": 8,
     "metadata": {},
     "output_type": "execute_result"
    }
   ],
   "source": [
    "df.GENDER.unique()"
   ]
  },
  {
   "cell_type": "markdown",
   "metadata": {},
   "source": [
    "Let's change all the values in `GENDER` to the slightly more user-friendly `Male` and `Female`. We'll use a lambda function. A lambda function is shorthand way of writing what you would like to do to each row of data in this column. It's usually safer to add a new column than to change the underlying data, so we'll create a new column called `gender_clean`, and populate it with values from the `GENDER` column that we have run through our little lambda factory."
   ]
  },
  {
   "cell_type": "code",
   "execution_count": 9,
   "metadata": {},
   "outputs": [
    {
     "data": {
      "text/plain": [
       "0         Male\n",
       "1       Female\n",
       "2         Male\n",
       "3         Male\n",
       "4       Female\n",
       "         ...  \n",
       "3802      Male\n",
       "3803      Male\n",
       "3804      Male\n",
       "3805    Female\n",
       "3806    Female\n",
       "Name: gender_clean, Length: 3807, dtype: object"
      ]
     },
     "execution_count": 9,
     "metadata": {},
     "output_type": "execute_result"
    }
   ],
   "source": [
    "df['gender_clean'] = df['GENDER'].apply(lambda x: 'Male' if x == 'M' else 'Female')\n",
    "df['gender_clean']"
   ]
  },
  {
   "cell_type": "markdown",
   "metadata": {},
   "source": [
    "In this case, each row was either labeled M or F, but our basic `if this, else that` logic is too naive for most real-world situations. For example, what if some rows had a value of `NA` or were null? In the above function, those rows would have gotten erroneously marked as `Female`. That's correction waiting to happen."
   ]
  },
  {
   "cell_type": "markdown",
   "metadata": {},
   "source": [
    "### A slightly more complex `lambda()`\n",
    "\n",
    "To introduce more complex logic, we'll still use a lambda(). But instead of cramming the logic of what we want to do into one line, we'll use the lambda to apply an external function to each row.\n",
    "\n",
    "Here's the function we'll apply to each row:"
   ]
  },
  {
   "cell_type": "code",
   "execution_count": 10,
   "metadata": {},
   "outputs": [],
   "source": [
    "def decode_gender(input):\n",
    "    if input == 'M':\n",
    "        return 'Male'\n",
    "    elif input == 'F':\n",
    "        return 'Female'\n",
    "    else:\n",
    "        return None"
   ]
  },
  {
   "cell_type": "markdown",
   "metadata": {},
   "source": [
    "We may not have thought of every possible exception, but at least we won't wrongly assign some values to either male or female.\n",
    "\n",
    "Now let's apply the `decode_gender` function to each row's `GENDER` column using lambda."
   ]
  },
  {
   "cell_type": "code",
   "execution_count": 11,
   "metadata": {},
   "outputs": [
    {
     "data": {
      "text/plain": [
       "0      Male\n",
       "1    Female\n",
       "Name: gender_clean, dtype: object"
      ]
     },
     "execution_count": 11,
     "metadata": {},
     "output_type": "execute_result"
    }
   ],
   "source": [
    "df['gender_clean'] = df['GENDER'].apply(lambda x: decode_gender(x))\n",
    "df['gender_clean'].drop_duplicates()"
   ]
  },
  {
   "cell_type": "markdown",
   "metadata": {},
   "source": [
    "### Cleaning up inconsistent values\n",
    "\n",
    "Now let's take a look at the values in the `HISPANICETHNICITY` column:"
   ]
  },
  {
   "cell_type": "code",
   "execution_count": 12,
   "metadata": {},
   "outputs": [
    {
     "data": {
      "text/plain": [
       "array(['NOT HISPANIC', 'HISPANIC', 'UNKNOWN', 'non-hispanic', 'hispanic',\n",
       "       'NON-HISPANIC', 'not hispanic', 'NOT-HISPANIC'], dtype=object)"
      ]
     },
     "execution_count": 12,
     "metadata": {},
     "output_type": "execute_result"
    }
   ],
   "source": [
    "df.HISPANICETHNICITY.unique()"
   ]
  },
  {
   "cell_type": "markdown",
   "metadata": {},
   "source": [
    "Whoa, kind of a mess! We can't easily groupby these values right now because of the inconsistent capitalization and spelling.\n",
    "\n",
    "One way to harmonize data in a column is to set all of the letters to uppercase. We'll start a new `hispanic_clean` column to avoid introducing errors into our original `HISPANICETHNICITY` column."
   ]
  },
  {
   "cell_type": "code",
   "execution_count": 13,
   "metadata": {},
   "outputs": [
    {
     "data": {
      "text/plain": [
       "array(['NOT HISPANIC', 'HISPANIC', 'UNKNOWN', 'NON-HISPANIC',\n",
       "       'NOT-HISPANIC'], dtype=object)"
      ]
     },
     "execution_count": 13,
     "metadata": {},
     "output_type": "execute_result"
    }
   ],
   "source": [
    "df['hispanic_clean'] = df['HISPANICETHNICITY'].str.upper()\n",
    "df['hispanic_clean'].unique()"
   ]
  },
  {
   "cell_type": "markdown",
   "metadata": {},
   "source": [
    "OK, we cut our 8 unique values down to 5. But we still have inconsistencies in the spelling and hyphenation.\n",
    "\n",
    "Let's deal with the simple hyphens first, by searching for and replacing instances of `NON HISPANIC`, sans hyphen. You'll notice that now we're modifying `hispanic_clean`, which we just created, directly. If we ran this against the original `HISPANICETHNICITY` column, we'd mess up some of our previous work on `hispanic_clean`.\n",
    "\n",
    "Like most search and replace functions, the arguments passed to `replace()` are writtin the order of `1. Needle` in the `2. Haystack` you are searching through."
   ]
  },
  {
   "cell_type": "code",
   "execution_count": 14,
   "metadata": {},
   "outputs": [
    {
     "data": {
      "text/plain": [
       "array(['NOT HISPANIC', 'HISPANIC', 'UNKNOWN', 'NON-HISPANIC',\n",
       "       'NOT-HISPANIC'], dtype=object)"
      ]
     },
     "execution_count": 14,
     "metadata": {},
     "output_type": "execute_result"
    }
   ],
   "source": [
    "df['hispanic_clean'] = df['hispanic_clean'].str.replace('NON HISPANIC', 'NON-HISPANIC')\n",
    "df['hispanic_clean'].unique()"
   ]
  },
  {
   "cell_type": "markdown",
   "metadata": {},
   "source": [
    "Better again! Now let's tackle the `NOT HISPANIC` rows, some of which have a hyphen and some that don't. We could write two lines that are similar to what we just did, but let's throw in a regular expression that can account for cases both with and without the hyphen.\n",
    "\n",
    "`.replace(r'NOT(-| )HISPANIC', 'NON-HISPANIC')`\n",
    "\n",
    "The `r` preceding the string tells python this is a regular expression, not a normal string.\n",
    "\n",
    "The `(-| )` means that either a hypen or a space is an acceptable value to call a match. In either case, the command will write `NON-HISPANIC` instead."
   ]
  },
  {
   "cell_type": "code",
   "execution_count": 15,
   "metadata": {},
   "outputs": [
    {
     "data": {
      "text/plain": [
       "array(['NON-HISPANIC', 'HISPANIC', 'UNKNOWN'], dtype=object)"
      ]
     },
     "execution_count": 15,
     "metadata": {},
     "output_type": "execute_result"
    }
   ],
   "source": [
    "df['hispanic_clean'] = df['hispanic_clean'].str.replace(r'NOT(-| )HISPANIC', 'NON-HISPANIC')\n",
    "df['hispanic_clean'].unique()"
   ]
  },
  {
   "cell_type": "markdown",
   "metadata": {},
   "source": [
    "What a tidy column we have now!\n",
    "\n",
    "### ✍️ Your turn\n",
    "\n",
    "In the cell below, group by and count the `df` data frame:\n",
    "- Get a subset of the `df` data frame\n",
    "- Group by `hispanic_clean`\n",
    "- Count the rows with each value\n",
    "- Order descending\n",
    "- Rename the count to a new variable called `death_count` after grouping"
   ]
  },
  {
   "cell_type": "code",
   "execution_count": 16,
   "metadata": {},
   "outputs": [],
   "source": [
    "# deaths_by_hispanic_ethnicity = "
   ]
  },
  {
   "cell_type": "code",
   "execution_count": 17,
   "metadata": {},
   "outputs": [
    {
     "data": {
      "text/html": [
       "<div>\n",
       "<style scoped>\n",
       "    .dataframe tbody tr th:only-of-type {\n",
       "        vertical-align: middle;\n",
       "    }\n",
       "\n",
       "    .dataframe tbody tr th {\n",
       "        vertical-align: top;\n",
       "    }\n",
       "\n",
       "    .dataframe thead th {\n",
       "        text-align: right;\n",
       "    }\n",
       "</style>\n",
       "<table border=\"1\" class=\"dataframe\">\n",
       "  <thead>\n",
       "    <tr style=\"text-align: right;\">\n",
       "      <th></th>\n",
       "      <th>hispanic_clean</th>\n",
       "      <th>death_count</th>\n",
       "    </tr>\n",
       "  </thead>\n",
       "  <tbody>\n",
       "    <tr>\n",
       "      <th>1</th>\n",
       "      <td>NON-HISPANIC</td>\n",
       "      <td>3725</td>\n",
       "    </tr>\n",
       "    <tr>\n",
       "      <th>0</th>\n",
       "      <td>HISPANIC</td>\n",
       "      <td>76</td>\n",
       "    </tr>\n",
       "    <tr>\n",
       "      <th>2</th>\n",
       "      <td>UNKNOWN</td>\n",
       "      <td>6</td>\n",
       "    </tr>\n",
       "  </tbody>\n",
       "</table>\n",
       "</div>"
      ],
      "text/plain": [
       "  hispanic_clean  death_count\n",
       "1   NON-HISPANIC         3725\n",
       "0       HISPANIC           76\n",
       "2        UNKNOWN            6"
      ]
     },
     "execution_count": 17,
     "metadata": {},
     "output_type": "execute_result"
    }
   ],
   "source": [
    "# Remove before class\n",
    "deaths_by_hispanic_ethnicity = df[['hispanic_clean', 'STATEID']].groupby('hispanic_clean').count().reset_index().sort_values('STATEID', ascending=False)\n",
    "deaths_by_hispanic_ethnicity.rename(columns={'STATEID': 'death_count'}, inplace=True)\n",
    "deaths_by_hispanic_ethnicity"
   ]
  },
  {
   "cell_type": "markdown",
   "metadata": {},
   "source": [
    "In our data, the vast majority of deaths are from people without Hispanic ethnicity. But Minnesota is a pretty white state, so we need to look at these numbers as a percentage, so we can compare the deaths to Minnesota's overall Hispanic population, which is about 5% of the state's total population, according to Pew Research.\n",
    "\n",
    "We can create a new column to calculate the percentage:"
   ]
  },
  {
   "cell_type": "code",
   "execution_count": 18,
   "metadata": {},
   "outputs": [
    {
     "data": {
      "text/html": [
       "<div>\n",
       "<style scoped>\n",
       "    .dataframe tbody tr th:only-of-type {\n",
       "        vertical-align: middle;\n",
       "    }\n",
       "\n",
       "    .dataframe tbody tr th {\n",
       "        vertical-align: top;\n",
       "    }\n",
       "\n",
       "    .dataframe thead th {\n",
       "        text-align: right;\n",
       "    }\n",
       "</style>\n",
       "<table border=\"1\" class=\"dataframe\">\n",
       "  <thead>\n",
       "    <tr style=\"text-align: right;\">\n",
       "      <th></th>\n",
       "      <th>hispanic_clean</th>\n",
       "      <th>death_count</th>\n",
       "      <th>pct_total</th>\n",
       "    </tr>\n",
       "  </thead>\n",
       "  <tbody>\n",
       "    <tr>\n",
       "      <th>1</th>\n",
       "      <td>NON-HISPANIC</td>\n",
       "      <td>3725</td>\n",
       "      <td>0.978461</td>\n",
       "    </tr>\n",
       "    <tr>\n",
       "      <th>0</th>\n",
       "      <td>HISPANIC</td>\n",
       "      <td>76</td>\n",
       "      <td>0.019963</td>\n",
       "    </tr>\n",
       "    <tr>\n",
       "      <th>2</th>\n",
       "      <td>UNKNOWN</td>\n",
       "      <td>6</td>\n",
       "      <td>0.001576</td>\n",
       "    </tr>\n",
       "  </tbody>\n",
       "</table>\n",
       "</div>"
      ],
      "text/plain": [
       "  hispanic_clean  death_count  pct_total\n",
       "1   NON-HISPANIC         3725   0.978461\n",
       "0       HISPANIC           76   0.019963\n",
       "2        UNKNOWN            6   0.001576"
      ]
     },
     "execution_count": 18,
     "metadata": {},
     "output_type": "execute_result"
    }
   ],
   "source": [
    "deaths_by_hispanic_ethnicity['pct_total'] = deaths_by_hispanic_ethnicity['death_count'] / deaths_by_hispanic_ethnicity['death_count'].sum()\n",
    "deaths_by_hispanic_ethnicity"
   ]
  },
  {
   "cell_type": "markdown",
   "metadata": {},
   "source": [
    "### Visualize the data with a bar chart\n",
    "\n",
    "Pandas works well with a visualization package called [`matplotlib`](https://matplotlib.org/). There are several other visualization packages that have robust feature sets, including Altair, but matplotlib is already tightly integrated with pandas, so we'll start with that.\n",
    "\n",
    "It doesn't make for the most compelling chart in the world, but once you have your data cleaned up, it's easy to make a simple bar chart:"
   ]
  },
  {
   "cell_type": "code",
   "execution_count": 19,
   "metadata": {},
   "outputs": [
    {
     "data": {
      "text/plain": [
       "<matplotlib.axes._subplots.AxesSubplot at 0x112148400>"
      ]
     },
     "execution_count": 19,
     "metadata": {},
     "output_type": "execute_result"
    },
    {
     "data": {
      "image/png": "[encoded data removed]",
      "text/plain": [
       "<Figure size 432x288 with 1 Axes>"
      ]
     },
     "metadata": {
      "needs_background": "light"
     },
     "output_type": "display_data"
    }
   ],
   "source": [
    "deaths_by_hispanic_ethnicity.plot.bar(x='hispanic_clean', y='death_count')"
   ]
  },
  {
   "cell_type": "markdown",
   "metadata": {},
   "source": [
    "### Extracting year from a date\n",
    "\n",
    "To look at the trend in deaths over time, we can grab just the year from the `DEATHDATE` column by taking advantage of Python's date-handling abilities. First we need to tell pandas the the `DEATHDATE` column is a `datetime`, not just an ordinary string."
   ]
  },
  {
   "cell_type": "code",
   "execution_count": 20,
   "metadata": {},
   "outputs": [],
   "source": [
    "df['DEATHDATE'] = pd.to_datetime(df['DEATHDATE'])"
   ]
  },
  {
   "cell_type": "markdown",
   "metadata": {},
   "source": [
    "Now we can use `lambda` to call `.year` on each `DEATHDATE`, and pipe it to a new column."
   ]
  },
  {
   "cell_type": "code",
   "execution_count": 21,
   "metadata": {},
   "outputs": [
    {
     "data": {
      "text/plain": [
       "0       2005\n",
       "1       2005\n",
       "2       2005\n",
       "3       2005\n",
       "4       2005\n",
       "        ... \n",
       "3802    2016\n",
       "3803    2017\n",
       "3804    2017\n",
       "3805    2014\n",
       "3806    2014\n",
       "Name: death_year, Length: 3807, dtype: int64"
      ]
     },
     "execution_count": 21,
     "metadata": {},
     "output_type": "execute_result"
    }
   ],
   "source": [
    "df['death_year'] = df['DEATHDATE'].apply(lambda x: x.year)\n",
    "df['death_year']"
   ]
  },
  {
   "cell_type": "markdown",
   "metadata": {},
   "source": [
    "### ✍️ Your turn\n",
    "\n",
    "In the cells below, group by and count the `df` data frame:\n",
    "- Get a subset of the `df` data frame\n",
    "- Group by `death_year`\n",
    "- Count the rows with each value\n",
    "- Order by death year\n",
    "- Rename the count to a new variable called `death_count` after grouping\n",
    "- Plot the death years on a bar chart"
   ]
  },
  {
   "cell_type": "code",
   "execution_count": 22,
   "metadata": {},
   "outputs": [],
   "source": [
    "# deaths_by_year ="
   ]
  },
  {
   "cell_type": "code",
   "execution_count": null,
   "metadata": {},
   "outputs": [],
   "source": []
  },
  {
   "cell_type": "code",
   "execution_count": 23,
   "metadata": {},
   "outputs": [
    {
     "data": {
      "text/plain": [
       "<matplotlib.axes._subplots.AxesSubplot at 0x1141d9dc0>"
      ]
     },
     "execution_count": 23,
     "metadata": {},
     "output_type": "execute_result"
    },
    {
     "data": {
      "image/png": "[encoded data removed]",
      "text/plain": [
       "<Figure size 432x288 with 1 Axes>"
      ]
     },
     "metadata": {
      "needs_background": "light"
     },
     "output_type": "display_data"
    }
   ],
   "source": [
    "# Remove before class\n",
    "deaths_by_year = df[['death_year', 'STATEID']].groupby('death_year').count().reset_index().sort_values('death_year')\n",
    "deaths_by_year.rename(columns={'STATEID': 'death_count'}, inplace=True)\n",
    "deaths_by_year.plot.bar(x='death_year', y='death_count')"
   ]
  },
  {
   "cell_type": "markdown",
   "metadata": {},
   "source": [
    "### Merging with other data\n",
    "\n",
    "If you remember our city `deaths_by_city` data from above, it's not surprising that Minnesota's largest city has the highest raw death count -- there are so many more people. The data would be a lot more meaningful if we could calculate the deaths per capita. But population isn't in our original CSV. But we can join our data with other data sources, provided they have some kind of identical value to join on.\n",
    "\n",
    "First, we load a spreadsheet of population data from a reliable source from a similar time period."
   ]
  },
  {
   "cell_type": "code",
   "execution_count": 33,
   "metadata": {},
   "outputs": [
    {
     "data": {
      "text/html": [
       "<div>\n",
       "<style scoped>\n",
       "    .dataframe tbody tr th:only-of-type {\n",
       "        vertical-align: middle;\n",
       "    }\n",
       "\n",
       "    .dataframe tbody tr th {\n",
       "        vertical-align: top;\n",
       "    }\n",
       "\n",
       "    .dataframe thead th {\n",
       "        text-align: right;\n",
       "    }\n",
       "</style>\n",
       "<table border=\"1\" class=\"dataframe\">\n",
       "  <thead>\n",
       "    <tr style=\"text-align: right;\">\n",
       "      <th></th>\n",
       "      <th>FIPS10</th>\n",
       "      <th>County Name</th>\n",
       "      <th>City Name</th>\n",
       "      <th>Total Population, 2018</th>\n",
       "      <th>Population in Households, 2018</th>\n",
       "      <th>Population in Group Quarters, 2018</th>\n",
       "      <th>Households, 2018</th>\n",
       "      <th>Persons per Household, 2018</th>\n",
       "    </tr>\n",
       "  </thead>\n",
       "  <tbody>\n",
       "    <tr>\n",
       "      <th>0</th>\n",
       "      <td>2700100460</td>\n",
       "      <td>Aitkin</td>\n",
       "      <td>Aitkin</td>\n",
       "      <td>2123</td>\n",
       "      <td>1919</td>\n",
       "      <td>204</td>\n",
       "      <td>937</td>\n",
       "      <td>2.05</td>\n",
       "    </tr>\n",
       "    <tr>\n",
       "      <th>1</th>\n",
       "      <td>2700129096</td>\n",
       "      <td>Aitkin</td>\n",
       "      <td>Hill City</td>\n",
       "      <td>622</td>\n",
       "      <td>611</td>\n",
       "      <td>11</td>\n",
       "      <td>271</td>\n",
       "      <td>2.25</td>\n",
       "    </tr>\n",
       "    <tr>\n",
       "      <th>2</th>\n",
       "      <td>2700138996</td>\n",
       "      <td>Aitkin</td>\n",
       "      <td>McGrath</td>\n",
       "      <td>73</td>\n",
       "      <td>62</td>\n",
       "      <td>11</td>\n",
       "      <td>31</td>\n",
       "      <td>2.00</td>\n",
       "    </tr>\n",
       "    <tr>\n",
       "      <th>3</th>\n",
       "      <td>2700139014</td>\n",
       "      <td>Aitkin</td>\n",
       "      <td>McGregor</td>\n",
       "      <td>381</td>\n",
       "      <td>381</td>\n",
       "      <td>-</td>\n",
       "      <td>179</td>\n",
       "      <td>2.13</td>\n",
       "    </tr>\n",
       "    <tr>\n",
       "      <th>4</th>\n",
       "      <td>2700149498</td>\n",
       "      <td>Aitkin</td>\n",
       "      <td>Palisade</td>\n",
       "      <td>152</td>\n",
       "      <td>152</td>\n",
       "      <td>-</td>\n",
       "      <td>69</td>\n",
       "      <td>2.20</td>\n",
       "    </tr>\n",
       "    <tr>\n",
       "      <th>...</th>\n",
       "      <td>...</td>\n",
       "      <td>...</td>\n",
       "      <td>...</td>\n",
       "      <td>...</td>\n",
       "      <td>...</td>\n",
       "      <td>...</td>\n",
       "      <td>...</td>\n",
       "      <td>...</td>\n",
       "    </tr>\n",
       "    <tr>\n",
       "      <th>849</th>\n",
       "      <td>2799961996</td>\n",
       "      <td>Multi-County City</td>\n",
       "      <td>Spring Lake Park</td>\n",
       "      <td>6410</td>\n",
       "      <td>6394</td>\n",
       "      <td>16</td>\n",
       "      <td>2698</td>\n",
       "      <td>2.37</td>\n",
       "    </tr>\n",
       "    <tr>\n",
       "      <th>850</th>\n",
       "      <td>2799962446</td>\n",
       "      <td>Multi-County City</td>\n",
       "      <td>Staples</td>\n",
       "      <td>2972</td>\n",
       "      <td>2754</td>\n",
       "      <td>218</td>\n",
       "      <td>1256</td>\n",
       "      <td>2.19</td>\n",
       "    </tr>\n",
       "    <tr>\n",
       "      <th>851</th>\n",
       "      <td>2799963778</td>\n",
       "      <td>Multi-County City</td>\n",
       "      <td>Swanville</td>\n",
       "      <td>348</td>\n",
       "      <td>348</td>\n",
       "      <td>-</td>\n",
       "      <td>143</td>\n",
       "      <td>2.43</td>\n",
       "    </tr>\n",
       "    <tr>\n",
       "      <th>852</th>\n",
       "      <td>2799967504</td>\n",
       "      <td>Multi-County City</td>\n",
       "      <td>Wadena</td>\n",
       "      <td>4150</td>\n",
       "      <td>3987</td>\n",
       "      <td>163</td>\n",
       "      <td>1891</td>\n",
       "      <td>2.11</td>\n",
       "    </tr>\n",
       "    <tr>\n",
       "      <th>853</th>\n",
       "      <td>2799969970</td>\n",
       "      <td>Multi-County City</td>\n",
       "      <td>White Bear Lake</td>\n",
       "      <td>25458</td>\n",
       "      <td>25131</td>\n",
       "      <td>327</td>\n",
       "      <td>10624</td>\n",
       "      <td>2.37</td>\n",
       "    </tr>\n",
       "  </tbody>\n",
       "</table>\n",
       "<p>854 rows × 8 columns</p>\n",
       "</div>"
      ],
      "text/plain": [
       "         FIPS10        County Name         City Name  Total Population, 2018  \\\n",
       "0    2700100460             Aitkin            Aitkin                    2123   \n",
       "1    2700129096             Aitkin         Hill City                     622   \n",
       "2    2700138996             Aitkin           McGrath                      73   \n",
       "3    2700139014             Aitkin          McGregor                     381   \n",
       "4    2700149498             Aitkin          Palisade                     152   \n",
       "..          ...                ...               ...                     ...   \n",
       "849  2799961996  Multi-County City  Spring Lake Park                    6410   \n",
       "850  2799962446  Multi-County City           Staples                    2972   \n",
       "851  2799963778  Multi-County City         Swanville                     348   \n",
       "852  2799967504  Multi-County City            Wadena                    4150   \n",
       "853  2799969970  Multi-County City   White Bear Lake                   25458   \n",
       "\n",
       "     Population in Households, 2018 Population in Group Quarters, 2018  \\\n",
       "0                              1919                                204   \n",
       "1                               611                                 11   \n",
       "2                                62                                 11   \n",
       "3                               381                               -      \n",
       "4                               152                               -      \n",
       "..                              ...                                ...   \n",
       "849                            6394                                 16   \n",
       "850                            2754                                218   \n",
       "851                             348                               -      \n",
       "852                            3987                                163   \n",
       "853                           25131                                327   \n",
       "\n",
       "     Households, 2018  Persons per Household, 2018  \n",
       "0                 937                         2.05  \n",
       "1                 271                         2.25  \n",
       "2                  31                         2.00  \n",
       "3                 179                         2.13  \n",
       "4                  69                         2.20  \n",
       "..                ...                          ...  \n",
       "849              2698                         2.37  \n",
       "850              1256                         2.19  \n",
       "851               143                         2.43  \n",
       "852              1891                         2.11  \n",
       "853             10624                         2.37  \n",
       "\n",
       "[854 rows x 8 columns]"
      ]
     },
     "execution_count": 33,
     "metadata": {},
     "output_type": "execute_result"
    }
   ],
   "source": [
    "pop_estimates = pd.read_csv('data/mn_cities_pop_estimates.csv')\n",
    "pop_estimates"
   ]
  },
  {
   "cell_type": "markdown",
   "metadata": {},
   "source": [
    "Uh oh, the cities in this data set are Title Case, and the cities in our opiates data are ALL UPPERCASE.\n",
    "\n",
    "Let's make the population csv's city names all uppercase as well:"
   ]
  },
  {
   "cell_type": "code",
   "execution_count": 34,
   "metadata": {},
   "outputs": [],
   "source": [
    "pop_estimates['city_name_capped'] = pop_estimates['City Name'].str.upper()"
   ]
  },
  {
   "cell_type": "code",
   "execution_count": 35,
   "metadata": {},
   "outputs": [
    {
     "data": {
      "text/html": [
       "<div>\n",
       "<style scoped>\n",
       "    .dataframe tbody tr th:only-of-type {\n",
       "        vertical-align: middle;\n",
       "    }\n",
       "\n",
       "    .dataframe tbody tr th {\n",
       "        vertical-align: top;\n",
       "    }\n",
       "\n",
       "    .dataframe thead th {\n",
       "        text-align: right;\n",
       "    }\n",
       "</style>\n",
       "<table border=\"1\" class=\"dataframe\">\n",
       "  <thead>\n",
       "    <tr style=\"text-align: right;\">\n",
       "      <th></th>\n",
       "      <th>DEATHCITY</th>\n",
       "      <th>death_count</th>\n",
       "      <th>FIPS10</th>\n",
       "      <th>County Name</th>\n",
       "      <th>City Name</th>\n",
       "      <th>Total Population, 2018</th>\n",
       "      <th>Population in Households, 2018</th>\n",
       "      <th>Population in Group Quarters, 2018</th>\n",
       "      <th>Households, 2018</th>\n",
       "      <th>Persons per Household, 2018</th>\n",
       "      <th>city_name_capped</th>\n",
       "    </tr>\n",
       "  </thead>\n",
       "  <tbody>\n",
       "    <tr>\n",
       "      <th>0</th>\n",
       "      <td>MINNEAPOLIS</td>\n",
       "      <td>829</td>\n",
       "      <td>2.705343e+09</td>\n",
       "      <td>Hennepin</td>\n",
       "      <td>Minneapolis</td>\n",
       "      <td>428483.0</td>\n",
       "      <td>410488.0</td>\n",
       "      <td>17995</td>\n",
       "      <td>182719.0</td>\n",
       "      <td>2.25</td>\n",
       "      <td>MINNEAPOLIS</td>\n",
       "    </tr>\n",
       "    <tr>\n",
       "      <th>1</th>\n",
       "      <td>SAINT PAUL</td>\n",
       "      <td>285</td>\n",
       "      <td>2.712358e+09</td>\n",
       "      <td>Ramsey</td>\n",
       "      <td>Saint Paul</td>\n",
       "      <td>313010.0</td>\n",
       "      <td>301939.0</td>\n",
       "      <td>11071</td>\n",
       "      <td>118666.0</td>\n",
       "      <td>2.54</td>\n",
       "      <td>SAINT PAUL</td>\n",
       "    </tr>\n",
       "    <tr>\n",
       "      <th>2</th>\n",
       "      <td>DULUTH</td>\n",
       "      <td>138</td>\n",
       "      <td>2.713717e+09</td>\n",
       "      <td>Saint Louis</td>\n",
       "      <td>Duluth</td>\n",
       "      <td>87213.0</td>\n",
       "      <td>80729.0</td>\n",
       "      <td>6484</td>\n",
       "      <td>36736.0</td>\n",
       "      <td>2.20</td>\n",
       "      <td>DULUTH</td>\n",
       "    </tr>\n",
       "    <tr>\n",
       "      <th>3</th>\n",
       "      <td>SAINT CLOUD</td>\n",
       "      <td>93</td>\n",
       "      <td>2.799957e+09</td>\n",
       "      <td>Multi-County City</td>\n",
       "      <td>Saint Cloud</td>\n",
       "      <td>68202.0</td>\n",
       "      <td>63550.0</td>\n",
       "      <td>4652</td>\n",
       "      <td>26708.0</td>\n",
       "      <td>2.38</td>\n",
       "      <td>SAINT CLOUD</td>\n",
       "    </tr>\n",
       "    <tr>\n",
       "      <th>4</th>\n",
       "      <td>ROCHESTER</td>\n",
       "      <td>89</td>\n",
       "      <td>2.710955e+09</td>\n",
       "      <td>Olmsted</td>\n",
       "      <td>Rochester</td>\n",
       "      <td>117444.0</td>\n",
       "      <td>115293.0</td>\n",
       "      <td>2151</td>\n",
       "      <td>48044.0</td>\n",
       "      <td>2.40</td>\n",
       "      <td>ROCHESTER</td>\n",
       "    </tr>\n",
       "    <tr>\n",
       "      <th>...</th>\n",
       "      <td>...</td>\n",
       "      <td>...</td>\n",
       "      <td>...</td>\n",
       "      <td>...</td>\n",
       "      <td>...</td>\n",
       "      <td>...</td>\n",
       "      <td>...</td>\n",
       "      <td>...</td>\n",
       "      <td>...</td>\n",
       "      <td>...</td>\n",
       "      <td>...</td>\n",
       "    </tr>\n",
       "    <tr>\n",
       "      <th>412</th>\n",
       "      <td>MOOSE LAKE</td>\n",
       "      <td>1</td>\n",
       "      <td>2.701744e+09</td>\n",
       "      <td>Carlton</td>\n",
       "      <td>Moose Lake</td>\n",
       "      <td>2794.0</td>\n",
       "      <td>1292.0</td>\n",
       "      <td>1502</td>\n",
       "      <td>652.0</td>\n",
       "      <td>1.98</td>\n",
       "      <td>MOOSE LAKE</td>\n",
       "    </tr>\n",
       "    <tr>\n",
       "      <th>413</th>\n",
       "      <td>MORRILL TOWNSHIP</td>\n",
       "      <td>1</td>\n",
       "      <td>NaN</td>\n",
       "      <td>NaN</td>\n",
       "      <td>NaN</td>\n",
       "      <td>NaN</td>\n",
       "      <td>NaN</td>\n",
       "      <td>NaN</td>\n",
       "      <td>NaN</td>\n",
       "      <td>NaN</td>\n",
       "      <td>NaN</td>\n",
       "    </tr>\n",
       "    <tr>\n",
       "      <th>414</th>\n",
       "      <td>MORRISTOWN</td>\n",
       "      <td>1</td>\n",
       "      <td>2.713144e+09</td>\n",
       "      <td>Rice</td>\n",
       "      <td>Morristown</td>\n",
       "      <td>995.0</td>\n",
       "      <td>974.0</td>\n",
       "      <td>21</td>\n",
       "      <td>400.0</td>\n",
       "      <td>2.44</td>\n",
       "      <td>MORRISTOWN</td>\n",
       "    </tr>\n",
       "    <tr>\n",
       "      <th>415</th>\n",
       "      <td>MORTON</td>\n",
       "      <td>1</td>\n",
       "      <td>2.712944e+09</td>\n",
       "      <td>Renville</td>\n",
       "      <td>Morton</td>\n",
       "      <td>371.0</td>\n",
       "      <td>371.0</td>\n",
       "      <td>-</td>\n",
       "      <td>179.0</td>\n",
       "      <td>2.07</td>\n",
       "      <td>MORTON</td>\n",
       "    </tr>\n",
       "    <tr>\n",
       "      <th>416</th>\n",
       "      <td>ADAMS</td>\n",
       "      <td>1</td>\n",
       "      <td>2.709900e+09</td>\n",
       "      <td>Mower</td>\n",
       "      <td>Adams</td>\n",
       "      <td>798.0</td>\n",
       "      <td>711.0</td>\n",
       "      <td>87</td>\n",
       "      <td>303.0</td>\n",
       "      <td>2.35</td>\n",
       "      <td>ADAMS</td>\n",
       "    </tr>\n",
       "  </tbody>\n",
       "</table>\n",
       "<p>417 rows × 11 columns</p>\n",
       "</div>"
      ],
      "text/plain": [
       "            DEATHCITY  death_count        FIPS10        County Name  \\\n",
       "0         MINNEAPOLIS          829  2.705343e+09           Hennepin   \n",
       "1          SAINT PAUL          285  2.712358e+09             Ramsey   \n",
       "2              DULUTH          138  2.713717e+09        Saint Louis   \n",
       "3         SAINT CLOUD           93  2.799957e+09  Multi-County City   \n",
       "4           ROCHESTER           89  2.710955e+09            Olmsted   \n",
       "..                ...          ...           ...                ...   \n",
       "412        MOOSE LAKE            1  2.701744e+09            Carlton   \n",
       "413  MORRILL TOWNSHIP            1           NaN                NaN   \n",
       "414        MORRISTOWN            1  2.713144e+09               Rice   \n",
       "415            MORTON            1  2.712944e+09           Renville   \n",
       "416             ADAMS            1  2.709900e+09              Mower   \n",
       "\n",
       "       City Name  Total Population, 2018  Population in Households, 2018  \\\n",
       "0    Minneapolis                428483.0                        410488.0   \n",
       "1     Saint Paul                313010.0                        301939.0   \n",
       "2         Duluth                 87213.0                         80729.0   \n",
       "3    Saint Cloud                 68202.0                         63550.0   \n",
       "4      Rochester                117444.0                        115293.0   \n",
       "..           ...                     ...                             ...   \n",
       "412   Moose Lake                  2794.0                          1292.0   \n",
       "413          NaN                     NaN                             NaN   \n",
       "414   Morristown                   995.0                           974.0   \n",
       "415       Morton                   371.0                           371.0   \n",
       "416        Adams                   798.0                           711.0   \n",
       "\n",
       "    Population in Group Quarters, 2018  Households, 2018  \\\n",
       "0                                17995          182719.0   \n",
       "1                                11071          118666.0   \n",
       "2                                 6484           36736.0   \n",
       "3                                 4652           26708.0   \n",
       "4                                 2151           48044.0   \n",
       "..                                 ...               ...   \n",
       "412                               1502             652.0   \n",
       "413                                NaN               NaN   \n",
       "414                                 21             400.0   \n",
       "415                               -                179.0   \n",
       "416                                 87             303.0   \n",
       "\n",
       "     Persons per Household, 2018 city_name_capped  \n",
       "0                           2.25      MINNEAPOLIS  \n",
       "1                           2.54       SAINT PAUL  \n",
       "2                           2.20           DULUTH  \n",
       "3                           2.38      SAINT CLOUD  \n",
       "4                           2.40        ROCHESTER  \n",
       "..                           ...              ...  \n",
       "412                         1.98       MOOSE LAKE  \n",
       "413                          NaN              NaN  \n",
       "414                         2.44       MORRISTOWN  \n",
       "415                         2.07           MORTON  \n",
       "416                         2.35            ADAMS  \n",
       "\n",
       "[417 rows x 11 columns]"
      ]
     },
     "execution_count": 35,
     "metadata": {},
     "output_type": "execute_result"
    }
   ],
   "source": [
    "deaths_by_city_merged = deaths_by_city.merge(\n",
    "    pop_estimates,\n",
    "    how=\"left\",\n",
    "    left_on=\"DEATHCITY\",\n",
    "    right_on=\"city_name_capped\"\n",
    ")\n",
    "deaths_by_city_merged"
   ]
  },
  {
   "cell_type": "markdown",
   "metadata": {},
   "source": [
    "### ✍️ Your turn\n",
    "\n",
    "In the cells below:\n",
    "- Create a `deaths_per_capita` field for each city by dividing `death_count` by `Total Population, 2018`\n",
    "- Order the data frame by `deaths_per_capita`\n",
    "- Plot the per capita deaths on a bar chart"
   ]
  },
  {
   "cell_type": "code",
   "execution_count": 26,
   "metadata": {},
   "outputs": [],
   "source": [
    "# deaths_by_city_merged['deaths_per_capita'] = "
   ]
  },
  {
   "cell_type": "code",
   "execution_count": 42,
   "metadata": {},
   "outputs": [
    {
     "data": {
      "text/plain": [
       "135    0.044444\n",
       "321    0.037037\n",
       "311    0.025000\n",
       "36     0.022093\n",
       "93     0.018373\n",
       "         ...   \n",
       "392         NaN\n",
       "393         NaN\n",
       "399         NaN\n",
       "405         NaN\n",
       "413         NaN\n",
       "Name: deaths_per_capita, Length: 417, dtype: float64"
      ]
     },
     "execution_count": 42,
     "metadata": {},
     "output_type": "execute_result"
    }
   ],
   "source": [
    "# Remove before class\n",
    "deaths_by_city_merged['deaths_per_capita'] = deaths_by_city_merged['death_count'] / deaths_by_city_merged['Total Population, 2018']\n",
    "deaths_by_city_merged.sort_values('deaths_per_capita', ascending=False, inplace=True)\n",
    "deaths_by_city_merged['deaths_per_capita']"
   ]
  },
  {
   "cell_type": "markdown",
   "metadata": {},
   "source": [
    "Whoa, that is just too many cities, and when we're doing per capita we need to be cautious about small denominators. Let's restrict the chart to only cities with 30 or more deaths."
   ]
  },
  {
   "cell_type": "code",
   "execution_count": 43,
   "metadata": {},
   "outputs": [
    {
     "data": {
      "text/plain": [
       "<matplotlib.axes._subplots.AxesSubplot at 0x11126bfd0>"
      ]
     },
     "execution_count": 43,
     "metadata": {},
     "output_type": "execute_result"
    },
    {
     "data": {
      "image/png": "[encoded data removed]",
      "text/plain": [
       "<Figure size 432x288 with 1 Axes>"
      ]
     },
     "metadata": {
      "needs_background": "light"
     },
     "output_type": "display_data"
    }
   ],
   "source": [
    "deaths_by_city_30plus = deaths_by_city_merged[deaths_by_city_merged['death_count'] > 30]\n",
    "deaths_by_city_30plus.plot.bar(x='DEATHCITY', y='deaths_per_capita')"
   ]
  },
  {
   "cell_type": "code",
   "execution_count": null,
   "metadata": {},
   "outputs": [],
   "source": []
  },
  {
   "cell_type": "code",
   "execution_count": null,
   "metadata": {},
   "outputs": [],
   "source": []
  },
  {
   "cell_type": "markdown",
   "metadata": {},
   "source": [
    "# Mapping TK"
   ]
  },
  {
   "cell_type": "code",
   "execution_count": null,
   "metadata": {},
   "outputs": [],
   "source": []
  },
  {
   "cell_type": "code",
   "execution_count": null,
   "metadata": {},
   "outputs": [],
   "source": []
  },
  {
   "cell_type": "code",
   "execution_count": null,
   "metadata": {},
   "outputs": [],
   "source": []
  },
  {
   "cell_type": "markdown",
   "metadata": {},
   "source": [
    "# If we need another example but this is too much already"
   ]
  },
  {
   "cell_type": "markdown",
   "metadata": {},
   "source": [
    "### Grouping values into new categories\n",
    "\n",
    "For a more informative bar chart, let's tag each row with a new `age_group` value. We can use `lambda()` and `apply()`, as we did above.\n",
    "\n",
    "First, our function:"
   ]
  },
  {
   "cell_type": "code",
   "execution_count": null,
   "metadata": {},
   "outputs": [],
   "source": [
    "def get_age_group(age):\n",
    "    if age < 20:\n",
    "        return '0-19'\n",
    "    elif age >=20 and age < 35:\n",
    "        return '20-34'\n",
    "    elif age >= 35 and age < 50:\n",
    "        return '35-49'\n",
    "    elif age >= 50 and age < 70:\n",
    "        return '50-69'\n",
    "    elif age >= 70:\n",
    "        return '70 and over'\n",
    "    return 'Unknown'    "
   ]
  },
  {
   "cell_type": "markdown",
   "metadata": {},
   "source": [
    "And now let's apply it to each row's `AGEYEARS` column"
   ]
  },
  {
   "cell_type": "code",
   "execution_count": null,
   "metadata": {},
   "outputs": [],
   "source": [
    "df['age_group'] = df.AGEYEARS.apply(lambda x: get_age_group(x))"
   ]
  },
  {
   "cell_type": "markdown",
   "metadata": {},
   "source": [
    "And be sure to check that the results make sense..."
   ]
  },
  {
   "cell_type": "code",
   "execution_count": null,
   "metadata": {},
   "outputs": [],
   "source": [
    "df[['age_group', 'AGEYEARS']]"
   ]
  },
  {
   "cell_type": "markdown",
   "metadata": {},
   "source": [
    "### ✍️ Your turn\n",
    "\n",
    "In the cells below, group by and count the `df` data frame:\n",
    "- Get a subset of the `df` data frame\n",
    "- Group by `age_group`\n",
    "- Count the rows with each value\n",
    "- Order by age group\n",
    "- Rename the count to a new variable called `death_count` after grouping\n",
    "- Plot the age groups on a bar chart"
   ]
  },
  {
   "cell_type": "code",
   "execution_count": null,
   "metadata": {},
   "outputs": [],
   "source": []
  }
 ],
 "metadata": {
  "kernelspec": {
   "display_name": "Python 3",
   "language": "python",
   "name": "python3"
  },
  "language_info": {
   "codemirror_mode": {
    "name": "ipython",
    "version": 3
   },
   "file_extension": ".py",
   "mimetype": "text/x-python",
   "name": "python",
   "nbconvert_exporter": "python",
   "pygments_lexer": "ipython3",
   "version": "3.8.1"
  }
 },
 "nbformat": 4,
 "nbformat_minor": 2
}

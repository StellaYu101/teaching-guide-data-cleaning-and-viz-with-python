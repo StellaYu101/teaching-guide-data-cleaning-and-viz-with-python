{
 "cells": [
  {
   "cell_type": "markdown",
   "metadata": {},
   "source": [
    "### Let's make some small multiple maps!\n",
    "\n",
    "Let's see how things have changed overtime with small multiples."
   ]
  },
  {
   "cell_type": "code",
   "execution_count": null,
   "metadata": {},
   "outputs": [],
   "source": [
    "import pandas as pd\n",
    "import geopandas as gpd\n",
    "import matplotlib.pyplot as plt\n",
    "import mapclassify\n",
    "import numpy as np\n",
    "import os"
   ]
  },
  {
   "cell_type": "markdown",
   "metadata": {},
   "source": [
    "First let's read in our data and our shapefile."
   ]
  },
  {
   "cell_type": "code",
   "execution_count": null,
   "metadata": {},
   "outputs": [],
   "source": [
    "df = pd.read_csv('data/opiate_deaths.csv', dtype={'INJURY_FIPS':str})\n",
    "\n",
    "mn_cnty = gpd.read_file('gis/tl_2015_mn_county/tl_2015_mn_county.shp')"
   ]
  },
  {
   "cell_type": "code",
   "execution_count": null,
   "metadata": {},
   "outputs": [],
   "source": [
    "df['DEATHDATE'] = pd.to_datetime(df['DEATHDATE'])\n",
    "df['death_year'] = df['DEATHDATE'].apply(lambda x: x.year)"
   ]
  },
  {
   "cell_type": "markdown",
   "metadata": {},
   "source": [
    "We need a list of all of the years we'll be using here."
   ]
  },
  {
   "cell_type": "code",
   "execution_count": null,
   "metadata": {
    "scrolled": true
   },
   "outputs": [],
   "source": [
    "year_list = df['death_year'].unique().tolist()\n",
    "year_list"
   ]
  },
  {
   "cell_type": "markdown",
   "metadata": {},
   "source": [
    "Now we need to create a pivot table so that we have a death count for each year and each county."
   ]
  },
  {
   "cell_type": "code",
   "execution_count": null,
   "metadata": {},
   "outputs": [],
   "source": [
    "by_yearcnty = pd.pivot_table(df, values='STATEID', index='INJURY_FIPS',\n",
    "                            columns=['death_year'], aggfunc='count').reset_index()\n",
    "by_yearcnty"
   ]
  },
  {
   "cell_type": "markdown",
   "metadata": {},
   "source": [
    "Next, we're going to merge our year-by-year county data with our shapefile. We join the _data to the shapefile_ instead of joining the _shapefile to the data_ so that all the counties will be represented on our maps, even if they don't have death data for a given year. Otherwise, we would have a swiss cheese map."
   ]
  },
  {
   "cell_type": "code",
   "execution_count": null,
   "metadata": {},
   "outputs": [],
   "source": [
    "yr_geodeaths = mn_cnty.merge(by_yearcnty, left_on='GEOID', right_on='INJURY_FIPS', how='left')\n",
    "\n",
    "yr_geodeaths = yr_geodeaths.fillna({2005:0,2006:0,2007:0,2008:0,2009:0,2010:0,\n",
    "                                   2011:0,2012:0,2013:0,2014:0,2015:0,\n",
    "                                   2016:0,2017:0})\n",
    "\n",
    "yr_geodeaths"
   ]
  },
  {
   "cell_type": "markdown",
   "metadata": {},
   "source": [
    "Now we're going to write a loop that will take each year in our `year_list` and grab the associated column in our pivot table data and map a map using that column."
   ]
  },
  {
   "cell_type": "code",
   "execution_count": null,
   "metadata": {},
   "outputs": [],
   "source": [
    "plt.figure(figsize=(20,15), facecolor='white')\n",
    "\n",
    "plot_number = 1\n",
    "for year in year_list:\n",
    "    year = year\n",
    "    # Inside of an image that's a 15x13 grid, put this\n",
    "    # graph in the in the plot_number slot.\n",
    "    ax = plt.subplot(4, 4, plot_number)\n",
    "    vmin = 0#yr_geodeaths[year].min\n",
    "    vmax = 10#yr_geodeaths[year].max\n",
    "    \n",
    "    yr_geodeaths.plot(column=year, cmap='Greens', linewidth=0.8, vmin=vmin, \n",
    "                      vmax=vmax, edgecolor='0.8',ax=ax, legend=True)\n",
    "    \n",
    "    ax.axis('off')\n",
    "    \n",
    "    ax.set_title(year, fontdict={'fontsize': '12', 'fontweight' : '3'})\n",
    "    plot_number = plot_number + 1\n",
    "plt"
   ]
  },
  {
   "cell_type": "markdown",
   "metadata": {},
   "source": [
    "There are a few things that are still wrong with this map... the max and min for each map has been manually set. Ideally, we would want to find the largest count of deaths for a given year+county combo and use that as the max. \n",
    "\n",
    "Also, we're using just the count of deaths instead of a rate which would be much more useful in determining changes over time."
   ]
  },
  {
   "cell_type": "code",
   "execution_count": null,
   "metadata": {},
   "outputs": [],
   "source": [
    "deaths_by_cnty = df[['INJURY_FIPS','STATEID','death_year']].groupby(['INJURY_FIPS','death_year']).count().reset_index().sort_values('STATEID', ascending=False)\n",
    "deaths_by_cnty['INJURY_FIPS'] = deaths_by_cnty['INJURY_FIPS'].astype(int).astype(str)\n",
    "deaths_by_cnty.rename(columns={'STATEID': 'death_count'}, inplace=True)\n",
    "\n",
    "# add county pop data\n",
    "cnty_pop = pd.read_csv('data/mn_cnty_pop_estimates.csv')\n",
    "cnty_pop['cnty_fips'] = cnty_pop['GEO_ID'].apply(lambda x: x[-5:])\n",
    "\n",
    "# create a new dataframe\n",
    "cnty_death_pop_merge = deaths_by_cnty.merge(cnty_pop, how='left',\n",
    "                                            left_on='INJURY_FIPS',\n",
    "                                            right_on='cnty_fips')\n",
    "\n",
    "# calculate death rate column per 1,000 residents\n",
    "cnty_death_pop_merge['death_rate'] = (cnty_death_pop_merge['death_count'] / cnty_death_pop_merge['total_pop'])*1000\n",
    "\n",
    "# replace those na values with 0s\n",
    "cnty_death_pop_merge.fillna(value={'death_rate': 0}, inplace=True)\n",
    "\n",
    "by_yearcnty = pd.pivot_table(cnty_death_pop_merge, values='death_rate', index='INJURY_FIPS',\n",
    "                            columns=['death_year'], aggfunc='sum').reset_index()\n",
    "\n",
    "yr_geodeaths = mn_cnty.merge(by_yearcnty, left_on='GEOID', right_on='INJURY_FIPS', how='left')\n",
    "\n",
    "yr_geodeaths = yr_geodeaths.fillna({2005:0,2006:0,2007:0,2008:0,2009:0,2010:0,\n",
    "                                   2011:0,2012:0,2013:0,2014:0,2015:0,\n",
    "                                   2016:0,2017:0})"
   ]
  },
  {
   "cell_type": "code",
   "execution_count": null,
   "metadata": {},
   "outputs": [],
   "source": [
    "yr_geodeaths.sort_values(2017, ascending=False)"
   ]
  },
  {
   "cell_type": "code",
   "execution_count": null,
   "metadata": {},
   "outputs": [],
   "source": [
    "plt.figure(figsize=(20,15), facecolor='white')\n",
    "\n",
    "plot_number = 1\n",
    "for year in year_list:\n",
    "    year = year\n",
    "    # Inside of an image that's a 15x13 grid, put this\n",
    "    # graph in the in the plot_number slot.\n",
    "    ax = plt.subplot(4, 4, plot_number)\n",
    "    vmin = 0#yr_geodeaths[year].min\n",
    "    vmax = 0.3#yr_geodeaths[year].max\n",
    "    \n",
    "    yr_geodeaths.plot(column=year, cmap='Greens', linewidth=0.8, vmin=vmin, \n",
    "                      vmax=vmax, edgecolor='0.8',ax=ax, legend=True)\n",
    "    \n",
    "    ax.axis('off')\n",
    "    \n",
    "    ax.set_title(year, fontdict={'fontsize': '12', 'fontweight' : '3'})\n",
    "    plot_number = plot_number + 1\n",
    "plt"
   ]
  },
  {
   "cell_type": "code",
   "execution_count": null,
   "metadata": {},
   "outputs": [],
   "source": []
  }
 ],
 "metadata": {
  "kernelspec": {
   "display_name": "Python 3",
   "language": "python",
   "name": "python3"
  },
  "language_info": {
   "codemirror_mode": {
    "name": "ipython",
    "version": 3
   },
   "file_extension": ".py",
   "mimetype": "text/x-python",
   "name": "python",
   "nbconvert_exporter": "python",
   "pygments_lexer": "ipython3",
   "version": "3.8.1"
  }
 },
 "nbformat": 4,
 "nbformat_minor": 4
}
